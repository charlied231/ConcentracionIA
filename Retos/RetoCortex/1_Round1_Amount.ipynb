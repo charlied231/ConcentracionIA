{
  "cells": [
    {
      "cell_type": "code",
      "source": [
        "from google.colab.data_table import DataTable\n",
        "DataTable.max_columns = 30"
      ],
      "metadata": {
        "id": "HXRUTj8a1bbJ"
      },
      "id": "HXRUTj8a1bbJ",
      "execution_count": null,
      "outputs": []
    },
    {
      "cell_type": "markdown",
      "id": "e6bf1264-7b5f-4f0e-a622-c308e40cb8be",
      "metadata": {
        "id": "e6bf1264-7b5f-4f0e-a622-c308e40cb8be"
      },
      "source": [
        "> Before playing the game, you need to connect to SASPy first.\n",
        ">\n",
        ">> If it is your first time, please follow the 4 steps mentioned below!"
      ]
    },
    {
      "cell_type": "markdown",
      "id": "44509e0a",
      "metadata": {
        "id": "44509e0a"
      },
      "source": [
        "![Python_logo](https://www.python.org/static/community_logos/python-logo-master-v3-TM.png)\n",
        "\n",
        "\n",
        "   # **Cortex Game: Round1--Amount**"
      ]
    },
    {
      "cell_type": "markdown",
      "id": "d1a48e10-b624-4430-9cd1-25869d600d71",
      "metadata": {
        "id": "d1a48e10-b624-4430-9cd1-25869d600d71"
      },
      "source": [
        "***\n",
        "## **Connect to SASPy**"
      ]
    },
    {
      "cell_type": "markdown",
      "source": [
        "**0- Connect to your Google Drive folder**"
      ],
      "metadata": {
        "id": "wgW_D1kOY6d6"
      },
      "id": "wgW_D1kOY6d6"
    },
    {
      "cell_type": "code",
      "source": [
        "my_folder = \"/content/drive/MyDrive/Carrera IFI/7o Semestre/Reto3\"\n",
        "\n",
        "from google.colab import drive\n",
        "drive.mount('/content/drive')\n",
        "\n",
        "# Change the following code to set your Drive folder\n",
        "import os\n",
        "os.chdir(my_folder)\n",
        "!pwd"
      ],
      "metadata": {
        "colab": {
          "base_uri": "https://localhost:8080/"
        },
        "id": "EqAV8e1WY45k",
        "outputId": "07c8fb20-5184-41f0-c380-2067b2df66ed"
      },
      "id": "EqAV8e1WY45k",
      "execution_count": null,
      "outputs": [
        {
          "output_type": "stream",
          "name": "stdout",
          "text": [
            "Mounted at /content/drive\n",
            "/content/drive/MyDrive/Carrera IFI/7o Semestre/Reto3\n"
          ]
        }
      ]
    },
    {
      "cell_type": "markdown",
      "id": "ec889f32",
      "metadata": {
        "id": "ec889f32"
      },
      "source": [
        "**1- Make sure that your Python version is 3.3 or higher as well as your Java version is 1.8.0_162 or higher**"
      ]
    },
    {
      "cell_type": "code",
      "execution_count": null,
      "id": "6d369a1a",
      "metadata": {
        "collapsed": true,
        "colab": {
          "base_uri": "https://localhost:8080/"
        },
        "id": "6d369a1a",
        "outputId": "2745da83-2891-49b0-86a8-513b1c49a245"
      },
      "outputs": [
        {
          "output_type": "stream",
          "name": "stdout",
          "text": [
            "Python is at /usr/local/bin/python\n",
            "Python 3.8.15\n"
          ]
        }
      ],
      "source": [
        "!echo \"Python is at\" $(which python)\n",
        "!python --version"
      ]
    },
    {
      "cell_type": "code",
      "source": [
        "!echo \"Java is at\" $(which java)\n",
        "!/usr/bin/java -version"
      ],
      "metadata": {
        "colab": {
          "base_uri": "https://localhost:8080/"
        },
        "id": "iNG5tchbZn5m",
        "outputId": "d5f0819e-298d-439e-d822-37c1a13c6785"
      },
      "id": "iNG5tchbZn5m",
      "execution_count": null,
      "outputs": [
        {
          "output_type": "stream",
          "name": "stdout",
          "text": [
            "Java is at /usr/bin/java\n",
            "openjdk version \"11.0.17\" 2022-10-18\n",
            "OpenJDK Runtime Environment (build 11.0.17+8-post-Ubuntu-1ubuntu218.04)\n",
            "OpenJDK 64-Bit Server VM (build 11.0.17+8-post-Ubuntu-1ubuntu218.04, mixed mode, sharing)\n"
          ]
        }
      ]
    },
    {
      "cell_type": "markdown",
      "id": "10e73c6f",
      "metadata": {
        "id": "10e73c6f"
      },
      "source": [
        "**2- Install SASPy**"
      ]
    },
    {
      "cell_type": "code",
      "execution_count": null,
      "id": "1c053af0",
      "metadata": {
        "collapsed": true,
        "colab": {
          "base_uri": "https://localhost:8080/"
        },
        "id": "1c053af0",
        "outputId": "3dd55636-6343-4e00-b56d-845f58bc67b6"
      },
      "outputs": [
        {
          "output_type": "stream",
          "name": "stdout",
          "text": [
            "Looking in indexes: https://pypi.org/simple, https://us-python.pkg.dev/colab-wheels/public/simple/\n",
            "Collecting saspy\n",
            "  Downloading saspy-4.4.1.tar.gz (9.9 MB)\n",
            "\u001b[K     |████████████████████████████████| 9.9 MB 2.7 MB/s \n",
            "\u001b[?25hBuilding wheels for collected packages: saspy\n",
            "  Building wheel for saspy (setup.py) ... \u001b[?25l\u001b[?25hdone\n",
            "  Created wheel for saspy: filename=saspy-4.4.1-py3-none-any.whl size=9937304 sha256=32959546fab072cbf105718afd10bb3c4bb9ce3994e50fd8532f7f2a79e0d9f9\n",
            "  Stored in directory: /root/.cache/pip/wheels/0a/f6/ab/f7173c8a824856c66f6fd50194bb8fd3ef93fb4f1824be8d0c\n",
            "Successfully built saspy\n",
            "Installing collected packages: saspy\n",
            "Successfully installed saspy-4.4.1\n"
          ]
        }
      ],
      "source": [
        "!pip install saspy"
      ]
    },
    {
      "cell_type": "markdown",
      "id": "9fb501a5",
      "metadata": {
        "id": "9fb501a5"
      },
      "source": [
        "**3- Create the configuration file \"sascfg_personal.py\"**\n",
        "Please, check that your Home Region is correct, you can check it at [ODA-SAS](https://welcome.oda.sas.com/home)"
      ]
    },
    {
      "cell_type": "code",
      "execution_count": null,
      "id": "c1a441c5-17c6-4818-841a-b87cf9a864f8",
      "metadata": {
        "collapsed": true,
        "tags": [],
        "colab": {
          "base_uri": "https://localhost:8080/"
        },
        "id": "c1a441c5-17c6-4818-841a-b87cf9a864f8",
        "outputId": "23b370f5-fb60-47e9-ac8c-c64a9decc972"
      },
      "outputs": [
        {
          "output_type": "stream",
          "name": "stdout",
          "text": [
            "Overwriting sascfg_personal.py\n"
          ]
        }
      ],
      "source": [
        "%%writefile sascfg_personal.py\n",
        "SAS_config_names=['oda']\n",
        "oda = {'java' : '/usr/bin/java',\n",
        "#US Home Region 1\n",
        "#'iomhost' : ['odaws01-usw2.oda.sas.com','odaws02-usw2.oda.sas.com','odaws03-usw2.oda.sas.com','odaws04-usw2.oda.sas.com'],\n",
        "#US Home Region 2\n",
        "'iomhost' : ['odaws01-usw2-2.oda.sas.com','odaws02-usw2-2.oda.sas.com'],\n",
        "#European Home Region 1\n",
        "#'iomhost' : ['odaws01-euw1.oda.sas.com','odaws02-euw1.oda.sas.com'],\n",
        "#Asia Pacific Home Region 1\n",
        "#'iomhost' : ['odaws01-apse1.oda.sas.com','odaws02-apse1.oda.sas.com'],\n",
        "#Asia Pacific Home Region 2\n",
        "#'iomhost' : ['odaws01-apse1-2.oda.sas.com','odaws02-apse1-2.oda.sas.com'],\n",
        "'iomport' : 8591,\n",
        "'authkey' : 'oda',\n",
        "'encoding' : 'utf-8'\n",
        "}"
      ]
    },
    {
      "cell_type": "markdown",
      "source": [
        "**4- Create your .authinfo**"
      ],
      "metadata": {
        "id": "nQ_YzHeRaWH8"
      },
      "id": "nQ_YzHeRaWH8"
    },
    {
      "cell_type": "markdown",
      "source": [
        "If there is no .authinfo file, you can create this"
      ],
      "metadata": {
        "id": "-RZAKpvL_eFC"
      },
      "id": "-RZAKpvL_eFC"
    },
    {
      "cell_type": "code",
      "source": [
        "#%%writefile .authinfo\n",
        "#oda user A01232543@tec.mx password 7315215Carlos."
      ],
      "metadata": {
        "id": "XZ4wlGJ2aT71"
      },
      "id": "XZ4wlGJ2aT71",
      "execution_count": null,
      "outputs": []
    },
    {
      "cell_type": "markdown",
      "source": [
        "Copy this file to home"
      ],
      "metadata": {
        "id": "001tNy2D_gA0"
      },
      "id": "001tNy2D_gA0"
    },
    {
      "cell_type": "code",
      "source": [
        "!cp .authinfo ~/.authinfo"
      ],
      "metadata": {
        "id": "KeduVWzNSoLr"
      },
      "id": "KeduVWzNSoLr",
      "execution_count": null,
      "outputs": []
    },
    {
      "cell_type": "markdown",
      "id": "11efebd8",
      "metadata": {
        "id": "11efebd8"
      },
      "source": [
        "**5- Establish Connection (Need to do this step each time you use SASPy)**"
      ]
    },
    {
      "cell_type": "code",
      "execution_count": null,
      "id": "413ecaba",
      "metadata": {
        "collapsed": true,
        "colab": {
          "base_uri": "https://localhost:8080/"
        },
        "id": "413ecaba",
        "outputId": "2715e872-cae7-4ae9-940a-e57096acc06d"
      },
      "outputs": [
        {
          "output_type": "stream",
          "name": "stdout",
          "text": [
            "Using SAS Config named: oda\n",
            "SAS Connection established. Subprocess id is 381\n",
            "\n"
          ]
        },
        {
          "output_type": "execute_result",
          "data": {
            "text/plain": [
              "Access Method         = IOM\n",
              "SAS Config name       = oda\n",
              "SAS Config file       = /content/drive/MyDrive/Carrera IFI/7o Semestre/Reto3/sascfg_personal.py\n",
              "WORK Path             = /saswork/SAS_work18F900005ECB_odaws01-usw2-2.oda.sas.com/SAS_work790100005ECB_odaws01-usw2-2.oda.sas.com/\n",
              "SAS Version           = 9.04.01M6P11072018\n",
              "SASPy Version         = 4.4.1\n",
              "Teach me SAS          = False\n",
              "Batch                 = False\n",
              "Results               = Pandas\n",
              "SAS Session Encoding  = utf-8\n",
              "Python Encoding value = utf-8\n",
              "SAS process Pid value = 24267\n"
            ]
          },
          "metadata": {},
          "execution_count": 10
        }
      ],
      "source": [
        "import saspy\n",
        "sas_session = saspy.SASsession(cfgfile=\"/content/drive/MyDrive/Carrera IFI/7o Semestre/Reto3/sascfg_personal.py\")\n",
        "sas_session"
      ]
    },
    {
      "cell_type": "markdown",
      "id": "719fb2db-4238-4892-aab6-757f696ccd57",
      "metadata": {
        "id": "719fb2db-4238-4892-aab6-757f696ccd57"
      },
      "source": [
        "***\n",
        "## Connect to Cortex Data Sets"
      ]
    },
    {
      "cell_type": "markdown",
      "id": "a9e40645",
      "metadata": {
        "id": "a9e40645"
      },
      "source": [
        "Load Cortex datasets from SAS Studio"
      ]
    },
    {
      "cell_type": "code",
      "source": [
        "ps = sas_session.submit(\"\"\"\n",
        "    libname cortex '~/my_shared_file_links/u39842936/Cortex Data Sets';\n",
        "    \"\"\")\n",
        "print(ps[\"LOG\"])"
      ],
      "metadata": {
        "colab": {
          "base_uri": "https://localhost:8080/"
        },
        "id": "e0OUk4FSX32H",
        "outputId": "91ece7be-fcf1-4ec2-9584-b78268785ba1"
      },
      "id": "e0OUk4FSX32H",
      "execution_count": null,
      "outputs": [
        {
          "output_type": "stream",
          "name": "stdout",
          "text": [
            "\n",
            "5                                                          The SAS System                      Friday, December  2, 2022 04:03:00 PM\n",
            "\n",
            "24         ods listing close;ods html5 (id=saspy_internal) file=_tomods1 options(bitmap_mode='inline') device=svg style=HTMLBlue;\n",
            "24       ! ods graphics on / outputfmt=png;\n",
            "25         \n",
            "26         \n",
            "27             libname cortex '~/my_shared_file_links/u39842936/Cortex Data Sets';\n",
            "28         \n",
            "29         \n",
            "30         \n",
            "31         ods html5 (id=saspy_internal) close;ods listing;\n",
            "32         \n",
            "\n",
            "6                                                          The SAS System                      Friday, December  2, 2022 04:03:00 PM\n",
            "\n",
            "33         \n"
          ]
        }
      ]
    },
    {
      "cell_type": "markdown",
      "source": [
        "For local Jupyter"
      ],
      "metadata": {
        "id": "CuFNXAEFYgyK"
      },
      "id": "CuFNXAEFYgyK"
    },
    {
      "cell_type": "code",
      "execution_count": null,
      "id": "5a99acdd",
      "metadata": {
        "collapsed": true,
        "id": "5a99acdd"
      },
      "outputs": [],
      "source": [
        "#%%SAS sas_session\n",
        "#libname cortex '~/my_shared_file_links/u39842936/Cortex Data Sets';"
      ]
    },
    {
      "cell_type": "markdown",
      "id": "907b9c04",
      "metadata": {
        "id": "907b9c04"
      },
      "source": [
        "## Transform cloud SAS dataset to Python dataframe (pandas)\n",
        "\n",
        "\n",
        "> **For reference**:\n",
        "\n",
        "> 1. [Pandas library](https://pandas.pydata.org/docs/user_guide/index.html)\n",
        "\n",
        "> 2. [sklearn.model_selection for data partition](https://scikit-learn.org/stable/modules/generated/sklearn.model_selection.train_test_split.html)\n"
      ]
    },
    {
      "cell_type": "code",
      "execution_count": null,
      "id": "9ee94088",
      "metadata": {
        "id": "9ee94088"
      },
      "outputs": [],
      "source": [
        "import pandas as pd\n",
        "\n",
        "data1 = sas_session.sasdata2dataframe(\n",
        "table='hist',\n",
        "libref='cortex'\n",
        ")\n",
        "\n",
        "data2 = sas_session.sasdata2dataframe(\n",
        "table='target_rd1',\n",
        "libref='cortex'\n",
        ")"
      ]
    },
    {
      "cell_type": "markdown",
      "id": "a776622a-bd69-46fe-a704-f84e750baae9",
      "metadata": {
        "id": "a776622a-bd69-46fe-a704-f84e750baae9"
      },
      "source": [
        "## Merge the Data"
      ]
    },
    {
      "cell_type": "code",
      "execution_count": null,
      "id": "ee3751bb-a1e1-4287-ad3a-625e9140302f",
      "metadata": {
        "collapsed": true,
        "id": "ee3751bb-a1e1-4287-ad3a-625e9140302f"
      },
      "outputs": [],
      "source": [
        "data_merge = pd.merge(data1, data2, on=[\"ID\"],how=\"right\")\n",
        "data_merge.sample(20)\n",
        "\n",
        "data_merge.rename(columns={\"City\": \"Location\"}, inplace = True)\n",
        "#data_merge.head()\n"
      ]
    },
    {
      "cell_type": "code",
      "source": [
        "#data = data_merge.sort_values(by=['AmtThisYear'],ascending=False)\n",
        "#data.to_csv(\"Data.csv\")\n",
        "\n"
      ],
      "metadata": {
        "id": "PNjHC5QWGJcV"
      },
      "id": "PNjHC5QWGJcV",
      "execution_count": null,
      "outputs": []
    },
    {
      "cell_type": "code",
      "source": [
        "data_merge[\"Recency\"].describe()"
      ],
      "metadata": {
        "colab": {
          "base_uri": "https://localhost:8080/"
        },
        "id": "zUDeVsSIxXDk",
        "outputId": "a78a8dcd-a6d7-4687-c072-dbb5fea1f0f2"
      },
      "id": "zUDeVsSIxXDk",
      "execution_count": null,
      "outputs": [
        {
          "output_type": "execute_result",
          "data": {
            "text/plain": [
              "count    336334.000000\n",
              "mean          3.039636\n",
              "std           2.120722\n",
              "min           1.000000\n",
              "25%           1.000000\n",
              "50%           2.000000\n",
              "75%           4.000000\n",
              "max          10.000000\n",
              "Name: Recency, dtype: float64"
            ]
          },
          "metadata": {},
          "execution_count": 16
        }
      ]
    },
    {
      "cell_type": "code",
      "source": [
        "data_merge.groupby(\"Location\")['AmtThisYear'].describe()\n"
      ],
      "metadata": {
        "colab": {
          "base_uri": "https://localhost:8080/",
          "height": 206
        },
        "id": "TLj_TrGF4nLh",
        "outputId": "4c022df5-0d4f-4482-aa36-c19804000b29"
      },
      "id": "TLj_TrGF4nLh",
      "execution_count": null,
      "outputs": [
        {
          "output_type": "execute_result",
          "data": {
            "text/plain": [
              "             count      mean         std  min  25%  50%  75%      max\n",
              "Location                                                             \n",
              "City      332657.0  8.543485   84.645490  0.0  0.0  0.0  0.0  10000.0\n",
              "Downtown  156694.0  9.564916  100.470585  0.0  0.0  0.0  0.0  10000.0\n",
              "Rural     197978.0  4.983685   58.407038  0.0  0.0  0.0  0.0  10000.0\n",
              "Suburban  312671.0  7.719312   85.104436  0.0  0.0  0.0  0.0  10000.0"
            ],
            "text/html": [
              "\n",
              "  <div id=\"df-12c71594-c16e-4119-b52f-b0a01f703ddf\">\n",
              "    <div class=\"colab-df-container\">\n",
              "      <div>\n",
              "<style scoped>\n",
              "    .dataframe tbody tr th:only-of-type {\n",
              "        vertical-align: middle;\n",
              "    }\n",
              "\n",
              "    .dataframe tbody tr th {\n",
              "        vertical-align: top;\n",
              "    }\n",
              "\n",
              "    .dataframe thead th {\n",
              "        text-align: right;\n",
              "    }\n",
              "</style>\n",
              "<table border=\"1\" class=\"dataframe\">\n",
              "  <thead>\n",
              "    <tr style=\"text-align: right;\">\n",
              "      <th></th>\n",
              "      <th>count</th>\n",
              "      <th>mean</th>\n",
              "      <th>std</th>\n",
              "      <th>min</th>\n",
              "      <th>25%</th>\n",
              "      <th>50%</th>\n",
              "      <th>75%</th>\n",
              "      <th>max</th>\n",
              "    </tr>\n",
              "    <tr>\n",
              "      <th>Location</th>\n",
              "      <th></th>\n",
              "      <th></th>\n",
              "      <th></th>\n",
              "      <th></th>\n",
              "      <th></th>\n",
              "      <th></th>\n",
              "      <th></th>\n",
              "      <th></th>\n",
              "    </tr>\n",
              "  </thead>\n",
              "  <tbody>\n",
              "    <tr>\n",
              "      <th>City</th>\n",
              "      <td>332657.0</td>\n",
              "      <td>8.543485</td>\n",
              "      <td>84.645490</td>\n",
              "      <td>0.0</td>\n",
              "      <td>0.0</td>\n",
              "      <td>0.0</td>\n",
              "      <td>0.0</td>\n",
              "      <td>10000.0</td>\n",
              "    </tr>\n",
              "    <tr>\n",
              "      <th>Downtown</th>\n",
              "      <td>156694.0</td>\n",
              "      <td>9.564916</td>\n",
              "      <td>100.470585</td>\n",
              "      <td>0.0</td>\n",
              "      <td>0.0</td>\n",
              "      <td>0.0</td>\n",
              "      <td>0.0</td>\n",
              "      <td>10000.0</td>\n",
              "    </tr>\n",
              "    <tr>\n",
              "      <th>Rural</th>\n",
              "      <td>197978.0</td>\n",
              "      <td>4.983685</td>\n",
              "      <td>58.407038</td>\n",
              "      <td>0.0</td>\n",
              "      <td>0.0</td>\n",
              "      <td>0.0</td>\n",
              "      <td>0.0</td>\n",
              "      <td>10000.0</td>\n",
              "    </tr>\n",
              "    <tr>\n",
              "      <th>Suburban</th>\n",
              "      <td>312671.0</td>\n",
              "      <td>7.719312</td>\n",
              "      <td>85.104436</td>\n",
              "      <td>0.0</td>\n",
              "      <td>0.0</td>\n",
              "      <td>0.0</td>\n",
              "      <td>0.0</td>\n",
              "      <td>10000.0</td>\n",
              "    </tr>\n",
              "  </tbody>\n",
              "</table>\n",
              "</div>\n",
              "      <button class=\"colab-df-convert\" onclick=\"convertToInteractive('df-12c71594-c16e-4119-b52f-b0a01f703ddf')\"\n",
              "              title=\"Convert this dataframe to an interactive table.\"\n",
              "              style=\"display:none;\">\n",
              "        \n",
              "  <svg xmlns=\"http://www.w3.org/2000/svg\" height=\"24px\"viewBox=\"0 0 24 24\"\n",
              "       width=\"24px\">\n",
              "    <path d=\"M0 0h24v24H0V0z\" fill=\"none\"/>\n",
              "    <path d=\"M18.56 5.44l.94 2.06.94-2.06 2.06-.94-2.06-.94-.94-2.06-.94 2.06-2.06.94zm-11 1L8.5 8.5l.94-2.06 2.06-.94-2.06-.94L8.5 2.5l-.94 2.06-2.06.94zm10 10l.94 2.06.94-2.06 2.06-.94-2.06-.94-.94-2.06-.94 2.06-2.06.94z\"/><path d=\"M17.41 7.96l-1.37-1.37c-.4-.4-.92-.59-1.43-.59-.52 0-1.04.2-1.43.59L10.3 9.45l-7.72 7.72c-.78.78-.78 2.05 0 2.83L4 21.41c.39.39.9.59 1.41.59.51 0 1.02-.2 1.41-.59l7.78-7.78 2.81-2.81c.8-.78.8-2.07 0-2.86zM5.41 20L4 18.59l7.72-7.72 1.47 1.35L5.41 20z\"/>\n",
              "  </svg>\n",
              "      </button>\n",
              "      \n",
              "  <style>\n",
              "    .colab-df-container {\n",
              "      display:flex;\n",
              "      flex-wrap:wrap;\n",
              "      gap: 12px;\n",
              "    }\n",
              "\n",
              "    .colab-df-convert {\n",
              "      background-color: #E8F0FE;\n",
              "      border: none;\n",
              "      border-radius: 50%;\n",
              "      cursor: pointer;\n",
              "      display: none;\n",
              "      fill: #1967D2;\n",
              "      height: 32px;\n",
              "      padding: 0 0 0 0;\n",
              "      width: 32px;\n",
              "    }\n",
              "\n",
              "    .colab-df-convert:hover {\n",
              "      background-color: #E2EBFA;\n",
              "      box-shadow: 0px 1px 2px rgba(60, 64, 67, 0.3), 0px 1px 3px 1px rgba(60, 64, 67, 0.15);\n",
              "      fill: #174EA6;\n",
              "    }\n",
              "\n",
              "    [theme=dark] .colab-df-convert {\n",
              "      background-color: #3B4455;\n",
              "      fill: #D2E3FC;\n",
              "    }\n",
              "\n",
              "    [theme=dark] .colab-df-convert:hover {\n",
              "      background-color: #434B5C;\n",
              "      box-shadow: 0px 1px 3px 1px rgba(0, 0, 0, 0.15);\n",
              "      filter: drop-shadow(0px 1px 2px rgba(0, 0, 0, 0.3));\n",
              "      fill: #FFFFFF;\n",
              "    }\n",
              "  </style>\n",
              "\n",
              "      <script>\n",
              "        const buttonEl =\n",
              "          document.querySelector('#df-12c71594-c16e-4119-b52f-b0a01f703ddf button.colab-df-convert');\n",
              "        buttonEl.style.display =\n",
              "          google.colab.kernel.accessAllowed ? 'block' : 'none';\n",
              "\n",
              "        async function convertToInteractive(key) {\n",
              "          const element = document.querySelector('#df-12c71594-c16e-4119-b52f-b0a01f703ddf');\n",
              "          const dataTable =\n",
              "            await google.colab.kernel.invokeFunction('convertToInteractive',\n",
              "                                                     [key], {});\n",
              "          if (!dataTable) return;\n",
              "\n",
              "          const docLinkHtml = 'Like what you see? Visit the ' +\n",
              "            '<a target=\"_blank\" href=https://colab.research.google.com/notebooks/data_table.ipynb>data table notebook</a>'\n",
              "            + ' to learn more about interactive tables.';\n",
              "          element.innerHTML = '';\n",
              "          dataTable['output_type'] = 'display_data';\n",
              "          await google.colab.output.renderOutput(dataTable, element);\n",
              "          const docLink = document.createElement('div');\n",
              "          docLink.innerHTML = docLinkHtml;\n",
              "          element.appendChild(docLink);\n",
              "        }\n",
              "      </script>\n",
              "    </div>\n",
              "  </div>\n",
              "  "
            ]
          },
          "metadata": {},
          "execution_count": 17
        }
      ]
    },
    {
      "cell_type": "markdown",
      "source": [
        "## Data Exploration"
      ],
      "metadata": {
        "id": "PbdRyUD1tzbV"
      },
      "id": "PbdRyUD1tzbV"
    },
    {
      "cell_type": "code",
      "source": [
        "data_merge.info()"
      ],
      "metadata": {
        "colab": {
          "base_uri": "https://localhost:8080/"
        },
        "id": "pq62fAgFtyKW",
        "outputId": "97a6dcf9-7975-4db1-b58c-a03578eeb7ca"
      },
      "id": "pq62fAgFtyKW",
      "execution_count": null,
      "outputs": [
        {
          "output_type": "stream",
          "name": "stdout",
          "text": [
            "<class 'pandas.core.frame.DataFrame'>\n",
            "Int64Index: 1000000 entries, 0 to 999999\n",
            "Data columns (total 21 columns):\n",
            " #   Column        Non-Null Count    Dtype  \n",
            "---  ------        --------------    -----  \n",
            " 0   ID            1000000 non-null  float64\n",
            " 1   LastName      999977 non-null   object \n",
            " 2   FirstName     999996 non-null   object \n",
            " 3   Woman         1000000 non-null  float64\n",
            " 4   Age           1000000 non-null  float64\n",
            " 5   Salary        1000000 non-null  float64\n",
            " 6   Education     1000000 non-null  object \n",
            " 7   Location      1000000 non-null  object \n",
            " 8   SeniorList    1000000 non-null  float64\n",
            " 9   NbActivities  1000000 non-null  float64\n",
            " 10  Referrals     1000000 non-null  float64\n",
            " 11  Recency       336334 non-null   float64\n",
            " 12  Frequency     336334 non-null   float64\n",
            " 13  Seniority     336334 non-null   float64\n",
            " 14  TotalGift     336334 non-null   float64\n",
            " 15  MinGift       336334 non-null   float64\n",
            " 16  MaxGift       336334 non-null   float64\n",
            " 17  GaveLastYear  1000000 non-null  float64\n",
            " 18  AmtLastYear   1000000 non-null  float64\n",
            " 19  GaveThisYear  1000000 non-null  float64\n",
            " 20  AmtThisYear   1000000 non-null  float64\n",
            "dtypes: float64(17), object(4)\n",
            "memory usage: 167.8+ MB\n"
          ]
        }
      ]
    },
    {
      "cell_type": "code",
      "source": [
        "def dummies(df, column):\n",
        "  df = pd.concat([df, pd.get_dummies(df[column])], axis = 1)\n",
        "  return df.drop(column, axis=1)\n",
        "\n",
        "data_mergeX = dummies(data_merge, \"Education\")\n",
        "data_mergeX = dummies(data_mergeX, \"Location\")"
      ],
      "metadata": {
        "id": "HMWwUcmInj5C"
      },
      "id": "HMWwUcmInj5C",
      "execution_count": null,
      "outputs": []
    },
    {
      "cell_type": "code",
      "source": [
        "#data_mergeX.drop(columns = ([\"LastName\", \"FirstName\", \"SeniorList\", \"Recency\", \"GaveLastYear\", \"GaveThisYear\", \"AmtThisYear\"]), inplace = True)\n"
      ],
      "metadata": {
        "id": "NjWg3rWNouPi"
      },
      "id": "NjWg3rWNouPi",
      "execution_count": null,
      "outputs": []
    },
    {
      "cell_type": "code",
      "source": [
        "data_mergeX.info()"
      ],
      "metadata": {
        "colab": {
          "base_uri": "https://localhost:8080/"
        },
        "id": "pFZi5Re8oC-F",
        "outputId": "029f805b-7a72-489d-8700-c1756161a6b2"
      },
      "id": "pFZi5Re8oC-F",
      "execution_count": null,
      "outputs": [
        {
          "output_type": "stream",
          "name": "stdout",
          "text": [
            "<class 'pandas.core.frame.DataFrame'>\n",
            "Int64Index: 1000000 entries, 0 to 999999\n",
            "Data columns (total 26 columns):\n",
            " #   Column                Non-Null Count    Dtype  \n",
            "---  ------                --------------    -----  \n",
            " 0   ID                    1000000 non-null  float64\n",
            " 1   LastName              999977 non-null   object \n",
            " 2   FirstName             999996 non-null   object \n",
            " 3   Woman                 1000000 non-null  float64\n",
            " 4   Age                   1000000 non-null  float64\n",
            " 5   Salary                1000000 non-null  float64\n",
            " 6   SeniorList            1000000 non-null  float64\n",
            " 7   NbActivities          1000000 non-null  float64\n",
            " 8   Referrals             1000000 non-null  float64\n",
            " 9   Recency               336334 non-null   float64\n",
            " 10  Frequency             336334 non-null   float64\n",
            " 11  Seniority             336334 non-null   float64\n",
            " 12  TotalGift             336334 non-null   float64\n",
            " 13  MinGift               336334 non-null   float64\n",
            " 14  MaxGift               336334 non-null   float64\n",
            " 15  GaveLastYear          1000000 non-null  float64\n",
            " 16  AmtLastYear           1000000 non-null  float64\n",
            " 17  GaveThisYear          1000000 non-null  float64\n",
            " 18  AmtThisYear           1000000 non-null  float64\n",
            " 19  Elementary            1000000 non-null  uint8  \n",
            " 20  High School           1000000 non-null  uint8  \n",
            " 21  University / College  1000000 non-null  uint8  \n",
            " 22  City                  1000000 non-null  uint8  \n",
            " 23  Downtown              1000000 non-null  uint8  \n",
            " 24  Rural                 1000000 non-null  uint8  \n",
            " 25  Suburban              1000000 non-null  uint8  \n",
            "dtypes: float64(17), object(2), uint8(7)\n",
            "memory usage: 159.3+ MB\n"
          ]
        }
      ]
    },
    {
      "cell_type": "code",
      "source": [
        "import matplotlib.pyplot as plt\n",
        "import seaborn as sns"
      ],
      "metadata": {
        "id": "AnVr4v4L0rFf"
      },
      "id": "AnVr4v4L0rFf",
      "execution_count": null,
      "outputs": []
    },
    {
      "cell_type": "markdown",
      "id": "11f80a12-8482-4d72-8c10-656f5d1fe657",
      "metadata": {
        "id": "11f80a12-8482-4d72-8c10-656f5d1fe657"
      },
      "source": [
        "## Treat Missing Values\n",
        "\n",
        "> Please be aware that deleting all missing values can induce a selection bias. \n",
        "Some missing values are very informative. For example, when MinGift is missing, it means that the donor never gave in the past 10 years (leading to but excluding last year). Instead of deleting this information, replacing it by 0 is more appropriate!\n",
        "\n",
        "> A good understanding of the business case and the data can help you come up with more appropriate strategies to deal with missing values.\n"
      ]
    },
    {
      "cell_type": "code",
      "execution_count": null,
      "id": "9342cca8",
      "metadata": {
        "collapsed": true,
        "id": "9342cca8",
        "outputId": "651c02c8-b62c-42fc-99f9-128f1c044e23",
        "colab": {
          "base_uri": "https://localhost:8080/",
          "height": 254
        }
      },
      "outputs": [
        {
          "output_type": "execute_result",
          "data": {
            "text/plain": [
              "               ID   LastName FirstName  Woman   Age   Salary  SeniorList  \\\n",
              "901934  2901935.0   WILLIAMS      PAUL    0.0  49.0  60300.0         5.0   \n",
              "948328  2948329.0      AYBAR   TIMOTHY    0.0  47.0  27600.0         8.0   \n",
              "319729  2319730.0  HENDERSON  CLIFFORD    0.0  39.0  57000.0         9.0   \n",
              "\n",
              "        NbActivities  Referrals  Recency  ...  GaveThisYear  AmtThisYear  \\\n",
              "901934           4.0        1.0      3.0  ...           1.0         60.0   \n",
              "948328           2.0        3.0      2.0  ...           0.0          0.0   \n",
              "319729           0.0        0.0      0.0  ...           0.0          0.0   \n",
              "\n",
              "        Elementary  High School  University / College  City  Downtown  Rural  \\\n",
              "901934           0            0                     1     1         0      0   \n",
              "948328           0            0                     1     0         0      0   \n",
              "319729           0            0                     1     0         0      0   \n",
              "\n",
              "        Suburban  HistoricDonor  \n",
              "901934         0              1  \n",
              "948328         1              1  \n",
              "319729         1              0  \n",
              "\n",
              "[3 rows x 27 columns]"
            ],
            "text/html": [
              "\n",
              "  <div id=\"df-547fd732-6d51-4c97-a709-186a9169c8a7\">\n",
              "    <div class=\"colab-df-container\">\n",
              "      <div>\n",
              "<style scoped>\n",
              "    .dataframe tbody tr th:only-of-type {\n",
              "        vertical-align: middle;\n",
              "    }\n",
              "\n",
              "    .dataframe tbody tr th {\n",
              "        vertical-align: top;\n",
              "    }\n",
              "\n",
              "    .dataframe thead th {\n",
              "        text-align: right;\n",
              "    }\n",
              "</style>\n",
              "<table border=\"1\" class=\"dataframe\">\n",
              "  <thead>\n",
              "    <tr style=\"text-align: right;\">\n",
              "      <th></th>\n",
              "      <th>ID</th>\n",
              "      <th>LastName</th>\n",
              "      <th>FirstName</th>\n",
              "      <th>Woman</th>\n",
              "      <th>Age</th>\n",
              "      <th>Salary</th>\n",
              "      <th>SeniorList</th>\n",
              "      <th>NbActivities</th>\n",
              "      <th>Referrals</th>\n",
              "      <th>Recency</th>\n",
              "      <th>...</th>\n",
              "      <th>GaveThisYear</th>\n",
              "      <th>AmtThisYear</th>\n",
              "      <th>Elementary</th>\n",
              "      <th>High School</th>\n",
              "      <th>University / College</th>\n",
              "      <th>City</th>\n",
              "      <th>Downtown</th>\n",
              "      <th>Rural</th>\n",
              "      <th>Suburban</th>\n",
              "      <th>HistoricDonor</th>\n",
              "    </tr>\n",
              "  </thead>\n",
              "  <tbody>\n",
              "    <tr>\n",
              "      <th>901934</th>\n",
              "      <td>2901935.0</td>\n",
              "      <td>WILLIAMS</td>\n",
              "      <td>PAUL</td>\n",
              "      <td>0.0</td>\n",
              "      <td>49.0</td>\n",
              "      <td>60300.0</td>\n",
              "      <td>5.0</td>\n",
              "      <td>4.0</td>\n",
              "      <td>1.0</td>\n",
              "      <td>3.0</td>\n",
              "      <td>...</td>\n",
              "      <td>1.0</td>\n",
              "      <td>60.0</td>\n",
              "      <td>0</td>\n",
              "      <td>0</td>\n",
              "      <td>1</td>\n",
              "      <td>1</td>\n",
              "      <td>0</td>\n",
              "      <td>0</td>\n",
              "      <td>0</td>\n",
              "      <td>1</td>\n",
              "    </tr>\n",
              "    <tr>\n",
              "      <th>948328</th>\n",
              "      <td>2948329.0</td>\n",
              "      <td>AYBAR</td>\n",
              "      <td>TIMOTHY</td>\n",
              "      <td>0.0</td>\n",
              "      <td>47.0</td>\n",
              "      <td>27600.0</td>\n",
              "      <td>8.0</td>\n",
              "      <td>2.0</td>\n",
              "      <td>3.0</td>\n",
              "      <td>2.0</td>\n",
              "      <td>...</td>\n",
              "      <td>0.0</td>\n",
              "      <td>0.0</td>\n",
              "      <td>0</td>\n",
              "      <td>0</td>\n",
              "      <td>1</td>\n",
              "      <td>0</td>\n",
              "      <td>0</td>\n",
              "      <td>0</td>\n",
              "      <td>1</td>\n",
              "      <td>1</td>\n",
              "    </tr>\n",
              "    <tr>\n",
              "      <th>319729</th>\n",
              "      <td>2319730.0</td>\n",
              "      <td>HENDERSON</td>\n",
              "      <td>CLIFFORD</td>\n",
              "      <td>0.0</td>\n",
              "      <td>39.0</td>\n",
              "      <td>57000.0</td>\n",
              "      <td>9.0</td>\n",
              "      <td>0.0</td>\n",
              "      <td>0.0</td>\n",
              "      <td>0.0</td>\n",
              "      <td>...</td>\n",
              "      <td>0.0</td>\n",
              "      <td>0.0</td>\n",
              "      <td>0</td>\n",
              "      <td>0</td>\n",
              "      <td>1</td>\n",
              "      <td>0</td>\n",
              "      <td>0</td>\n",
              "      <td>0</td>\n",
              "      <td>1</td>\n",
              "      <td>0</td>\n",
              "    </tr>\n",
              "  </tbody>\n",
              "</table>\n",
              "<p>3 rows × 27 columns</p>\n",
              "</div>\n",
              "      <button class=\"colab-df-convert\" onclick=\"convertToInteractive('df-547fd732-6d51-4c97-a709-186a9169c8a7')\"\n",
              "              title=\"Convert this dataframe to an interactive table.\"\n",
              "              style=\"display:none;\">\n",
              "        \n",
              "  <svg xmlns=\"http://www.w3.org/2000/svg\" height=\"24px\"viewBox=\"0 0 24 24\"\n",
              "       width=\"24px\">\n",
              "    <path d=\"M0 0h24v24H0V0z\" fill=\"none\"/>\n",
              "    <path d=\"M18.56 5.44l.94 2.06.94-2.06 2.06-.94-2.06-.94-.94-2.06-.94 2.06-2.06.94zm-11 1L8.5 8.5l.94-2.06 2.06-.94-2.06-.94L8.5 2.5l-.94 2.06-2.06.94zm10 10l.94 2.06.94-2.06 2.06-.94-2.06-.94-.94-2.06-.94 2.06-2.06.94z\"/><path d=\"M17.41 7.96l-1.37-1.37c-.4-.4-.92-.59-1.43-.59-.52 0-1.04.2-1.43.59L10.3 9.45l-7.72 7.72c-.78.78-.78 2.05 0 2.83L4 21.41c.39.39.9.59 1.41.59.51 0 1.02-.2 1.41-.59l7.78-7.78 2.81-2.81c.8-.78.8-2.07 0-2.86zM5.41 20L4 18.59l7.72-7.72 1.47 1.35L5.41 20z\"/>\n",
              "  </svg>\n",
              "      </button>\n",
              "      \n",
              "  <style>\n",
              "    .colab-df-container {\n",
              "      display:flex;\n",
              "      flex-wrap:wrap;\n",
              "      gap: 12px;\n",
              "    }\n",
              "\n",
              "    .colab-df-convert {\n",
              "      background-color: #E8F0FE;\n",
              "      border: none;\n",
              "      border-radius: 50%;\n",
              "      cursor: pointer;\n",
              "      display: none;\n",
              "      fill: #1967D2;\n",
              "      height: 32px;\n",
              "      padding: 0 0 0 0;\n",
              "      width: 32px;\n",
              "    }\n",
              "\n",
              "    .colab-df-convert:hover {\n",
              "      background-color: #E2EBFA;\n",
              "      box-shadow: 0px 1px 2px rgba(60, 64, 67, 0.3), 0px 1px 3px 1px rgba(60, 64, 67, 0.15);\n",
              "      fill: #174EA6;\n",
              "    }\n",
              "\n",
              "    [theme=dark] .colab-df-convert {\n",
              "      background-color: #3B4455;\n",
              "      fill: #D2E3FC;\n",
              "    }\n",
              "\n",
              "    [theme=dark] .colab-df-convert:hover {\n",
              "      background-color: #434B5C;\n",
              "      box-shadow: 0px 1px 3px 1px rgba(0, 0, 0, 0.15);\n",
              "      filter: drop-shadow(0px 1px 2px rgba(0, 0, 0, 0.3));\n",
              "      fill: #FFFFFF;\n",
              "    }\n",
              "  </style>\n",
              "\n",
              "      <script>\n",
              "        const buttonEl =\n",
              "          document.querySelector('#df-547fd732-6d51-4c97-a709-186a9169c8a7 button.colab-df-convert');\n",
              "        buttonEl.style.display =\n",
              "          google.colab.kernel.accessAllowed ? 'block' : 'none';\n",
              "\n",
              "        async function convertToInteractive(key) {\n",
              "          const element = document.querySelector('#df-547fd732-6d51-4c97-a709-186a9169c8a7');\n",
              "          const dataTable =\n",
              "            await google.colab.kernel.invokeFunction('convertToInteractive',\n",
              "                                                     [key], {});\n",
              "          if (!dataTable) return;\n",
              "\n",
              "          const docLinkHtml = 'Like what you see? Visit the ' +\n",
              "            '<a target=\"_blank\" href=https://colab.research.google.com/notebooks/data_table.ipynb>data table notebook</a>'\n",
              "            + ' to learn more about interactive tables.';\n",
              "          element.innerHTML = '';\n",
              "          dataTable['output_type'] = 'display_data';\n",
              "          await google.colab.output.renderOutput(dataTable, element);\n",
              "          const docLink = document.createElement('div');\n",
              "          docLink.innerHTML = docLinkHtml;\n",
              "          element.appendChild(docLink);\n",
              "        }\n",
              "      </script>\n",
              "    </div>\n",
              "  </div>\n",
              "  "
            ]
          },
          "metadata": {},
          "execution_count": 22
        }
      ],
      "source": [
        "# In this case, we are replacing MinGift by 0.\n",
        "# You can do the same for what you think is reasonable for dealing with the other variables.\n",
        "\n",
        "data_mergeX[['MinGift']] = data_merge[['MinGift']].fillna(value=0)  \n",
        "\n",
        "data_mergeX[['HistoricDonor']] = data_merge[['Frequency']].notna().astype(int)\n",
        "data_mergeX[['Frequency']] = data_merge[['Frequency']].fillna(value=0)  \n",
        "data_mergeX[['Recency']] = data_merge[['Frequency']].fillna(value=0)  \n",
        "\n",
        "data_mergeX[['TotalGift']] = data_merge[['TotalGift']].fillna(value=0)  \n",
        "\n",
        "\n",
        "data_mergeX.sample(3)"
      ]
    },
    {
      "cell_type": "code",
      "source": [
        "#data_mergeX.groupby(\"HistoricDonor\")['AmtThisYear'].describe()\n"
      ],
      "metadata": {
        "id": "zh8zNJPn2DNQ"
      },
      "id": "zh8zNJPn2DNQ",
      "execution_count": null,
      "outputs": []
    },
    {
      "cell_type": "code",
      "source": [
        "plt.figure(figsize=(20,20))\n",
        "sns.heatmap(data_mergeX.corr(), cmap=\"RdYlBu\", \n",
        "    annot=True, square=True,\n",
        "    vmin=-1, vmax=1, fmt=\"+.3f\")\n",
        "plt.title(\"Correlation matrix for the dataset\")"
      ],
      "metadata": {
        "colab": {
          "base_uri": "https://localhost:8080/",
          "height": 1000
        },
        "id": "rqk_Ip9n2VGV",
        "outputId": "28e759b5-ec50-4a64-e502-9cfea09c24de"
      },
      "id": "rqk_Ip9n2VGV",
      "execution_count": null,
      "outputs": [
        {
          "output_type": "execute_result",
          "data": {
            "text/plain": [
              "Text(0.5, 1.0, 'Correlation matrix for the dataset')"
            ]
          },
          "metadata": {},
          "execution_count": 24
        },
        {
          "output_type": "display_data",
          "data": {
            "text/plain": [
              "<Figure size 1440x1440 with 2 Axes>"
            ],
            "image/png": "[encoded data removed]"
          },
          "metadata": {
            "needs_background": "light"
          }
        }
      ]
    },
    {
      "cell_type": "markdown",
      "id": "9b861046-5968-4601-bd4b-b6510f1bf5b9",
      "metadata": {
        "id": "9b861046-5968-4601-bd4b-b6510f1bf5b9"
      },
      "source": [
        "## Data Partition"
      ]
    },
    {
      "cell_type": "code",
      "execution_count": null,
      "id": "f4bf6498-b18c-400d-9202-bb466d1272df",
      "metadata": {
        "collapsed": true,
        "id": "f4bf6498-b18c-400d-9202-bb466d1272df",
        "outputId": "bca6227e-5772-4c11-bd66-857602d9820f",
        "colab": {
          "base_uri": "https://localhost:8080/",
          "height": 223
        }
      },
      "outputs": [
        {
          "output_type": "execute_result",
          "data": {
            "text/plain": [
              "               ID   LastName FirstName  Woman   Age    Salary  SeniorList  \\\n",
              "451140  2451141.0   ESPINOSA    DENISE    1.0  41.0  128900.0         8.0   \n",
              "911162  2911163.0  GRIFFITHS   RAYMOND    0.0  41.0   23900.0         7.0   \n",
              "\n",
              "        NbActivities  Referrals  Recency  ...  GaveThisYear  AmtThisYear  \\\n",
              "451140           3.0        2.0      2.0  ...           0.0          0.0   \n",
              "911162           0.0        0.0      3.0  ...           0.0          0.0   \n",
              "\n",
              "        Elementary  High School  University / College  City  Downtown  Rural  \\\n",
              "451140           0            0                     1     1         0      0   \n",
              "911162           0            1                     0     0         0      0   \n",
              "\n",
              "        Suburban  HistoricDonor  \n",
              "451140         0              1  \n",
              "911162         1              1  \n",
              "\n",
              "[2 rows x 27 columns]"
            ],
            "text/html": [
              "\n",
              "  <div id=\"df-3ceeceaf-5971-40db-bdf2-ab0cd8dd177e\">\n",
              "    <div class=\"colab-df-container\">\n",
              "      <div>\n",
              "<style scoped>\n",
              "    .dataframe tbody tr th:only-of-type {\n",
              "        vertical-align: middle;\n",
              "    }\n",
              "\n",
              "    .dataframe tbody tr th {\n",
              "        vertical-align: top;\n",
              "    }\n",
              "\n",
              "    .dataframe thead th {\n",
              "        text-align: right;\n",
              "    }\n",
              "</style>\n",
              "<table border=\"1\" class=\"dataframe\">\n",
              "  <thead>\n",
              "    <tr style=\"text-align: right;\">\n",
              "      <th></th>\n",
              "      <th>ID</th>\n",
              "      <th>LastName</th>\n",
              "      <th>FirstName</th>\n",
              "      <th>Woman</th>\n",
              "      <th>Age</th>\n",
              "      <th>Salary</th>\n",
              "      <th>SeniorList</th>\n",
              "      <th>NbActivities</th>\n",
              "      <th>Referrals</th>\n",
              "      <th>Recency</th>\n",
              "      <th>...</th>\n",
              "      <th>GaveThisYear</th>\n",
              "      <th>AmtThisYear</th>\n",
              "      <th>Elementary</th>\n",
              "      <th>High School</th>\n",
              "      <th>University / College</th>\n",
              "      <th>City</th>\n",
              "      <th>Downtown</th>\n",
              "      <th>Rural</th>\n",
              "      <th>Suburban</th>\n",
              "      <th>HistoricDonor</th>\n",
              "    </tr>\n",
              "  </thead>\n",
              "  <tbody>\n",
              "    <tr>\n",
              "      <th>451140</th>\n",
              "      <td>2451141.0</td>\n",
              "      <td>ESPINOSA</td>\n",
              "      <td>DENISE</td>\n",
              "      <td>1.0</td>\n",
              "      <td>41.0</td>\n",
              "      <td>128900.0</td>\n",
              "      <td>8.0</td>\n",
              "      <td>3.0</td>\n",
              "      <td>2.0</td>\n",
              "      <td>2.0</td>\n",
              "      <td>...</td>\n",
              "      <td>0.0</td>\n",
              "      <td>0.0</td>\n",
              "      <td>0</td>\n",
              "      <td>0</td>\n",
              "      <td>1</td>\n",
              "      <td>1</td>\n",
              "      <td>0</td>\n",
              "      <td>0</td>\n",
              "      <td>0</td>\n",
              "      <td>1</td>\n",
              "    </tr>\n",
              "    <tr>\n",
              "      <th>911162</th>\n",
              "      <td>2911163.0</td>\n",
              "      <td>GRIFFITHS</td>\n",
              "      <td>RAYMOND</td>\n",
              "      <td>0.0</td>\n",
              "      <td>41.0</td>\n",
              "      <td>23900.0</td>\n",
              "      <td>7.0</td>\n",
              "      <td>0.0</td>\n",
              "      <td>0.0</td>\n",
              "      <td>3.0</td>\n",
              "      <td>...</td>\n",
              "      <td>0.0</td>\n",
              "      <td>0.0</td>\n",
              "      <td>0</td>\n",
              "      <td>1</td>\n",
              "      <td>0</td>\n",
              "      <td>0</td>\n",
              "      <td>0</td>\n",
              "      <td>0</td>\n",
              "      <td>1</td>\n",
              "      <td>1</td>\n",
              "    </tr>\n",
              "  </tbody>\n",
              "</table>\n",
              "<p>2 rows × 27 columns</p>\n",
              "</div>\n",
              "      <button class=\"colab-df-convert\" onclick=\"convertToInteractive('df-3ceeceaf-5971-40db-bdf2-ab0cd8dd177e')\"\n",
              "              title=\"Convert this dataframe to an interactive table.\"\n",
              "              style=\"display:none;\">\n",
              "        \n",
              "  <svg xmlns=\"http://www.w3.org/2000/svg\" height=\"24px\"viewBox=\"0 0 24 24\"\n",
              "       width=\"24px\">\n",
              "    <path d=\"M0 0h24v24H0V0z\" fill=\"none\"/>\n",
              "    <path d=\"M18.56 5.44l.94 2.06.94-2.06 2.06-.94-2.06-.94-.94-2.06-.94 2.06-2.06.94zm-11 1L8.5 8.5l.94-2.06 2.06-.94-2.06-.94L8.5 2.5l-.94 2.06-2.06.94zm10 10l.94 2.06.94-2.06 2.06-.94-2.06-.94-.94-2.06-.94 2.06-2.06.94z\"/><path d=\"M17.41 7.96l-1.37-1.37c-.4-.4-.92-.59-1.43-.59-.52 0-1.04.2-1.43.59L10.3 9.45l-7.72 7.72c-.78.78-.78 2.05 0 2.83L4 21.41c.39.39.9.59 1.41.59.51 0 1.02-.2 1.41-.59l7.78-7.78 2.81-2.81c.8-.78.8-2.07 0-2.86zM5.41 20L4 18.59l7.72-7.72 1.47 1.35L5.41 20z\"/>\n",
              "  </svg>\n",
              "      </button>\n",
              "      \n",
              "  <style>\n",
              "    .colab-df-container {\n",
              "      display:flex;\n",
              "      flex-wrap:wrap;\n",
              "      gap: 12px;\n",
              "    }\n",
              "\n",
              "    .colab-df-convert {\n",
              "      background-color: #E8F0FE;\n",
              "      border: none;\n",
              "      border-radius: 50%;\n",
              "      cursor: pointer;\n",
              "      display: none;\n",
              "      fill: #1967D2;\n",
              "      height: 32px;\n",
              "      padding: 0 0 0 0;\n",
              "      width: 32px;\n",
              "    }\n",
              "\n",
              "    .colab-df-convert:hover {\n",
              "      background-color: #E2EBFA;\n",
              "      box-shadow: 0px 1px 2px rgba(60, 64, 67, 0.3), 0px 1px 3px 1px rgba(60, 64, 67, 0.15);\n",
              "      fill: #174EA6;\n",
              "    }\n",
              "\n",
              "    [theme=dark] .colab-df-convert {\n",
              "      background-color: #3B4455;\n",
              "      fill: #D2E3FC;\n",
              "    }\n",
              "\n",
              "    [theme=dark] .colab-df-convert:hover {\n",
              "      background-color: #434B5C;\n",
              "      box-shadow: 0px 1px 3px 1px rgba(0, 0, 0, 0.15);\n",
              "      filter: drop-shadow(0px 1px 2px rgba(0, 0, 0, 0.3));\n",
              "      fill: #FFFFFF;\n",
              "    }\n",
              "  </style>\n",
              "\n",
              "      <script>\n",
              "        const buttonEl =\n",
              "          document.querySelector('#df-3ceeceaf-5971-40db-bdf2-ab0cd8dd177e button.colab-df-convert');\n",
              "        buttonEl.style.display =\n",
              "          google.colab.kernel.accessAllowed ? 'block' : 'none';\n",
              "\n",
              "        async function convertToInteractive(key) {\n",
              "          const element = document.querySelector('#df-3ceeceaf-5971-40db-bdf2-ab0cd8dd177e');\n",
              "          const dataTable =\n",
              "            await google.colab.kernel.invokeFunction('convertToInteractive',\n",
              "                                                     [key], {});\n",
              "          if (!dataTable) return;\n",
              "\n",
              "          const docLinkHtml = 'Like what you see? Visit the ' +\n",
              "            '<a target=\"_blank\" href=https://colab.research.google.com/notebooks/data_table.ipynb>data table notebook</a>'\n",
              "            + ' to learn more about interactive tables.';\n",
              "          element.innerHTML = '';\n",
              "          dataTable['output_type'] = 'display_data';\n",
              "          await google.colab.output.renderOutput(dataTable, element);\n",
              "          const docLink = document.createElement('div');\n",
              "          docLink.innerHTML = docLinkHtml;\n",
              "          element.appendChild(docLink);\n",
              "        }\n",
              "      </script>\n",
              "    </div>\n",
              "  </div>\n",
              "  "
            ]
          },
          "metadata": {},
          "execution_count": 25
        }
      ],
      "source": [
        "# The code below is an illustration on how to sample data on train and validation samples.\n",
        "# You could use another library or a built-in function to perform sampling.\n",
        "\n",
        "from sklearn.model_selection import train_test_split\n",
        "train, validation = train_test_split(data_mergeX, test_size=0.4, random_state = 12345) \n",
        "\n",
        "#train.head()\n",
        "train.sample(2)"
      ]
    },
    {
      "cell_type": "code",
      "source": [
        "# v2\n",
        "\n",
        "X_train = train[['Age', 'Salary', 'Referrals', 'TotalGift', 'AmtLastYear', 'Woman', 'NbActivities']] \n",
        "Y_train = train['AmtThisYear']\n",
        "X_valid = validation[['Age', 'Salary', 'Referrals', 'TotalGift', 'AmtLastYear', 'Woman', 'NbActivities']] \n",
        "Y_valid = validation['AmtThisYear']"
      ],
      "metadata": {
        "id": "q3Ok2kOf3cjZ"
      },
      "execution_count": null,
      "outputs": [],
      "id": "q3Ok2kOf3cjZ"
    },
    {
      "cell_type": "code",
      "source": [
        "# v5-4\n",
        "\n",
        "X_train = train[['Age', 'Salary', 'Referrals', 'TotalGift', 'AmtLastYear', 'Woman', 'NbActivities', 'Elementary', 'High School',\t'University / College']] \n",
        "Y_train = train['AmtThisYear']\n",
        "X_valid = validation[['Age', 'Salary', 'Referrals', 'TotalGift', 'AmtLastYear', 'Woman', 'NbActivities', 'Elementary', 'High School',\t'University / College']] \n",
        "Y_valid = validation['AmtThisYear']"
      ],
      "metadata": {
        "id": "p1kfSnHTzRbb"
      },
      "id": "p1kfSnHTzRbb",
      "execution_count": null,
      "outputs": []
    },
    {
      "cell_type": "code",
      "source": [
        "# v6\n",
        "\n",
        "X_train = train[['Age', 'Salary', 'Referrals', 'TotalGift', 'AmtLastYear', 'Woman', 'NbActivities', 'Elementary', 'High School',\t'University / College', 'HistoricDonor']] \n",
        "Y_train = train['AmtThisYear']\n",
        "X_valid = validation[['Age', 'Salary', 'Referrals', 'TotalGift', 'AmtLastYear', 'Woman', 'NbActivities', 'Elementary', 'High School',\t'University / College', 'HistoricDonor']] \n",
        "Y_valid = validation['AmtThisYear']"
      ],
      "metadata": {
        "id": "EwSMRNnq4oZv"
      },
      "execution_count": null,
      "outputs": [],
      "id": "EwSMRNnq4oZv"
    },
    {
      "cell_type": "code",
      "source": [
        "# v7\n",
        "\n",
        "X_train = train[['Age', 'Salary', 'Referrals', 'TotalGift', 'AmtLastYear', 'Frequency','Woman', 'NbActivities', 'Elementary', 'High School',\t'University / College', 'HistoricDonor']] \n",
        "Y_train = train['AmtThisYear']\n",
        "X_valid = validation[['Age', 'Salary', 'Referrals', 'TotalGift', 'AmtLastYear', 'Frequency','Woman', 'NbActivities', 'Elementary', 'High School',\t'University / College', 'HistoricDonor']] \n",
        "Y_valid = validation['AmtThisYear']"
      ],
      "metadata": {
        "id": "O4YmBPMn-ze0"
      },
      "execution_count": null,
      "outputs": [],
      "id": "O4YmBPMn-ze0"
    },
    {
      "cell_type": "code",
      "source": [
        "from sklearn import preprocessing\n",
        "\n",
        "scaler = preprocessing.StandardScaler().fit(X_train)\n",
        "#X_train = scaler.transform(X_train)\n",
        "#X_valid = scaler.transform(X_valid)\n"
      ],
      "metadata": {
        "id": "2E3afPWQzNwB"
      },
      "id": "2E3afPWQzNwB",
      "execution_count": null,
      "outputs": []
    },
    {
      "cell_type": "markdown",
      "id": "3396591b",
      "metadata": {
        "id": "3396591b"
      },
      "source": [
        "## Prebuilt Models\n",
        "***\n",
        "\n",
        "### **Linear Regression Model**\n",
        "\n",
        "\n",
        "> The [sk-learn library](https://scikit-learn.org/stable/index.html ) offers more advanced models.\n"
      ]
    },
    {
      "cell_type": "code",
      "execution_count": null,
      "id": "0833fb2d-554c-4e3b-933c-9a35828fd912",
      "metadata": {
        "collapsed": true,
        "id": "0833fb2d-554c-4e3b-933c-9a35828fd912"
      },
      "outputs": [],
      "source": [
        "from sklearn import linear_model\n",
        "\n",
        "regr = linear_model.LinearRegression()\n",
        "regr.fit(X_train,Y_train)\n",
        "regr_predict=regr.predict(X_valid)"
      ]
    },
    {
      "cell_type": "code",
      "execution_count": null,
      "id": "d47987df",
      "metadata": {
        "collapsed": true,
        "id": "d47987df",
        "outputId": "8cb35f49-32f9-44dd-f3d8-62e1e3d62473",
        "colab": {
          "base_uri": "https://localhost:8080/"
        }
      },
      "outputs": [
        {
          "output_type": "stream",
          "name": "stdout",
          "text": [
            "13.19618728919964\n",
            "7602.302825113678\n",
            "87.19118547831357\n"
          ]
        }
      ],
      "source": [
        "#you can change the criteria\n",
        "\n",
        "import numpy as np\n",
        "from sklearn import metrics\n",
        "#MAE\n",
        "print(metrics.mean_absolute_error(Y_valid,regr_predict))\n",
        "#MSE\n",
        "print(metrics.mean_squared_error(Y_valid,regr_predict))\n",
        "#RMSE\n",
        "print(np.sqrt(metrics.mean_squared_error(Y_valid,regr_predict)))"
      ]
    },
    {
      "cell_type": "markdown",
      "id": "12c58819",
      "metadata": {
        "id": "12c58819"
      },
      "source": [
        "## **Regression Tree Model**"
      ]
    },
    {
      "cell_type": "code",
      "execution_count": null,
      "id": "7fa631af",
      "metadata": {
        "id": "7fa631af"
      },
      "outputs": [],
      "source": [
        "from sklearn.tree import DecisionTreeRegressor\n",
        "\n",
        "\n",
        "DT_model = DecisionTreeRegressor(max_depth=5).fit(X_train,Y_train)\n",
        "\n",
        "DT_predict = DT_model.predict(X_valid) #Predictions on Testing data\n"
      ]
    },
    {
      "cell_type": "code",
      "execution_count": null,
      "id": "459eb80e",
      "metadata": {
        "collapsed": true,
        "id": "459eb80e",
        "outputId": "8f48f506-52f7-436c-c03d-25d7ccbe08f3",
        "colab": {
          "base_uri": "https://localhost:8080/"
        }
      },
      "outputs": [
        {
          "output_type": "stream",
          "name": "stdout",
          "text": [
            "13.245001501995782\n",
            "7610.153746659898\n",
            "87.23619516381889\n"
          ]
        }
      ],
      "source": [
        "#you can change the criteria\n",
        "#MAE\n",
        "print(metrics.mean_absolute_error(Y_valid, DT_predict))\n",
        "#MSE\n",
        "print(metrics.mean_squared_error(Y_valid, DT_predict))\n",
        "#RMSE\n",
        "print(np.sqrt(metrics.mean_squared_error(Y_valid, DT_predict)))"
      ]
    },
    {
      "cell_type": "markdown",
      "metadata": {
        "id": "eSeJus13bh9H"
      },
      "source": [
        "## **XGB Boost Model**"
      ],
      "id": "eSeJus13bh9H"
    },
    {
      "cell_type": "code",
      "execution_count": null,
      "metadata": {
        "id": "rsZlyRy9bh9I"
      },
      "outputs": [],
      "source": [
        "from xgboost import XGBRegressor\n",
        "\n",
        "xgb_model = XGBRegressor(objective='reg:squarederror', max_depth = '3', learning_rate = '.1').fit(X_train, Y_train)\n",
        "XGB_predict = xgb_model.predict(X_valid)\n"
      ],
      "id": "rsZlyRy9bh9I"
    },
    {
      "cell_type": "code",
      "execution_count": null,
      "metadata": {
        "outputId": "1e29d171-2a51-4ed9-c726-d1b2e61661eb",
        "colab": {
          "base_uri": "https://localhost:8080/"
        },
        "id": "29FBtHR8bh9J"
      },
      "outputs": [
        {
          "output_type": "stream",
          "name": "stdout",
          "text": [
            "13.185306042182148\n",
            "7602.615495425315\n",
            "87.19297847547884\n"
          ]
        }
      ],
      "source": [
        "#you can change the criteria\n",
        "#MAE\n",
        "print(metrics.mean_absolute_error(Y_valid,XGB_predict))\n",
        "#MSE\n",
        "print(metrics.mean_squared_error(Y_valid,XGB_predict))\n",
        "#RMSE\n",
        "print(np.sqrt(metrics.mean_squared_error(Y_valid,XGB_predict)))"
      ],
      "id": "29FBtHR8bh9J"
    },
    {
      "cell_type": "markdown",
      "id": "b8d6ab43",
      "metadata": {
        "id": "b8d6ab43"
      },
      "source": [
        "### **Other models may also be helpful for this game**\n",
        "\n",
        "Reference: https://scikit-learn.org/stable/supervised_learning.html\n",
        "\n",
        "***\n"
      ]
    },
    {
      "cell_type": "markdown",
      "source": [
        "## Tuning"
      ],
      "metadata": {
        "id": "ByoNwwBM-iDq"
      },
      "id": "ByoNwwBM-iDq"
    },
    {
      "cell_type": "markdown",
      "source": [
        "### Tuning Tree Model"
      ],
      "metadata": {
        "id": "9GwhGDPB8jLM"
      },
      "id": "9GwhGDPB8jLM"
    },
    {
      "cell_type": "code",
      "source": [
        "parameters={\"splitter\":[\"best\",\"random\"],\n",
        "            \"max_depth\" : [1,3,5,7,9,11,12],\n",
        "           \"min_samples_leaf\":[1,2,3,4,5,6,7,8,9,10],\n",
        "           \"min_weight_fraction_leaf\":[0.1,0.2,0.3,0.4,0.5,0.6,0.7,0.8,0.9],\n",
        "           \"max_features\":[\"auto\",\"log2\",\"sqrt\",None],\n",
        "           \"max_leaf_nodes\":[None,10,20,30,40,50,60,70,80,90] }\n",
        "           \n",
        "from sklearn.model_selection import GridSearchCV\n"
      ],
      "metadata": {
        "id": "CXQD_eSI8h4I"
      },
      "id": "CXQD_eSI8h4I",
      "execution_count": null,
      "outputs": []
    },
    {
      "cell_type": "code",
      "source": [
        "tuning_model=GridSearchCV(DT_model,param_grid=parameters,scoring='neg_mean_squared_error',cv=3,verbose=3)"
      ],
      "metadata": {
        "id": "NmR2cF2L8xaJ"
      },
      "id": "NmR2cF2L8xaJ",
      "execution_count": null,
      "outputs": []
    },
    {
      "cell_type": "code",
      "source": [
        "# function for calculating how much time take for hyperparameter tuning\n",
        "\n",
        "def timer(start_time=None):\n",
        "    if not start_time:\n",
        "        start_time=datetime.now()\n",
        "        return start_time\n",
        "    elif start_time:\n",
        "        thour,temp_sec=divmod((datetime.now()-start_time).total_seconds(),3600)\n",
        "        tmin,tsec=divmod(temp_sec,60)\n",
        "        #print(thour,\":\",tmin,':',round(tsec,2))"
      ],
      "metadata": {
        "id": "z3PWEHPz86Aq"
      },
      "id": "z3PWEHPz86Aq",
      "execution_count": null,
      "outputs": []
    },
    {
      "cell_type": "code",
      "source": [
        "from datetime import datetime\n",
        "\n",
        "#start_time=timer(None)\n",
        "\n",
        "#tuning_model.fit(X_train,Y_train)\n",
        "\n",
        "#timer(start_time)"
      ],
      "metadata": {
        "id": "-jgKYU748-s5"
      },
      "id": "-jgKYU748-s5",
      "execution_count": null,
      "outputs": []
    },
    {
      "cell_type": "markdown",
      "id": "20aed00e",
      "metadata": {
        "id": "20aed00e"
      },
      "source": [
        "## Scoring New Data\n",
        "\n",
        "### Prepare data for scoring"
      ]
    },
    {
      "cell_type": "code",
      "execution_count": null,
      "id": "0d04c91b",
      "metadata": {
        "id": "0d04c91b"
      },
      "outputs": [],
      "source": [
        "data3 = sas_session.sasdata2dataframe(\n",
        "table='score_rd1',\n",
        "libref='cortex'\n",
        ")\n",
        "data4 = sas_session.sasdata2dataframe(\n",
        "table='score',\n",
        "libref='cortex'\n",
        ")"
      ]
    },
    {
      "cell_type": "markdown",
      "id": "e961f185-38c6-4d2a-b1f5-1b142c9b6d30",
      "metadata": {
        "id": "e961f185-38c6-4d2a-b1f5-1b142c9b6d30"
      },
      "source": [
        " ### Score new data based on your champion model\n",
        " \n",
        "> Pick your champion model from previous steps and use it to predict next year donations. \n",
        " \n",
        "> In this case, the linear regression model performed better than the regression tree based on the MSE criterion."
      ]
    },
    {
      "cell_type": "code",
      "execution_count": null,
      "id": "f6cf3e45",
      "metadata": {
        "collapsed": true,
        "id": "f6cf3e45",
        "outputId": "954dc6ee-dedd-4a05-d463-2ba1ddb96f7b",
        "colab": {
          "base_uri": "https://localhost:8080/",
          "height": 317
        }
      },
      "outputs": [
        {
          "output_type": "execute_result",
          "data": {
            "text/plain": [
              "          ID  GaveLastYear  AmtLastYear  LastName FirstName  Woman   Age  \\\n",
              "0  2000001.0           0.0          0.0    ROMMES    RODNEY    0.0  25.0   \n",
              "1  2000002.0           0.0          0.0   RAMIREZ    SHARON    1.0  38.0   \n",
              "2  2000003.0           0.0          0.0    TSOSIE     KAREN    1.0  37.0   \n",
              "3  2000004.0           0.0          0.0       LEE      MARY    1.0  78.0   \n",
              "4  2000005.0           0.0          0.0  HUMPHRES     ANGIE    1.0  34.0   \n",
              "\n",
              "     Salary  SeniorList  NbActivities  ...  MinGift  MaxGift  HistoricDonor  \\\n",
              "0  107200.0         2.0           0.0  ...     10.0   1000.0              1   \n",
              "1   15800.0         4.0           1.0  ...      0.0      NaN              0   \n",
              "2   57400.0         5.0           0.0  ...      0.0      NaN              0   \n",
              "3   23700.0         3.0           0.0  ...      0.0      NaN              0   \n",
              "4   71900.0         8.0           0.0  ...      0.0      NaN              0   \n",
              "\n",
              "   Elementary  High School  University / College  City  Downtown  Rural  \\\n",
              "0           0            0                     1     1         0      0   \n",
              "1           0            1                     0     0         0      1   \n",
              "2           0            0                     1     0         0      1   \n",
              "3           0            1                     0     0         0      1   \n",
              "4           0            0                     1     0         0      1   \n",
              "\n",
              "   Suburban  \n",
              "0         0  \n",
              "1         0  \n",
              "2         0  \n",
              "3         0  \n",
              "4         0  \n",
              "\n",
              "[5 rows x 25 columns]"
            ],
            "text/html": [
              "\n",
              "  <div id=\"df-f221e14a-785b-4c90-abdb-d0c11752fd5e\">\n",
              "    <div class=\"colab-df-container\">\n",
              "      <div>\n",
              "<style scoped>\n",
              "    .dataframe tbody tr th:only-of-type {\n",
              "        vertical-align: middle;\n",
              "    }\n",
              "\n",
              "    .dataframe tbody tr th {\n",
              "        vertical-align: top;\n",
              "    }\n",
              "\n",
              "    .dataframe thead th {\n",
              "        text-align: right;\n",
              "    }\n",
              "</style>\n",
              "<table border=\"1\" class=\"dataframe\">\n",
              "  <thead>\n",
              "    <tr style=\"text-align: right;\">\n",
              "      <th></th>\n",
              "      <th>ID</th>\n",
              "      <th>GaveLastYear</th>\n",
              "      <th>AmtLastYear</th>\n",
              "      <th>LastName</th>\n",
              "      <th>FirstName</th>\n",
              "      <th>Woman</th>\n",
              "      <th>Age</th>\n",
              "      <th>Salary</th>\n",
              "      <th>SeniorList</th>\n",
              "      <th>NbActivities</th>\n",
              "      <th>...</th>\n",
              "      <th>MinGift</th>\n",
              "      <th>MaxGift</th>\n",
              "      <th>HistoricDonor</th>\n",
              "      <th>Elementary</th>\n",
              "      <th>High School</th>\n",
              "      <th>University / College</th>\n",
              "      <th>City</th>\n",
              "      <th>Downtown</th>\n",
              "      <th>Rural</th>\n",
              "      <th>Suburban</th>\n",
              "    </tr>\n",
              "  </thead>\n",
              "  <tbody>\n",
              "    <tr>\n",
              "      <th>0</th>\n",
              "      <td>2000001.0</td>\n",
              "      <td>0.0</td>\n",
              "      <td>0.0</td>\n",
              "      <td>ROMMES</td>\n",
              "      <td>RODNEY</td>\n",
              "      <td>0.0</td>\n",
              "      <td>25.0</td>\n",
              "      <td>107200.0</td>\n",
              "      <td>2.0</td>\n",
              "      <td>0.0</td>\n",
              "      <td>...</td>\n",
              "      <td>10.0</td>\n",
              "      <td>1000.0</td>\n",
              "      <td>1</td>\n",
              "      <td>0</td>\n",
              "      <td>0</td>\n",
              "      <td>1</td>\n",
              "      <td>1</td>\n",
              "      <td>0</td>\n",
              "      <td>0</td>\n",
              "      <td>0</td>\n",
              "    </tr>\n",
              "    <tr>\n",
              "      <th>1</th>\n",
              "      <td>2000002.0</td>\n",
              "      <td>0.0</td>\n",
              "      <td>0.0</td>\n",
              "      <td>RAMIREZ</td>\n",
              "      <td>SHARON</td>\n",
              "      <td>1.0</td>\n",
              "      <td>38.0</td>\n",
              "      <td>15800.0</td>\n",
              "      <td>4.0</td>\n",
              "      <td>1.0</td>\n",
              "      <td>...</td>\n",
              "      <td>0.0</td>\n",
              "      <td>NaN</td>\n",
              "      <td>0</td>\n",
              "      <td>0</td>\n",
              "      <td>1</td>\n",
              "      <td>0</td>\n",
              "      <td>0</td>\n",
              "      <td>0</td>\n",
              "      <td>1</td>\n",
              "      <td>0</td>\n",
              "    </tr>\n",
              "    <tr>\n",
              "      <th>2</th>\n",
              "      <td>2000003.0</td>\n",
              "      <td>0.0</td>\n",
              "      <td>0.0</td>\n",
              "      <td>TSOSIE</td>\n",
              "      <td>KAREN</td>\n",
              "      <td>1.0</td>\n",
              "      <td>37.0</td>\n",
              "      <td>57400.0</td>\n",
              "      <td>5.0</td>\n",
              "      <td>0.0</td>\n",
              "      <td>...</td>\n",
              "      <td>0.0</td>\n",
              "      <td>NaN</td>\n",
              "      <td>0</td>\n",
              "      <td>0</td>\n",
              "      <td>0</td>\n",
              "      <td>1</td>\n",
              "      <td>0</td>\n",
              "      <td>0</td>\n",
              "      <td>1</td>\n",
              "      <td>0</td>\n",
              "    </tr>\n",
              "    <tr>\n",
              "      <th>3</th>\n",
              "      <td>2000004.0</td>\n",
              "      <td>0.0</td>\n",
              "      <td>0.0</td>\n",
              "      <td>LEE</td>\n",
              "      <td>MARY</td>\n",
              "      <td>1.0</td>\n",
              "      <td>78.0</td>\n",
              "      <td>23700.0</td>\n",
              "      <td>3.0</td>\n",
              "      <td>0.0</td>\n",
              "      <td>...</td>\n",
              "      <td>0.0</td>\n",
              "      <td>NaN</td>\n",
              "      <td>0</td>\n",
              "      <td>0</td>\n",
              "      <td>1</td>\n",
              "      <td>0</td>\n",
              "      <td>0</td>\n",
              "      <td>0</td>\n",
              "      <td>1</td>\n",
              "      <td>0</td>\n",
              "    </tr>\n",
              "    <tr>\n",
              "      <th>4</th>\n",
              "      <td>2000005.0</td>\n",
              "      <td>0.0</td>\n",
              "      <td>0.0</td>\n",
              "      <td>HUMPHRES</td>\n",
              "      <td>ANGIE</td>\n",
              "      <td>1.0</td>\n",
              "      <td>34.0</td>\n",
              "      <td>71900.0</td>\n",
              "      <td>8.0</td>\n",
              "      <td>0.0</td>\n",
              "      <td>...</td>\n",
              "      <td>0.0</td>\n",
              "      <td>NaN</td>\n",
              "      <td>0</td>\n",
              "      <td>0</td>\n",
              "      <td>0</td>\n",
              "      <td>1</td>\n",
              "      <td>0</td>\n",
              "      <td>0</td>\n",
              "      <td>1</td>\n",
              "      <td>0</td>\n",
              "    </tr>\n",
              "  </tbody>\n",
              "</table>\n",
              "<p>5 rows × 25 columns</p>\n",
              "</div>\n",
              "      <button class=\"colab-df-convert\" onclick=\"convertToInteractive('df-f221e14a-785b-4c90-abdb-d0c11752fd5e')\"\n",
              "              title=\"Convert this dataframe to an interactive table.\"\n",
              "              style=\"display:none;\">\n",
              "        \n",
              "  <svg xmlns=\"http://www.w3.org/2000/svg\" height=\"24px\"viewBox=\"0 0 24 24\"\n",
              "       width=\"24px\">\n",
              "    <path d=\"M0 0h24v24H0V0z\" fill=\"none\"/>\n",
              "    <path d=\"M18.56 5.44l.94 2.06.94-2.06 2.06-.94-2.06-.94-.94-2.06-.94 2.06-2.06.94zm-11 1L8.5 8.5l.94-2.06 2.06-.94-2.06-.94L8.5 2.5l-.94 2.06-2.06.94zm10 10l.94 2.06.94-2.06 2.06-.94-2.06-.94-.94-2.06-.94 2.06-2.06.94z\"/><path d=\"M17.41 7.96l-1.37-1.37c-.4-.4-.92-.59-1.43-.59-.52 0-1.04.2-1.43.59L10.3 9.45l-7.72 7.72c-.78.78-.78 2.05 0 2.83L4 21.41c.39.39.9.59 1.41.59.51 0 1.02-.2 1.41-.59l7.78-7.78 2.81-2.81c.8-.78.8-2.07 0-2.86zM5.41 20L4 18.59l7.72-7.72 1.47 1.35L5.41 20z\"/>\n",
              "  </svg>\n",
              "      </button>\n",
              "      \n",
              "  <style>\n",
              "    .colab-df-container {\n",
              "      display:flex;\n",
              "      flex-wrap:wrap;\n",
              "      gap: 12px;\n",
              "    }\n",
              "\n",
              "    .colab-df-convert {\n",
              "      background-color: #E8F0FE;\n",
              "      border: none;\n",
              "      border-radius: 50%;\n",
              "      cursor: pointer;\n",
              "      display: none;\n",
              "      fill: #1967D2;\n",
              "      height: 32px;\n",
              "      padding: 0 0 0 0;\n",
              "      width: 32px;\n",
              "    }\n",
              "\n",
              "    .colab-df-convert:hover {\n",
              "      background-color: #E2EBFA;\n",
              "      box-shadow: 0px 1px 2px rgba(60, 64, 67, 0.3), 0px 1px 3px 1px rgba(60, 64, 67, 0.15);\n",
              "      fill: #174EA6;\n",
              "    }\n",
              "\n",
              "    [theme=dark] .colab-df-convert {\n",
              "      background-color: #3B4455;\n",
              "      fill: #D2E3FC;\n",
              "    }\n",
              "\n",
              "    [theme=dark] .colab-df-convert:hover {\n",
              "      background-color: #434B5C;\n",
              "      box-shadow: 0px 1px 3px 1px rgba(0, 0, 0, 0.15);\n",
              "      filter: drop-shadow(0px 1px 2px rgba(0, 0, 0, 0.3));\n",
              "      fill: #FFFFFF;\n",
              "    }\n",
              "  </style>\n",
              "\n",
              "      <script>\n",
              "        const buttonEl =\n",
              "          document.querySelector('#df-f221e14a-785b-4c90-abdb-d0c11752fd5e button.colab-df-convert');\n",
              "        buttonEl.style.display =\n",
              "          google.colab.kernel.accessAllowed ? 'block' : 'none';\n",
              "\n",
              "        async function convertToInteractive(key) {\n",
              "          const element = document.querySelector('#df-f221e14a-785b-4c90-abdb-d0c11752fd5e');\n",
              "          const dataTable =\n",
              "            await google.colab.kernel.invokeFunction('convertToInteractive',\n",
              "                                                     [key], {});\n",
              "          if (!dataTable) return;\n",
              "\n",
              "          const docLinkHtml = 'Like what you see? Visit the ' +\n",
              "            '<a target=\"_blank\" href=https://colab.research.google.com/notebooks/data_table.ipynb>data table notebook</a>'\n",
              "            + ' to learn more about interactive tables.';\n",
              "          element.innerHTML = '';\n",
              "          dataTable['output_type'] = 'display_data';\n",
              "          await google.colab.output.renderOutput(dataTable, element);\n",
              "          const docLink = document.createElement('div');\n",
              "          docLink.innerHTML = docLinkHtml;\n",
              "          element.appendChild(docLink);\n",
              "        }\n",
              "      </script>\n",
              "    </div>\n",
              "  </div>\n",
              "  "
            ]
          },
          "metadata": {},
          "execution_count": 38
        }
      ],
      "source": [
        "scoring_data = pd.merge(data3, data4, on=[\"ID\"],how=\"right\")\n",
        "scoring_data.rename(columns={\"City\": \"Location\"}, inplace = True)\n",
        "\n",
        "# Perform the same strategy for handling missing values for the score dataset.\n",
        "# In this case, we will only replace missing values of the MinGift variable.\n",
        "\n",
        "scoring_data[['MinGift']] = scoring_data[['MinGift']].fillna(value=0) \n",
        "\n",
        "scoring_data[['HistoricDonor']] = scoring_data[['Frequency']].notna().astype(int)\n",
        "scoring_data[['Frequency']] = scoring_data[['Frequency']].fillna(value=0)  \n",
        "\n",
        "scoring_data[['TotalGift']] = scoring_data[['TotalGift']].fillna(value=0) \n",
        "\n",
        "\n",
        "scoring_data = dummies(scoring_data, \"Education\")\n",
        "scoring_data = dummies(scoring_data, \"Location\")\n",
        "\n",
        "\n",
        "scoring_data.head()"
      ]
    },
    {
      "cell_type": "code",
      "execution_count": null,
      "id": "05b14516",
      "metadata": {
        "collapsed": true,
        "id": "05b14516",
        "outputId": "455a103c-de8c-4e20-e447-c1e1c939ece2",
        "colab": {
          "base_uri": "https://localhost:8080/",
          "height": 317
        }
      },
      "outputs": [
        {
          "output_type": "execute_result",
          "data": {
            "text/plain": [
              "               ID  GaveLastYear  AmtLastYear  LastName FirstName  Woman   Age  \\\n",
              "501824  2501825.0           1.0       5000.0  MARTINEZ     FRANK    0.0  41.0   \n",
              "981782  2981783.0           1.0        350.0      SILK    RONALD    0.0  26.0   \n",
              "537220  2537221.0           1.0      10000.0     BROWN   JEFFREY    0.0  48.0   \n",
              "163567  2163568.0           1.0        150.0   WHEELER   CHARLES    0.0  45.0   \n",
              "589156  2589157.0           1.0        150.0    DUPUIS   RICHARD    0.0  75.0   \n",
              "\n",
              "          Salary  SeniorList  NbActivities  ...  MaxGift  HistoricDonor  \\\n",
              "501824  212600.0         0.0           0.0  ...      NaN              0   \n",
              "981782  212700.0         6.0           2.0  ...    100.0              1   \n",
              "537220  212700.0         0.0           0.0  ...    100.0              1   \n",
              "163567  212600.0         8.0           2.0  ...    100.0              1   \n",
              "589156  212700.0         3.0           0.0  ...     40.0              1   \n",
              "\n",
              "        Elementary  High School  University / College  City  Downtown  Rural  \\\n",
              "501824           0            0                     1     0         0      1   \n",
              "981782           0            1                     0     0         0      0   \n",
              "537220           0            0                     1     0         0      0   \n",
              "163567           0            0                     1     0         0      1   \n",
              "589156           0            0                     1     1         0      0   \n",
              "\n",
              "        Suburban   Prediction  \n",
              "501824         0  1003.293579  \n",
              "981782         1  1001.447083  \n",
              "537220         1  1001.003418  \n",
              "163567         0   994.974243  \n",
              "589156         0   994.002625  \n",
              "\n",
              "[5 rows x 26 columns]"
            ],
            "text/html": [
              "\n",
              "  <div id=\"df-8a8acdbb-7fb8-40a5-b5b8-8dc8ae70a47a\">\n",
              "    <div class=\"colab-df-container\">\n",
              "      <div>\n",
              "<style scoped>\n",
              "    .dataframe tbody tr th:only-of-type {\n",
              "        vertical-align: middle;\n",
              "    }\n",
              "\n",
              "    .dataframe tbody tr th {\n",
              "        vertical-align: top;\n",
              "    }\n",
              "\n",
              "    .dataframe thead th {\n",
              "        text-align: right;\n",
              "    }\n",
              "</style>\n",
              "<table border=\"1\" class=\"dataframe\">\n",
              "  <thead>\n",
              "    <tr style=\"text-align: right;\">\n",
              "      <th></th>\n",
              "      <th>ID</th>\n",
              "      <th>GaveLastYear</th>\n",
              "      <th>AmtLastYear</th>\n",
              "      <th>LastName</th>\n",
              "      <th>FirstName</th>\n",
              "      <th>Woman</th>\n",
              "      <th>Age</th>\n",
              "      <th>Salary</th>\n",
              "      <th>SeniorList</th>\n",
              "      <th>NbActivities</th>\n",
              "      <th>...</th>\n",
              "      <th>MaxGift</th>\n",
              "      <th>HistoricDonor</th>\n",
              "      <th>Elementary</th>\n",
              "      <th>High School</th>\n",
              "      <th>University / College</th>\n",
              "      <th>City</th>\n",
              "      <th>Downtown</th>\n",
              "      <th>Rural</th>\n",
              "      <th>Suburban</th>\n",
              "      <th>Prediction</th>\n",
              "    </tr>\n",
              "  </thead>\n",
              "  <tbody>\n",
              "    <tr>\n",
              "      <th>501824</th>\n",
              "      <td>2501825.0</td>\n",
              "      <td>1.0</td>\n",
              "      <td>5000.0</td>\n",
              "      <td>MARTINEZ</td>\n",
              "      <td>FRANK</td>\n",
              "      <td>0.0</td>\n",
              "      <td>41.0</td>\n",
              "      <td>212600.0</td>\n",
              "      <td>0.0</td>\n",
              "      <td>0.0</td>\n",
              "      <td>...</td>\n",
              "      <td>NaN</td>\n",
              "      <td>0</td>\n",
              "      <td>0</td>\n",
              "      <td>0</td>\n",
              "      <td>1</td>\n",
              "      <td>0</td>\n",
              "      <td>0</td>\n",
              "      <td>1</td>\n",
              "      <td>0</td>\n",
              "      <td>1003.293579</td>\n",
              "    </tr>\n",
              "    <tr>\n",
              "      <th>981782</th>\n",
              "      <td>2981783.0</td>\n",
              "      <td>1.0</td>\n",
              "      <td>350.0</td>\n",
              "      <td>SILK</td>\n",
              "      <td>RONALD</td>\n",
              "      <td>0.0</td>\n",
              "      <td>26.0</td>\n",
              "      <td>212700.0</td>\n",
              "      <td>6.0</td>\n",
              "      <td>2.0</td>\n",
              "      <td>...</td>\n",
              "      <td>100.0</td>\n",
              "      <td>1</td>\n",
              "      <td>0</td>\n",
              "      <td>1</td>\n",
              "      <td>0</td>\n",
              "      <td>0</td>\n",
              "      <td>0</td>\n",
              "      <td>0</td>\n",
              "      <td>1</td>\n",
              "      <td>1001.447083</td>\n",
              "    </tr>\n",
              "    <tr>\n",
              "      <th>537220</th>\n",
              "      <td>2537221.0</td>\n",
              "      <td>1.0</td>\n",
              "      <td>10000.0</td>\n",
              "      <td>BROWN</td>\n",
              "      <td>JEFFREY</td>\n",
              "      <td>0.0</td>\n",
              "      <td>48.0</td>\n",
              "      <td>212700.0</td>\n",
              "      <td>0.0</td>\n",
              "      <td>0.0</td>\n",
              "      <td>...</td>\n",
              "      <td>100.0</td>\n",
              "      <td>1</td>\n",
              "      <td>0</td>\n",
              "      <td>0</td>\n",
              "      <td>1</td>\n",
              "      <td>0</td>\n",
              "      <td>0</td>\n",
              "      <td>0</td>\n",
              "      <td>1</td>\n",
              "      <td>1001.003418</td>\n",
              "    </tr>\n",
              "    <tr>\n",
              "      <th>163567</th>\n",
              "      <td>2163568.0</td>\n",
              "      <td>1.0</td>\n",
              "      <td>150.0</td>\n",
              "      <td>WHEELER</td>\n",
              "      <td>CHARLES</td>\n",
              "      <td>0.0</td>\n",
              "      <td>45.0</td>\n",
              "      <td>212600.0</td>\n",
              "      <td>8.0</td>\n",
              "      <td>2.0</td>\n",
              "      <td>...</td>\n",
              "      <td>100.0</td>\n",
              "      <td>1</td>\n",
              "      <td>0</td>\n",
              "      <td>0</td>\n",
              "      <td>1</td>\n",
              "      <td>0</td>\n",
              "      <td>0</td>\n",
              "      <td>1</td>\n",
              "      <td>0</td>\n",
              "      <td>994.974243</td>\n",
              "    </tr>\n",
              "    <tr>\n",
              "      <th>589156</th>\n",
              "      <td>2589157.0</td>\n",
              "      <td>1.0</td>\n",
              "      <td>150.0</td>\n",
              "      <td>DUPUIS</td>\n",
              "      <td>RICHARD</td>\n",
              "      <td>0.0</td>\n",
              "      <td>75.0</td>\n",
              "      <td>212700.0</td>\n",
              "      <td>3.0</td>\n",
              "      <td>0.0</td>\n",
              "      <td>...</td>\n",
              "      <td>40.0</td>\n",
              "      <td>1</td>\n",
              "      <td>0</td>\n",
              "      <td>0</td>\n",
              "      <td>1</td>\n",
              "      <td>1</td>\n",
              "      <td>0</td>\n",
              "      <td>0</td>\n",
              "      <td>0</td>\n",
              "      <td>994.002625</td>\n",
              "    </tr>\n",
              "  </tbody>\n",
              "</table>\n",
              "<p>5 rows × 26 columns</p>\n",
              "</div>\n",
              "      <button class=\"colab-df-convert\" onclick=\"convertToInteractive('df-8a8acdbb-7fb8-40a5-b5b8-8dc8ae70a47a')\"\n",
              "              title=\"Convert this dataframe to an interactive table.\"\n",
              "              style=\"display:none;\">\n",
              "        \n",
              "  <svg xmlns=\"http://www.w3.org/2000/svg\" height=\"24px\"viewBox=\"0 0 24 24\"\n",
              "       width=\"24px\">\n",
              "    <path d=\"M0 0h24v24H0V0z\" fill=\"none\"/>\n",
              "    <path d=\"M18.56 5.44l.94 2.06.94-2.06 2.06-.94-2.06-.94-.94-2.06-.94 2.06-2.06.94zm-11 1L8.5 8.5l.94-2.06 2.06-.94-2.06-.94L8.5 2.5l-.94 2.06-2.06.94zm10 10l.94 2.06.94-2.06 2.06-.94-2.06-.94-.94-2.06-.94 2.06-2.06.94z\"/><path d=\"M17.41 7.96l-1.37-1.37c-.4-.4-.92-.59-1.43-.59-.52 0-1.04.2-1.43.59L10.3 9.45l-7.72 7.72c-.78.78-.78 2.05 0 2.83L4 21.41c.39.39.9.59 1.41.59.51 0 1.02-.2 1.41-.59l7.78-7.78 2.81-2.81c.8-.78.8-2.07 0-2.86zM5.41 20L4 18.59l7.72-7.72 1.47 1.35L5.41 20z\"/>\n",
              "  </svg>\n",
              "      </button>\n",
              "      \n",
              "  <style>\n",
              "    .colab-df-container {\n",
              "      display:flex;\n",
              "      flex-wrap:wrap;\n",
              "      gap: 12px;\n",
              "    }\n",
              "\n",
              "    .colab-df-convert {\n",
              "      background-color: #E8F0FE;\n",
              "      border: none;\n",
              "      border-radius: 50%;\n",
              "      cursor: pointer;\n",
              "      display: none;\n",
              "      fill: #1967D2;\n",
              "      height: 32px;\n",
              "      padding: 0 0 0 0;\n",
              "      width: 32px;\n",
              "    }\n",
              "\n",
              "    .colab-df-convert:hover {\n",
              "      background-color: #E2EBFA;\n",
              "      box-shadow: 0px 1px 2px rgba(60, 64, 67, 0.3), 0px 1px 3px 1px rgba(60, 64, 67, 0.15);\n",
              "      fill: #174EA6;\n",
              "    }\n",
              "\n",
              "    [theme=dark] .colab-df-convert {\n",
              "      background-color: #3B4455;\n",
              "      fill: #D2E3FC;\n",
              "    }\n",
              "\n",
              "    [theme=dark] .colab-df-convert:hover {\n",
              "      background-color: #434B5C;\n",
              "      box-shadow: 0px 1px 3px 1px rgba(0, 0, 0, 0.15);\n",
              "      filter: drop-shadow(0px 1px 2px rgba(0, 0, 0, 0.3));\n",
              "      fill: #FFFFFF;\n",
              "    }\n",
              "  </style>\n",
              "\n",
              "      <script>\n",
              "        const buttonEl =\n",
              "          document.querySelector('#df-8a8acdbb-7fb8-40a5-b5b8-8dc8ae70a47a button.colab-df-convert');\n",
              "        buttonEl.style.display =\n",
              "          google.colab.kernel.accessAllowed ? 'block' : 'none';\n",
              "\n",
              "        async function convertToInteractive(key) {\n",
              "          const element = document.querySelector('#df-8a8acdbb-7fb8-40a5-b5b8-8dc8ae70a47a');\n",
              "          const dataTable =\n",
              "            await google.colab.kernel.invokeFunction('convertToInteractive',\n",
              "                                                     [key], {});\n",
              "          if (!dataTable) return;\n",
              "\n",
              "          const docLinkHtml = 'Like what you see? Visit the ' +\n",
              "            '<a target=\"_blank\" href=https://colab.research.google.com/notebooks/data_table.ipynb>data table notebook</a>'\n",
              "            + ' to learn more about interactive tables.';\n",
              "          element.innerHTML = '';\n",
              "          dataTable['output_type'] = 'display_data';\n",
              "          await google.colab.output.renderOutput(dataTable, element);\n",
              "          const docLink = document.createElement('div');\n",
              "          docLink.innerHTML = docLinkHtml;\n",
              "          element.appendChild(docLink);\n",
              "        }\n",
              "      </script>\n",
              "    </div>\n",
              "  </div>\n",
              "  "
            ]
          },
          "metadata": {},
          "execution_count": 39
        }
      ],
      "source": [
        "# In this case, based on MSE (Mean Squared Error) criterion,\n",
        "# the linear regression model performed better than the regression tree.\n",
        "\n",
        "X = scoring_data[['Age', 'Salary', 'Referrals', 'TotalGift', 'AmtLastYear', 'Woman', 'NbActivities', 'Elementary', 'High School',\t'University / College', 'HistoricDonor']]\n",
        "#X_scaled = scaler.transform(X)\n",
        "\n",
        "#regr_predict_end=xgb_model.predict(X)\n",
        "regr_predict_end=xgb_model.predict(X)\n",
        "\n",
        "scoring_data['Prediction'] = regr_predict_end\n",
        "scoring_data.sort_values(by=['Prediction'], inplace=True,ascending=False)\n",
        "scoring_data.head(5)"
      ]
    },
    {
      "cell_type": "markdown",
      "id": "d86a874a",
      "metadata": {
        "id": "d86a874a"
      },
      "source": [
        "## Exporting Results to a CSV File"
      ]
    },
    {
      "cell_type": "code",
      "execution_count": null,
      "id": "669e8465",
      "metadata": {
        "id": "669e8465"
      },
      "outputs": [],
      "source": [
        "Result= scoring_data[['ID','Prediction']]\n",
        "Result.to_csv('Predictions.csv', index=False)"
      ]
    },
    {
      "cell_type": "code",
      "execution_count": null,
      "id": "21e1beed-b3ee-4c65-af88-fdaa5b5f0ce7",
      "metadata": {
        "id": "21e1beed-b3ee-4c65-af88-fdaa5b5f0ce7"
      },
      "outputs": [],
      "source": [
        "# Define your cutoff and choose a number of rows to submit to the leaderboard\n",
        "\n",
        "NB = 60000\n",
        "submission = Result.head(NB)\n",
        "submission[\"ID\"].astype(int).to_csv('Results_R1.csv', index=False)"
      ]
    },
    {
      "cell_type": "code",
      "execution_count": null,
      "id": "ad8ae500-d118-4ffe-9db4-616bf09b9d85",
      "metadata": {
        "id": "ad8ae500-d118-4ffe-9db4-616bf09b9d85"
      },
      "outputs": [],
      "source": [
        "# Reminder: Please note that you need only one column (the list of donors' IDs) to submit to the leaderboard.\n"
      ]
    }
  ],
  "metadata": {
    "kernelspec": {
      "display_name": "Python 3",
      "language": "python",
      "name": "python3"
    },
    "language_info": {
      "codemirror_mode": {
        "name": "ipython",
        "version": 3
      },
      "file_extension": ".py",
      "mimetype": "text/x-python",
      "name": "python",
      "nbconvert_exporter": "python",
      "pygments_lexer": "ipython3",
      "version": "3.8.8"
    },
    "colab": {
      "provenance": []
    }
  },
  "nbformat": 4,
  "nbformat_minor": 5
}