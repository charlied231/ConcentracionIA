{
  "cells": [
    {
      "cell_type": "markdown",
      "id": "62633f7b",
      "metadata": {
        "id": "62633f7b"
      },
      "source": [
        "![Python_logo](https://www.python.org/static/community_logos/python-logo-master-v3-TM.png)\n",
        "\n",
        "\n",
        " # **Cortex Game: Round2--Conditional Amount**\n",
        "\n",
        "Please note that you need to run this notebook 'Round2--Conditional Amount' first, before running the notebook 'Round2--Probability of Giving'.   "
      ]
    },
    {
      "cell_type": "markdown",
      "id": "c86ee20b-a48f-40e0-a726-ed8d58c063b6",
      "metadata": {
        "id": "c86ee20b-a48f-40e0-a726-ed8d58c063b6"
      },
      "source": [
        "> Before playing the game, you need to connect to SASPy first.\n",
        ">\n",
        ">> If it is your first time, please follow the 4 steps mentioned below!"
      ]
    },
    {
      "cell_type": "markdown",
      "id": "002c4525-7d94-40d5-a71c-cad1c13347fa",
      "metadata": {
        "id": "002c4525-7d94-40d5-a71c-cad1c13347fa"
      },
      "source": [
        "***\n",
        "## **Connect to SASPy**"
      ]
    },
    {
      "cell_type": "markdown",
      "source": [
        "**0- Connect to your Google Drive folder**"
      ],
      "metadata": {
        "id": "o2U8LlKyD2xJ"
      },
      "id": "o2U8LlKyD2xJ"
    },
    {
      "cell_type": "code",
      "source": [
        "my_folder = \"/content/drive/MyDrive/Carrera IFI/7o Semestre/Reto3\"\n",
        "\n",
        "from google.colab import drive\n",
        "drive.mount('/content/drive')\n",
        "\n",
        "# Change the following code to set your Drive folder\n",
        "import os\n",
        "os.chdir(my_folder)\n",
        "!pwd"
      ],
      "metadata": {
        "colab": {
          "base_uri": "https://localhost:8080/"
        },
        "id": "g9wt4YQRD2L4",
        "outputId": "6b43babf-1e32-407e-fa16-c3fc0f8a108b"
      },
      "id": "g9wt4YQRD2L4",
      "execution_count": null,
      "outputs": [
        {
          "output_type": "stream",
          "name": "stdout",
          "text": [
            "Drive already mounted at /content/drive; to attempt to forcibly remount, call drive.mount(\"/content/drive\", force_remount=True).\n",
            "/content/drive/MyDrive/Carrera IFI/7o Semestre/Reto3\n"
          ]
        }
      ]
    },
    {
      "cell_type": "markdown",
      "id": "167ab055-0d92-4d45-987f-33c7272b5a41",
      "metadata": {
        "id": "167ab055-0d92-4d45-987f-33c7272b5a41"
      },
      "source": [
        "**1- Make sure that your Python version is 3.3 or higher as well as your Java version is 1.8.0_162 or higher**"
      ]
    },
    {
      "cell_type": "code",
      "execution_count": null,
      "id": "e10e8290-97b0-4166-8576-bdd0e7ccd288",
      "metadata": {
        "collapsed": true,
        "colab": {
          "base_uri": "https://localhost:8080/"
        },
        "id": "e10e8290-97b0-4166-8576-bdd0e7ccd288",
        "outputId": "38896c8e-2866-44a2-b9e8-a56aa4c8fbac"
      },
      "outputs": [
        {
          "output_type": "stream",
          "name": "stdout",
          "text": [
            "Python is at /usr/local/bin/python\n",
            "Python 3.8.15\n"
          ]
        }
      ],
      "source": [
        "!echo \"Python is at\" $(which python)\n",
        "!python --version"
      ]
    },
    {
      "cell_type": "code",
      "source": [
        "!echo \"Java is at\" $(which java)\n",
        "!/usr/bin/java -version"
      ],
      "metadata": {
        "colab": {
          "base_uri": "https://localhost:8080/"
        },
        "id": "qBZhEsp2D_jF",
        "outputId": "c542f053-9c68-40bc-b51d-938ff42560d8"
      },
      "id": "qBZhEsp2D_jF",
      "execution_count": null,
      "outputs": [
        {
          "output_type": "stream",
          "name": "stdout",
          "text": [
            "Java is at /usr/bin/java\n",
            "openjdk version \"11.0.17\" 2022-10-18\n",
            "OpenJDK Runtime Environment (build 11.0.17+8-post-Ubuntu-1ubuntu218.04)\n",
            "OpenJDK 64-Bit Server VM (build 11.0.17+8-post-Ubuntu-1ubuntu218.04, mixed mode, sharing)\n"
          ]
        }
      ]
    },
    {
      "cell_type": "markdown",
      "id": "86bdc74f-a047-4782-9737-41e0274fd1f7",
      "metadata": {
        "id": "86bdc74f-a047-4782-9737-41e0274fd1f7"
      },
      "source": [
        "**2- Install SASPy**"
      ]
    },
    {
      "cell_type": "code",
      "execution_count": null,
      "id": "07fc07de-8c34-4d44-be52-fb4cedf9fd6a",
      "metadata": {
        "collapsed": true,
        "colab": {
          "base_uri": "https://localhost:8080/"
        },
        "id": "07fc07de-8c34-4d44-be52-fb4cedf9fd6a",
        "outputId": "1ee6efcc-d5fd-4667-a0eb-8255dcdaa0d1"
      },
      "outputs": [
        {
          "output_type": "stream",
          "name": "stdout",
          "text": [
            "Looking in indexes: https://pypi.org/simple, https://us-python.pkg.dev/colab-wheels/public/simple/\n",
            "Requirement already satisfied: saspy in /usr/local/lib/python3.8/dist-packages (4.4.1)\n"
          ]
        }
      ],
      "source": [
        "!pip install saspy"
      ]
    },
    {
      "cell_type": "markdown",
      "id": "9d37f71f-228c-4aa6-b4a2-3b03200bb46a",
      "metadata": {
        "id": "9d37f71f-228c-4aa6-b4a2-3b03200bb46a"
      },
      "source": [
        "**3- Create the configuration file \"sascfg_personal.py\"**\n",
        "Please, check that your Home Region is correct, you can check it at [ODA-SAS](https://welcome.oda.sas.com/home)"
      ]
    },
    {
      "cell_type": "code",
      "execution_count": null,
      "id": "83761b63-3c3f-4e12-b2de-3f39a203986d",
      "metadata": {
        "collapsed": true,
        "tags": [],
        "colab": {
          "base_uri": "https://localhost:8080/"
        },
        "id": "83761b63-3c3f-4e12-b2de-3f39a203986d",
        "outputId": "a9e3300a-78cb-4603-cc7d-8e9eec98d0e6"
      },
      "outputs": [
        {
          "output_type": "stream",
          "name": "stdout",
          "text": [
            "Overwriting sascfg_personal.py\n"
          ]
        }
      ],
      "source": [
        "%%writefile sascfg_personal.py\n",
        "SAS_config_names=['oda']\n",
        "oda = {'java' : '/usr/bin/java',\n",
        "#US Home Region 1\n",
        "#'iomhost' : ['odaws01-usw2.oda.sas.com','odaws02-usw2.oda.sas.com','odaws03-usw2.oda.sas.com','odaws04-usw2.oda.sas.com'],\n",
        "#US Home Region 2\n",
        "'iomhost' : ['odaws01-usw2-2.oda.sas.com','odaws02-usw2-2.oda.sas.com'],\n",
        "#European Home Region 1\n",
        "#'iomhost' : ['odaws01-euw1.oda.sas.com','odaws02-euw1.oda.sas.com'],\n",
        "#Asia Pacific Home Region 1\n",
        "#'iomhost' : ['odaws01-apse1.oda.sas.com','odaws02-apse1.oda.sas.com'],\n",
        "#Asia Pacific Home Region 2\n",
        "#'iomhost' : ['odaws01-apse1-2.oda.sas.com','odaws02-apse1-2.oda.sas.com'],\n",
        "'iomport' : 8591,\n",
        "'authkey' : 'oda',\n",
        "'encoding' : 'utf-8'\n",
        "}"
      ]
    },
    {
      "cell_type": "markdown",
      "source": [
        "**4- Create your .authinfo**"
      ],
      "metadata": {
        "id": "YSM6Rl2zETJk"
      },
      "id": "YSM6Rl2zETJk"
    },
    {
      "cell_type": "markdown",
      "source": [
        "If there is no .authinfo file, you can create this"
      ],
      "metadata": {
        "id": "CSoOqIAgEXoM"
      },
      "id": "CSoOqIAgEXoM"
    },
    {
      "cell_type": "code",
      "source": [
        "#%%writefile .authinfo\n",
        "#oda user USR password PSW"
      ],
      "metadata": {
        "id": "UmLrv6cCETrF"
      },
      "id": "UmLrv6cCETrF",
      "execution_count": null,
      "outputs": []
    },
    {
      "cell_type": "markdown",
      "source": [
        "Copy this file to home"
      ],
      "metadata": {
        "id": "CQey8PS9EYm_"
      },
      "id": "CQey8PS9EYm_"
    },
    {
      "cell_type": "code",
      "source": [
        "!cp .authinfo ~/.authinfo"
      ],
      "metadata": {
        "id": "FM9XvF-GEbPi"
      },
      "id": "FM9XvF-GEbPi",
      "execution_count": null,
      "outputs": []
    },
    {
      "cell_type": "markdown",
      "id": "326e7b08-655d-4b1b-a720-87ba34c63d07",
      "metadata": {
        "id": "326e7b08-655d-4b1b-a720-87ba34c63d07"
      },
      "source": [
        "**5- Establish Connection (Need to do this step each time you use SASPy)**"
      ]
    },
    {
      "cell_type": "code",
      "execution_count": null,
      "id": "f5510764-6263-440e-9b0e-1cac5b1472f8",
      "metadata": {
        "collapsed": true,
        "colab": {
          "base_uri": "https://localhost:8080/"
        },
        "id": "f5510764-6263-440e-9b0e-1cac5b1472f8",
        "outputId": "04cbf236-d230-41bb-a493-eec8c892581d"
      },
      "outputs": [
        {
          "output_type": "stream",
          "name": "stdout",
          "text": [
            "Using SAS Config named: oda\n",
            "SAS Connection established. Subprocess id is 1111\n",
            "\n"
          ]
        },
        {
          "output_type": "execute_result",
          "data": {
            "text/plain": [
              "Access Method         = IOM\n",
              "SAS Config name       = oda\n",
              "SAS Config file       = /content/drive/MyDrive/Carrera IFI/7o Semestre/Reto3/sascfg_personal.py\n",
              "WORK Path             = /saswork/SAS_work5DA900015B72_odaws02-usw2-2.oda.sas.com/SAS_work62E700015B72_odaws02-usw2-2.oda.sas.com/\n",
              "SAS Version           = 9.04.01M6P11072018\n",
              "SASPy Version         = 4.4.1\n",
              "Teach me SAS          = False\n",
              "Batch                 = False\n",
              "Results               = Pandas\n",
              "SAS Session Encoding  = utf-8\n",
              "Python Encoding value = utf-8\n",
              "SAS process Pid value = 88946\n"
            ]
          },
          "metadata": {},
          "execution_count": 150
        }
      ],
      "source": [
        "import saspy\n",
        "sas_session = saspy.SASsession(cfgfile=os.path.join(\n",
        "    my_folder,\"sascfg_personal.py\"))\n",
        "sas_session"
      ]
    },
    {
      "cell_type": "markdown",
      "id": "19574f6f-9486-47f1-99e4-ca8141139cd4",
      "metadata": {
        "id": "19574f6f-9486-47f1-99e4-ca8141139cd4"
      },
      "source": [
        "***\n",
        "## Connect to Cortex Data Sets"
      ]
    },
    {
      "cell_type": "markdown",
      "id": "5ffa5b48",
      "metadata": {
        "id": "5ffa5b48"
      },
      "source": [
        "Load Cortex datasets from SAS Studio"
      ]
    },
    {
      "cell_type": "code",
      "source": [
        "ps = sas_session.submit(\"\"\"\n",
        "    libname cortex '~/my_shared_file_links/u39842936/Cortex Data Sets';\n",
        "    \"\"\")\n",
        "print(ps[\"LOG\"])"
      ],
      "metadata": {
        "colab": {
          "base_uri": "https://localhost:8080/"
        },
        "id": "NWl0nAdKElrE",
        "outputId": "edd689df-73e6-4fd7-cea3-851149825f82"
      },
      "id": "NWl0nAdKElrE",
      "execution_count": null,
      "outputs": [
        {
          "output_type": "stream",
          "name": "stdout",
          "text": [
            "\n",
            "5                                                          The SAS System                      Friday, December  2, 2022 09:31:00 AM\n",
            "\n",
            "24         ods listing close;ods html5 (id=saspy_internal) file=_tomods1 options(bitmap_mode='inline') device=svg style=HTMLBlue;\n",
            "24       ! ods graphics on / outputfmt=png;\n",
            "25         \n",
            "26         \n",
            "27             libname cortex '~/my_shared_file_links/u39842936/Cortex Data Sets';\n",
            "28         \n",
            "29         \n",
            "30         \n",
            "31         ods html5 (id=saspy_internal) close;ods listing;\n",
            "32         \n",
            "\n",
            "6                                                          The SAS System                      Friday, December  2, 2022 09:31:00 AM\n",
            "\n",
            "33         \n"
          ]
        }
      ]
    },
    {
      "cell_type": "markdown",
      "source": [
        "For local Jupyter"
      ],
      "metadata": {
        "id": "ib1jUAN5Enkz"
      },
      "id": "ib1jUAN5Enkz"
    },
    {
      "cell_type": "code",
      "execution_count": null,
      "id": "d4204cf9",
      "metadata": {
        "collapsed": true,
        "id": "d4204cf9"
      },
      "outputs": [],
      "source": [
        "#%%SAS sas_session\n",
        "#libname cortex '~/my_shared_file_links/u39842936/Cortex Data Sets';"
      ]
    },
    {
      "cell_type": "markdown",
      "id": "bb730ee9",
      "metadata": {
        "id": "bb730ee9"
      },
      "source": [
        "### Transform cloud SAS dataset to Python dataframe (pandas)\n",
        "\n",
        "> For reference: \n",
        "\n",
        "> 1- [Pandas library](https://pandas.pydata.org/docs/user_guide/index.html)\n",
        "\n",
        "> 2- [sklearn.model_selection for data partition](https://scikit-learn.org/stable/modules/generated/sklearn.model_selection.train_test_split.html)"
      ]
    },
    {
      "cell_type": "code",
      "execution_count": null,
      "id": "f298efcc",
      "metadata": {
        "id": "f298efcc"
      },
      "outputs": [],
      "source": [
        "import pandas as pd\n",
        "\n",
        "#comment: Transform cloud sas dataset to python dataframe(pandas) ==> might take some time.\n",
        "\n",
        "data1 = sas_session.sasdata2dataframe(\n",
        "table='hist',\n",
        "libref='cortex'\n",
        ")\n",
        "\n",
        "data2 = sas_session.sasdata2dataframe(\n",
        "table='target_rd2',\n",
        "libref='cortex'\n",
        ")"
      ]
    },
    {
      "cell_type": "markdown",
      "id": "5d6a7d11-cd31-452e-a62b-b74479b86898",
      "metadata": {
        "id": "5d6a7d11-cd31-452e-a62b-b74479b86898"
      },
      "source": [
        "## Merge the Data"
      ]
    },
    {
      "cell_type": "code",
      "execution_count": null,
      "id": "419ef624",
      "metadata": {
        "collapsed": true,
        "colab": {
          "base_uri": "https://localhost:8080/"
        },
        "id": "419ef624",
        "outputId": "186374e0-2345-436a-9c33-77bdd2c7d496"
      },
      "outputs": [
        {
          "output_type": "execute_result",
          "data": {
            "text/plain": [
              "               ID LastName FirstName  Woman   Age   Salary    Education  \\\n",
              "294350  2294351.0    DAVIE      RITA    1.0  55.0  44600.0  High School   \n",
              "54602   2054603.0  GREINER    PAMELA    1.0  23.0  48700.0  High School   \n",
              "\n",
              "            City  SeniorList  NbActivities  ...  Frequency  Seniority  \\\n",
              "294350  Downtown         8.0           3.0  ...        2.0        4.0   \n",
              "54602       City         1.0           0.0  ...        1.0        1.0   \n",
              "\n",
              "        TotalGift  MinGift  MaxGift  GaveLastYear  AmtLastYear  Contact  \\\n",
              "294350       30.0     10.0     20.0           1.0         75.0      0.0   \n",
              "54602        30.0     30.0     30.0           0.0          0.0      0.0   \n",
              "\n",
              "        GaveThisYear  AmtThisYear  \n",
              "294350           1.0        100.0  \n",
              "54602            1.0         40.0  \n",
              "\n",
              "[2 rows x 22 columns]"
            ],
            "text/html": [
              "\n",
              "  <div id=\"df-717d815d-168e-4017-a2ef-aa9932e36294\">\n",
              "    <div class=\"colab-df-container\">\n",
              "      <div>\n",
              "<style scoped>\n",
              "    .dataframe tbody tr th:only-of-type {\n",
              "        vertical-align: middle;\n",
              "    }\n",
              "\n",
              "    .dataframe tbody tr th {\n",
              "        vertical-align: top;\n",
              "    }\n",
              "\n",
              "    .dataframe thead th {\n",
              "        text-align: right;\n",
              "    }\n",
              "</style>\n",
              "<table border=\"1\" class=\"dataframe\">\n",
              "  <thead>\n",
              "    <tr style=\"text-align: right;\">\n",
              "      <th></th>\n",
              "      <th>ID</th>\n",
              "      <th>LastName</th>\n",
              "      <th>FirstName</th>\n",
              "      <th>Woman</th>\n",
              "      <th>Age</th>\n",
              "      <th>Salary</th>\n",
              "      <th>Education</th>\n",
              "      <th>City</th>\n",
              "      <th>SeniorList</th>\n",
              "      <th>NbActivities</th>\n",
              "      <th>...</th>\n",
              "      <th>Frequency</th>\n",
              "      <th>Seniority</th>\n",
              "      <th>TotalGift</th>\n",
              "      <th>MinGift</th>\n",
              "      <th>MaxGift</th>\n",
              "      <th>GaveLastYear</th>\n",
              "      <th>AmtLastYear</th>\n",
              "      <th>Contact</th>\n",
              "      <th>GaveThisYear</th>\n",
              "      <th>AmtThisYear</th>\n",
              "    </tr>\n",
              "  </thead>\n",
              "  <tbody>\n",
              "    <tr>\n",
              "      <th>294350</th>\n",
              "      <td>2294351.0</td>\n",
              "      <td>DAVIE</td>\n",
              "      <td>RITA</td>\n",
              "      <td>1.0</td>\n",
              "      <td>55.0</td>\n",
              "      <td>44600.0</td>\n",
              "      <td>High School</td>\n",
              "      <td>Downtown</td>\n",
              "      <td>8.0</td>\n",
              "      <td>3.0</td>\n",
              "      <td>...</td>\n",
              "      <td>2.0</td>\n",
              "      <td>4.0</td>\n",
              "      <td>30.0</td>\n",
              "      <td>10.0</td>\n",
              "      <td>20.0</td>\n",
              "      <td>1.0</td>\n",
              "      <td>75.0</td>\n",
              "      <td>0.0</td>\n",
              "      <td>1.0</td>\n",
              "      <td>100.0</td>\n",
              "    </tr>\n",
              "    <tr>\n",
              "      <th>54602</th>\n",
              "      <td>2054603.0</td>\n",
              "      <td>GREINER</td>\n",
              "      <td>PAMELA</td>\n",
              "      <td>1.0</td>\n",
              "      <td>23.0</td>\n",
              "      <td>48700.0</td>\n",
              "      <td>High School</td>\n",
              "      <td>City</td>\n",
              "      <td>1.0</td>\n",
              "      <td>0.0</td>\n",
              "      <td>...</td>\n",
              "      <td>1.0</td>\n",
              "      <td>1.0</td>\n",
              "      <td>30.0</td>\n",
              "      <td>30.0</td>\n",
              "      <td>30.0</td>\n",
              "      <td>0.0</td>\n",
              "      <td>0.0</td>\n",
              "      <td>0.0</td>\n",
              "      <td>1.0</td>\n",
              "      <td>40.0</td>\n",
              "    </tr>\n",
              "  </tbody>\n",
              "</table>\n",
              "<p>2 rows × 22 columns</p>\n",
              "</div>\n",
              "      <button class=\"colab-df-convert\" onclick=\"convertToInteractive('df-717d815d-168e-4017-a2ef-aa9932e36294')\"\n",
              "              title=\"Convert this dataframe to an interactive table.\"\n",
              "              style=\"display:none;\">\n",
              "        \n",
              "  <svg xmlns=\"http://www.w3.org/2000/svg\" height=\"24px\"viewBox=\"0 0 24 24\"\n",
              "       width=\"24px\">\n",
              "    <path d=\"M0 0h24v24H0V0z\" fill=\"none\"/>\n",
              "    <path d=\"M18.56 5.44l.94 2.06.94-2.06 2.06-.94-2.06-.94-.94-2.06-.94 2.06-2.06.94zm-11 1L8.5 8.5l.94-2.06 2.06-.94-2.06-.94L8.5 2.5l-.94 2.06-2.06.94zm10 10l.94 2.06.94-2.06 2.06-.94-2.06-.94-.94-2.06-.94 2.06-2.06.94z\"/><path d=\"M17.41 7.96l-1.37-1.37c-.4-.4-.92-.59-1.43-.59-.52 0-1.04.2-1.43.59L10.3 9.45l-7.72 7.72c-.78.78-.78 2.05 0 2.83L4 21.41c.39.39.9.59 1.41.59.51 0 1.02-.2 1.41-.59l7.78-7.78 2.81-2.81c.8-.78.8-2.07 0-2.86zM5.41 20L4 18.59l7.72-7.72 1.47 1.35L5.41 20z\"/>\n",
              "  </svg>\n",
              "      </button>\n",
              "      \n",
              "  <style>\n",
              "    .colab-df-container {\n",
              "      display:flex;\n",
              "      flex-wrap:wrap;\n",
              "      gap: 12px;\n",
              "    }\n",
              "\n",
              "    .colab-df-convert {\n",
              "      background-color: #E8F0FE;\n",
              "      border: none;\n",
              "      border-radius: 50%;\n",
              "      cursor: pointer;\n",
              "      display: none;\n",
              "      fill: #1967D2;\n",
              "      height: 32px;\n",
              "      padding: 0 0 0 0;\n",
              "      width: 32px;\n",
              "    }\n",
              "\n",
              "    .colab-df-convert:hover {\n",
              "      background-color: #E2EBFA;\n",
              "      box-shadow: 0px 1px 2px rgba(60, 64, 67, 0.3), 0px 1px 3px 1px rgba(60, 64, 67, 0.15);\n",
              "      fill: #174EA6;\n",
              "    }\n",
              "\n",
              "    [theme=dark] .colab-df-convert {\n",
              "      background-color: #3B4455;\n",
              "      fill: #D2E3FC;\n",
              "    }\n",
              "\n",
              "    [theme=dark] .colab-df-convert:hover {\n",
              "      background-color: #434B5C;\n",
              "      box-shadow: 0px 1px 3px 1px rgba(0, 0, 0, 0.15);\n",
              "      filter: drop-shadow(0px 1px 2px rgba(0, 0, 0, 0.3));\n",
              "      fill: #FFFFFF;\n",
              "    }\n",
              "  </style>\n",
              "\n",
              "      <script>\n",
              "        const buttonEl =\n",
              "          document.querySelector('#df-717d815d-168e-4017-a2ef-aa9932e36294 button.colab-df-convert');\n",
              "        buttonEl.style.display =\n",
              "          google.colab.kernel.accessAllowed ? 'block' : 'none';\n",
              "\n",
              "        async function convertToInteractive(key) {\n",
              "          const element = document.querySelector('#df-717d815d-168e-4017-a2ef-aa9932e36294');\n",
              "          const dataTable =\n",
              "            await google.colab.kernel.invokeFunction('convertToInteractive',\n",
              "                                                     [key], {});\n",
              "          if (!dataTable) return;\n",
              "\n",
              "          const docLinkHtml = 'Like what you see? Visit the ' +\n",
              "            '<a target=\"_blank\" href=https://colab.research.google.com/notebooks/data_table.ipynb>data table notebook</a>'\n",
              "            + ' to learn more about interactive tables.';\n",
              "          element.innerHTML = '';\n",
              "          dataTable['output_type'] = 'display_data';\n",
              "          await google.colab.output.renderOutput(dataTable, element);\n",
              "          const docLink = document.createElement('div');\n",
              "          docLink.innerHTML = docLinkHtml;\n",
              "          element.appendChild(docLink);\n",
              "        }\n",
              "      </script>\n",
              "    </div>\n",
              "  </div>\n",
              "  "
            ]
          },
          "metadata": {},
          "execution_count": 154
        }
      ],
      "source": [
        "#Step1 Merge the Data\n",
        "data_merge = pd.merge(data1, data2, on=[\"ID\"],how=\"right\")\n",
        "data_merge = data_merge.loc[(data_merge['GaveThisYear'] ==1)]\n",
        "data_merge.sample(2)"
      ]
    },
    {
      "cell_type": "code",
      "source": [
        "data_merge.rename(columns={\"City\": \"Location\"}, inplace = True)\n"
      ],
      "metadata": {
        "colab": {
          "base_uri": "https://localhost:8080/"
        },
        "id": "uf_4PyskciPU",
        "outputId": "ee117d5e-68b9-4f38-dba9-eb88244fef18"
      },
      "id": "uf_4PyskciPU",
      "execution_count": null,
      "outputs": [
        {
          "output_type": "stream",
          "name": "stderr",
          "text": [
            "/usr/local/lib/python3.8/dist-packages/pandas/core/frame.py:5039: SettingWithCopyWarning: \n",
            "A value is trying to be set on a copy of a slice from a DataFrame\n",
            "\n",
            "See the caveats in the documentation: https://pandas.pydata.org/pandas-docs/stable/user_guide/indexing.html#returning-a-view-versus-a-copy\n",
            "  return super().rename(\n"
          ]
        }
      ]
    },
    {
      "cell_type": "code",
      "source": [
        "def dummies(df, column):\n",
        "  df = pd.concat([df, pd.get_dummies(df[column])], axis = 1)\n",
        "  return df.drop(column, axis=1)\n",
        "\n",
        "data_mergeX = dummies(data_merge, \"Education\")\n",
        "data_mergeX = dummies(data_mergeX, \"Location\")"
      ],
      "metadata": {
        "id": "lFuGoCE_cnmA"
      },
      "id": "lFuGoCE_cnmA",
      "execution_count": null,
      "outputs": []
    },
    {
      "cell_type": "code",
      "source": [
        "data_merge.info()"
      ],
      "metadata": {
        "colab": {
          "base_uri": "https://localhost:8080/"
        },
        "id": "hNqRPaI11krw",
        "outputId": "be45ddd7-974d-4134-b30a-51f6d6977083"
      },
      "id": "hNqRPaI11krw",
      "execution_count": null,
      "outputs": [
        {
          "output_type": "stream",
          "name": "stdout",
          "text": [
            "<class 'pandas.core.frame.DataFrame'>\n",
            "Int64Index: 149457 entries, 3 to 999998\n",
            "Data columns (total 22 columns):\n",
            " #   Column        Non-Null Count   Dtype  \n",
            "---  ------        --------------   -----  \n",
            " 0   ID            149457 non-null  float64\n",
            " 1   LastName      149454 non-null  object \n",
            " 2   FirstName     149457 non-null  object \n",
            " 3   Woman         149457 non-null  float64\n",
            " 4   Age           149457 non-null  float64\n",
            " 5   Salary        149457 non-null  float64\n",
            " 6   Education     149457 non-null  object \n",
            " 7   Location      149457 non-null  object \n",
            " 8   SeniorList    149457 non-null  float64\n",
            " 9   NbActivities  149457 non-null  float64\n",
            " 10  Referrals     149457 non-null  float64\n",
            " 11  Recency       68433 non-null   float64\n",
            " 12  Frequency     68433 non-null   float64\n",
            " 13  Seniority     68433 non-null   float64\n",
            " 14  TotalGift     68433 non-null   float64\n",
            " 15  MinGift       68433 non-null   float64\n",
            " 16  MaxGift       68433 non-null   float64\n",
            " 17  GaveLastYear  149457 non-null  float64\n",
            " 18  AmtLastYear   149457 non-null  float64\n",
            " 19  Contact       149457 non-null  float64\n",
            " 20  GaveThisYear  149457 non-null  float64\n",
            " 21  AmtThisYear   149457 non-null  float64\n",
            "dtypes: float64(18), object(4)\n",
            "memory usage: 26.2+ MB\n"
          ]
        }
      ]
    },
    {
      "cell_type": "markdown",
      "id": "9b4a77b7-6c92-44e7-a936-284a643edd13",
      "metadata": {
        "id": "9b4a77b7-6c92-44e7-a936-284a643edd13"
      },
      "source": [
        "## Treating Missing Values\n",
        "\n",
        ">Please be aware that deleting all missing values can induce a selection bias. \n",
        "Some missing values are very informative. For example, when MinGift is missing, it means that the donor never gave in the past 10 years (leading to but excluding last year). Instead of deleting this information, replacing it by 0 is more appropriate!\n",
        "\n",
        "> A good understanding of the business case and the data can help you come up with more appropriate strategies to deal with missing values."
      ]
    },
    {
      "cell_type": "code",
      "source": [
        "data_merge['Salary'].describe()"
      ],
      "metadata": {
        "colab": {
          "base_uri": "https://localhost:8080/"
        },
        "id": "OF84kGTi1dWO",
        "outputId": "dafd219c-75a8-40f4-b076-4bed2b5a9de8"
      },
      "id": "OF84kGTi1dWO",
      "execution_count": null,
      "outputs": [
        {
          "output_type": "execute_result",
          "data": {
            "text/plain": [
              "count    149457.000000\n",
              "mean      63898.012137\n",
              "std       60194.539355\n",
              "min           0.000000\n",
              "25%       20300.000000\n",
              "50%       43000.000000\n",
              "75%       87000.000000\n",
              "max      250000.000000\n",
              "Name: Salary, dtype: float64"
            ]
          },
          "metadata": {},
          "execution_count": 158
        }
      ]
    },
    {
      "cell_type": "code",
      "source": [
        "import numpy as np\n",
        "data_mergeX[\"SalaryLog10\"] = np.log10(data_merge['Salary']+1)\n"
      ],
      "metadata": {
        "id": "x-0FMURX1BBx"
      },
      "id": "x-0FMURX1BBx",
      "execution_count": null,
      "outputs": []
    },
    {
      "cell_type": "code",
      "source": [
        "data_mergeX['SalaryLog10'].describe()"
      ],
      "metadata": {
        "colab": {
          "base_uri": "https://localhost:8080/"
        },
        "id": "Vg6jsavW1y3u",
        "outputId": "2719833b-c983-4f59-fd28-a43ac8390a17"
      },
      "id": "Vg6jsavW1y3u",
      "execution_count": null,
      "outputs": [
        {
          "output_type": "execute_result",
          "data": {
            "text/plain": [
              "count    149457.000000\n",
              "mean          4.575241\n",
              "std           0.529042\n",
              "min           0.000000\n",
              "25%           4.307517\n",
              "50%           4.633479\n",
              "75%           4.939524\n",
              "max           5.397942\n",
              "Name: SalaryLog10, dtype: float64"
            ]
          },
          "metadata": {},
          "execution_count": 160
        }
      ]
    },
    {
      "cell_type": "code",
      "execution_count": null,
      "id": "8189f447-0c2a-42d0-964e-11fa43b82411",
      "metadata": {
        "collapsed": true,
        "colab": {
          "base_uri": "https://localhost:8080/",
          "height": 254
        },
        "id": "8189f447-0c2a-42d0-964e-11fa43b82411",
        "outputId": "7e9dc0db-35df-47c5-c118-21c089dd22a8"
      },
      "outputs": [
        {
          "output_type": "execute_result",
          "data": {
            "text/plain": [
              "               ID   LastName FirstName  Woman   Age    Salary  SeniorList  \\\n",
              "601003  2601004.0     MILLER   RAYMOND    0.0  33.0  229300.0         5.0   \n",
              "22573   2022574.0  MAGDALENO      JOHN    0.0  19.0   69100.0         4.0   \n",
              "480304  2480305.0    HILDMAN      MYRA    1.0  25.0  193400.0         7.0   \n",
              "\n",
              "        NbActivities  Referrals  Recency  ...  AmtThisYear  Elementary  \\\n",
              "601003           2.0        0.0      1.0  ...         20.0           0   \n",
              "22573            0.0        0.0     20.0  ...         80.0           0   \n",
              "480304           1.0        1.0     20.0  ...         25.0           0   \n",
              "\n",
              "        High School  University / College  City  Downtown  Rural  Suburban  \\\n",
              "601003            0                     1     0         1      0         0   \n",
              "22573             0                     1     0         1      0         0   \n",
              "480304            0                     1     0         0      1         0   \n",
              "\n",
              "        SalaryLog10  HistoricDonor  \n",
              "601003     5.360406              1  \n",
              "22573      4.839484              0  \n",
              "480304     5.286459              0  \n",
              "\n",
              "[3 rows x 29 columns]"
            ],
            "text/html": [
              "\n",
              "  <div id=\"df-01f719ba-ac89-443c-9e08-8ed8fb98345d\">\n",
              "    <div class=\"colab-df-container\">\n",
              "      <div>\n",
              "<style scoped>\n",
              "    .dataframe tbody tr th:only-of-type {\n",
              "        vertical-align: middle;\n",
              "    }\n",
              "\n",
              "    .dataframe tbody tr th {\n",
              "        vertical-align: top;\n",
              "    }\n",
              "\n",
              "    .dataframe thead th {\n",
              "        text-align: right;\n",
              "    }\n",
              "</style>\n",
              "<table border=\"1\" class=\"dataframe\">\n",
              "  <thead>\n",
              "    <tr style=\"text-align: right;\">\n",
              "      <th></th>\n",
              "      <th>ID</th>\n",
              "      <th>LastName</th>\n",
              "      <th>FirstName</th>\n",
              "      <th>Woman</th>\n",
              "      <th>Age</th>\n",
              "      <th>Salary</th>\n",
              "      <th>SeniorList</th>\n",
              "      <th>NbActivities</th>\n",
              "      <th>Referrals</th>\n",
              "      <th>Recency</th>\n",
              "      <th>...</th>\n",
              "      <th>AmtThisYear</th>\n",
              "      <th>Elementary</th>\n",
              "      <th>High School</th>\n",
              "      <th>University / College</th>\n",
              "      <th>City</th>\n",
              "      <th>Downtown</th>\n",
              "      <th>Rural</th>\n",
              "      <th>Suburban</th>\n",
              "      <th>SalaryLog10</th>\n",
              "      <th>HistoricDonor</th>\n",
              "    </tr>\n",
              "  </thead>\n",
              "  <tbody>\n",
              "    <tr>\n",
              "      <th>601003</th>\n",
              "      <td>2601004.0</td>\n",
              "      <td>MILLER</td>\n",
              "      <td>RAYMOND</td>\n",
              "      <td>0.0</td>\n",
              "      <td>33.0</td>\n",
              "      <td>229300.0</td>\n",
              "      <td>5.0</td>\n",
              "      <td>2.0</td>\n",
              "      <td>0.0</td>\n",
              "      <td>1.0</td>\n",
              "      <td>...</td>\n",
              "      <td>20.0</td>\n",
              "      <td>0</td>\n",
              "      <td>0</td>\n",
              "      <td>1</td>\n",
              "      <td>0</td>\n",
              "      <td>1</td>\n",
              "      <td>0</td>\n",
              "      <td>0</td>\n",
              "      <td>5.360406</td>\n",
              "      <td>1</td>\n",
              "    </tr>\n",
              "    <tr>\n",
              "      <th>22573</th>\n",
              "      <td>2022574.0</td>\n",
              "      <td>MAGDALENO</td>\n",
              "      <td>JOHN</td>\n",
              "      <td>0.0</td>\n",
              "      <td>19.0</td>\n",
              "      <td>69100.0</td>\n",
              "      <td>4.0</td>\n",
              "      <td>0.0</td>\n",
              "      <td>0.0</td>\n",
              "      <td>20.0</td>\n",
              "      <td>...</td>\n",
              "      <td>80.0</td>\n",
              "      <td>0</td>\n",
              "      <td>0</td>\n",
              "      <td>1</td>\n",
              "      <td>0</td>\n",
              "      <td>1</td>\n",
              "      <td>0</td>\n",
              "      <td>0</td>\n",
              "      <td>4.839484</td>\n",
              "      <td>0</td>\n",
              "    </tr>\n",
              "    <tr>\n",
              "      <th>480304</th>\n",
              "      <td>2480305.0</td>\n",
              "      <td>HILDMAN</td>\n",
              "      <td>MYRA</td>\n",
              "      <td>1.0</td>\n",
              "      <td>25.0</td>\n",
              "      <td>193400.0</td>\n",
              "      <td>7.0</td>\n",
              "      <td>1.0</td>\n",
              "      <td>1.0</td>\n",
              "      <td>20.0</td>\n",
              "      <td>...</td>\n",
              "      <td>25.0</td>\n",
              "      <td>0</td>\n",
              "      <td>0</td>\n",
              "      <td>1</td>\n",
              "      <td>0</td>\n",
              "      <td>0</td>\n",
              "      <td>1</td>\n",
              "      <td>0</td>\n",
              "      <td>5.286459</td>\n",
              "      <td>0</td>\n",
              "    </tr>\n",
              "  </tbody>\n",
              "</table>\n",
              "<p>3 rows × 29 columns</p>\n",
              "</div>\n",
              "      <button class=\"colab-df-convert\" onclick=\"convertToInteractive('df-01f719ba-ac89-443c-9e08-8ed8fb98345d')\"\n",
              "              title=\"Convert this dataframe to an interactive table.\"\n",
              "              style=\"display:none;\">\n",
              "        \n",
              "  <svg xmlns=\"http://www.w3.org/2000/svg\" height=\"24px\"viewBox=\"0 0 24 24\"\n",
              "       width=\"24px\">\n",
              "    <path d=\"M0 0h24v24H0V0z\" fill=\"none\"/>\n",
              "    <path d=\"M18.56 5.44l.94 2.06.94-2.06 2.06-.94-2.06-.94-.94-2.06-.94 2.06-2.06.94zm-11 1L8.5 8.5l.94-2.06 2.06-.94-2.06-.94L8.5 2.5l-.94 2.06-2.06.94zm10 10l.94 2.06.94-2.06 2.06-.94-2.06-.94-.94-2.06-.94 2.06-2.06.94z\"/><path d=\"M17.41 7.96l-1.37-1.37c-.4-.4-.92-.59-1.43-.59-.52 0-1.04.2-1.43.59L10.3 9.45l-7.72 7.72c-.78.78-.78 2.05 0 2.83L4 21.41c.39.39.9.59 1.41.59.51 0 1.02-.2 1.41-.59l7.78-7.78 2.81-2.81c.8-.78.8-2.07 0-2.86zM5.41 20L4 18.59l7.72-7.72 1.47 1.35L5.41 20z\"/>\n",
              "  </svg>\n",
              "      </button>\n",
              "      \n",
              "  <style>\n",
              "    .colab-df-container {\n",
              "      display:flex;\n",
              "      flex-wrap:wrap;\n",
              "      gap: 12px;\n",
              "    }\n",
              "\n",
              "    .colab-df-convert {\n",
              "      background-color: #E8F0FE;\n",
              "      border: none;\n",
              "      border-radius: 50%;\n",
              "      cursor: pointer;\n",
              "      display: none;\n",
              "      fill: #1967D2;\n",
              "      height: 32px;\n",
              "      padding: 0 0 0 0;\n",
              "      width: 32px;\n",
              "    }\n",
              "\n",
              "    .colab-df-convert:hover {\n",
              "      background-color: #E2EBFA;\n",
              "      box-shadow: 0px 1px 2px rgba(60, 64, 67, 0.3), 0px 1px 3px 1px rgba(60, 64, 67, 0.15);\n",
              "      fill: #174EA6;\n",
              "    }\n",
              "\n",
              "    [theme=dark] .colab-df-convert {\n",
              "      background-color: #3B4455;\n",
              "      fill: #D2E3FC;\n",
              "    }\n",
              "\n",
              "    [theme=dark] .colab-df-convert:hover {\n",
              "      background-color: #434B5C;\n",
              "      box-shadow: 0px 1px 3px 1px rgba(0, 0, 0, 0.15);\n",
              "      filter: drop-shadow(0px 1px 2px rgba(0, 0, 0, 0.3));\n",
              "      fill: #FFFFFF;\n",
              "    }\n",
              "  </style>\n",
              "\n",
              "      <script>\n",
              "        const buttonEl =\n",
              "          document.querySelector('#df-01f719ba-ac89-443c-9e08-8ed8fb98345d button.colab-df-convert');\n",
              "        buttonEl.style.display =\n",
              "          google.colab.kernel.accessAllowed ? 'block' : 'none';\n",
              "\n",
              "        async function convertToInteractive(key) {\n",
              "          const element = document.querySelector('#df-01f719ba-ac89-443c-9e08-8ed8fb98345d');\n",
              "          const dataTable =\n",
              "            await google.colab.kernel.invokeFunction('convertToInteractive',\n",
              "                                                     [key], {});\n",
              "          if (!dataTable) return;\n",
              "\n",
              "          const docLinkHtml = 'Like what you see? Visit the ' +\n",
              "            '<a target=\"_blank\" href=https://colab.research.google.com/notebooks/data_table.ipynb>data table notebook</a>'\n",
              "            + ' to learn more about interactive tables.';\n",
              "          element.innerHTML = '';\n",
              "          dataTable['output_type'] = 'display_data';\n",
              "          await google.colab.output.renderOutput(dataTable, element);\n",
              "          const docLink = document.createElement('div');\n",
              "          docLink.innerHTML = docLinkHtml;\n",
              "          element.appendChild(docLink);\n",
              "        }\n",
              "      </script>\n",
              "    </div>\n",
              "  </div>\n",
              "  "
            ]
          },
          "metadata": {},
          "execution_count": 161
        }
      ],
      "source": [
        "# In this case, we are replacing MinGift by 0.\n",
        "# You can do the same for what you think is reasonable for dealing with the other variables.\n",
        "\n",
        "data_mergeX[['MinGift']] = data_merge[['MinGift']].fillna(value=0)  \n",
        "\n",
        "data_mergeX[['HistoricDonor']] = data_merge[['Frequency']].notna().astype(int)\n",
        "data_mergeX[['Frequency']] = data_merge[['Frequency']].fillna(value=0)  \n",
        "data_mergeX[['Recency']] = data_merge[['Frequency']].fillna(value=20)  \n",
        "\n",
        "data_mergeX[['TotalGift']] = data_merge[['TotalGift']].fillna(value=0)  \n",
        "\n",
        "\n",
        "data_mergeX.sample(3)"
      ]
    },
    {
      "cell_type": "markdown",
      "id": "1137c438-65da-4f16-94b8-dee2f83e3abe",
      "metadata": {
        "id": "1137c438-65da-4f16-94b8-dee2f83e3abe"
      },
      "source": [
        "## Data Partition"
      ]
    },
    {
      "cell_type": "code",
      "execution_count": null,
      "id": "4f0675fa-f72b-4786-bce4-0cee646d258a",
      "metadata": {
        "collapsed": true,
        "colab": {
          "base_uri": "https://localhost:8080/",
          "height": 317
        },
        "id": "4f0675fa-f72b-4786-bce4-0cee646d258a",
        "outputId": "0c119d0a-b0af-49e3-c5c9-3030d218de76"
      },
      "outputs": [
        {
          "output_type": "execute_result",
          "data": {
            "text/plain": [
              "               ID LastName  FirstName  Woman   Age    Salary  SeniorList  \\\n",
              "184243  2184244.0   MARTIN      KELLY    1.0  23.0    2700.0         8.0   \n",
              "305259  2305260.0   PROPST  CATHERINE    1.0  58.0   37300.0         0.0   \n",
              "646901  2646902.0    LLOYD      STEVE    0.0  72.0  217500.0         2.0   \n",
              "36761   2036762.0  DEMPSEY    WILLIAM    0.0  56.0    3800.0         1.0   \n",
              "807171  2807172.0     KING      KATHY    1.0  32.0  145600.0         6.0   \n",
              "\n",
              "        NbActivities  Referrals  Recency  ...  AmtThisYear  Elementary  \\\n",
              "184243           3.0        0.0     20.0  ...         15.0           0   \n",
              "305259           0.0        0.0     20.0  ...        250.0           0   \n",
              "646901           0.0        0.0      1.0  ...         10.0           0   \n",
              "36761            0.0        0.0     20.0  ...         25.0           0   \n",
              "807171           5.0        1.0      3.0  ...        150.0           0   \n",
              "\n",
              "        High School  University / College  City  Downtown  Rural  Suburban  \\\n",
              "184243            1                     0     0         0      0         1   \n",
              "305259            1                     0     1         0      0         0   \n",
              "646901            0                     1     0         0      1         0   \n",
              "36761             0                     1     1         0      0         0   \n",
              "807171            0                     1     1         0      0         0   \n",
              "\n",
              "        SalaryLog10  HistoricDonor  \n",
              "184243     3.431525              0  \n",
              "305259     4.571720              0  \n",
              "646901     5.337461              1  \n",
              "36761      3.579898              0  \n",
              "807171     5.163164              1  \n",
              "\n",
              "[5 rows x 29 columns]"
            ],
            "text/html": [
              "\n",
              "  <div id=\"df-62699551-6f77-4074-bd01-e0b2455b3d1f\">\n",
              "    <div class=\"colab-df-container\">\n",
              "      <div>\n",
              "<style scoped>\n",
              "    .dataframe tbody tr th:only-of-type {\n",
              "        vertical-align: middle;\n",
              "    }\n",
              "\n",
              "    .dataframe tbody tr th {\n",
              "        vertical-align: top;\n",
              "    }\n",
              "\n",
              "    .dataframe thead th {\n",
              "        text-align: right;\n",
              "    }\n",
              "</style>\n",
              "<table border=\"1\" class=\"dataframe\">\n",
              "  <thead>\n",
              "    <tr style=\"text-align: right;\">\n",
              "      <th></th>\n",
              "      <th>ID</th>\n",
              "      <th>LastName</th>\n",
              "      <th>FirstName</th>\n",
              "      <th>Woman</th>\n",
              "      <th>Age</th>\n",
              "      <th>Salary</th>\n",
              "      <th>SeniorList</th>\n",
              "      <th>NbActivities</th>\n",
              "      <th>Referrals</th>\n",
              "      <th>Recency</th>\n",
              "      <th>...</th>\n",
              "      <th>AmtThisYear</th>\n",
              "      <th>Elementary</th>\n",
              "      <th>High School</th>\n",
              "      <th>University / College</th>\n",
              "      <th>City</th>\n",
              "      <th>Downtown</th>\n",
              "      <th>Rural</th>\n",
              "      <th>Suburban</th>\n",
              "      <th>SalaryLog10</th>\n",
              "      <th>HistoricDonor</th>\n",
              "    </tr>\n",
              "  </thead>\n",
              "  <tbody>\n",
              "    <tr>\n",
              "      <th>184243</th>\n",
              "      <td>2184244.0</td>\n",
              "      <td>MARTIN</td>\n",
              "      <td>KELLY</td>\n",
              "      <td>1.0</td>\n",
              "      <td>23.0</td>\n",
              "      <td>2700.0</td>\n",
              "      <td>8.0</td>\n",
              "      <td>3.0</td>\n",
              "      <td>0.0</td>\n",
              "      <td>20.0</td>\n",
              "      <td>...</td>\n",
              "      <td>15.0</td>\n",
              "      <td>0</td>\n",
              "      <td>1</td>\n",
              "      <td>0</td>\n",
              "      <td>0</td>\n",
              "      <td>0</td>\n",
              "      <td>0</td>\n",
              "      <td>1</td>\n",
              "      <td>3.431525</td>\n",
              "      <td>0</td>\n",
              "    </tr>\n",
              "    <tr>\n",
              "      <th>305259</th>\n",
              "      <td>2305260.0</td>\n",
              "      <td>PROPST</td>\n",
              "      <td>CATHERINE</td>\n",
              "      <td>1.0</td>\n",
              "      <td>58.0</td>\n",
              "      <td>37300.0</td>\n",
              "      <td>0.0</td>\n",
              "      <td>0.0</td>\n",
              "      <td>0.0</td>\n",
              "      <td>20.0</td>\n",
              "      <td>...</td>\n",
              "      <td>250.0</td>\n",
              "      <td>0</td>\n",
              "      <td>1</td>\n",
              "      <td>0</td>\n",
              "      <td>1</td>\n",
              "      <td>0</td>\n",
              "      <td>0</td>\n",
              "      <td>0</td>\n",
              "      <td>4.571720</td>\n",
              "      <td>0</td>\n",
              "    </tr>\n",
              "    <tr>\n",
              "      <th>646901</th>\n",
              "      <td>2646902.0</td>\n",
              "      <td>LLOYD</td>\n",
              "      <td>STEVE</td>\n",
              "      <td>0.0</td>\n",
              "      <td>72.0</td>\n",
              "      <td>217500.0</td>\n",
              "      <td>2.0</td>\n",
              "      <td>0.0</td>\n",
              "      <td>0.0</td>\n",
              "      <td>1.0</td>\n",
              "      <td>...</td>\n",
              "      <td>10.0</td>\n",
              "      <td>0</td>\n",
              "      <td>0</td>\n",
              "      <td>1</td>\n",
              "      <td>0</td>\n",
              "      <td>0</td>\n",
              "      <td>1</td>\n",
              "      <td>0</td>\n",
              "      <td>5.337461</td>\n",
              "      <td>1</td>\n",
              "    </tr>\n",
              "    <tr>\n",
              "      <th>36761</th>\n",
              "      <td>2036762.0</td>\n",
              "      <td>DEMPSEY</td>\n",
              "      <td>WILLIAM</td>\n",
              "      <td>0.0</td>\n",
              "      <td>56.0</td>\n",
              "      <td>3800.0</td>\n",
              "      <td>1.0</td>\n",
              "      <td>0.0</td>\n",
              "      <td>0.0</td>\n",
              "      <td>20.0</td>\n",
              "      <td>...</td>\n",
              "      <td>25.0</td>\n",
              "      <td>0</td>\n",
              "      <td>0</td>\n",
              "      <td>1</td>\n",
              "      <td>1</td>\n",
              "      <td>0</td>\n",
              "      <td>0</td>\n",
              "      <td>0</td>\n",
              "      <td>3.579898</td>\n",
              "      <td>0</td>\n",
              "    </tr>\n",
              "    <tr>\n",
              "      <th>807171</th>\n",
              "      <td>2807172.0</td>\n",
              "      <td>KING</td>\n",
              "      <td>KATHY</td>\n",
              "      <td>1.0</td>\n",
              "      <td>32.0</td>\n",
              "      <td>145600.0</td>\n",
              "      <td>6.0</td>\n",
              "      <td>5.0</td>\n",
              "      <td>1.0</td>\n",
              "      <td>3.0</td>\n",
              "      <td>...</td>\n",
              "      <td>150.0</td>\n",
              "      <td>0</td>\n",
              "      <td>0</td>\n",
              "      <td>1</td>\n",
              "      <td>1</td>\n",
              "      <td>0</td>\n",
              "      <td>0</td>\n",
              "      <td>0</td>\n",
              "      <td>5.163164</td>\n",
              "      <td>1</td>\n",
              "    </tr>\n",
              "  </tbody>\n",
              "</table>\n",
              "<p>5 rows × 29 columns</p>\n",
              "</div>\n",
              "      <button class=\"colab-df-convert\" onclick=\"convertToInteractive('df-62699551-6f77-4074-bd01-e0b2455b3d1f')\"\n",
              "              title=\"Convert this dataframe to an interactive table.\"\n",
              "              style=\"display:none;\">\n",
              "        \n",
              "  <svg xmlns=\"http://www.w3.org/2000/svg\" height=\"24px\"viewBox=\"0 0 24 24\"\n",
              "       width=\"24px\">\n",
              "    <path d=\"M0 0h24v24H0V0z\" fill=\"none\"/>\n",
              "    <path d=\"M18.56 5.44l.94 2.06.94-2.06 2.06-.94-2.06-.94-.94-2.06-.94 2.06-2.06.94zm-11 1L8.5 8.5l.94-2.06 2.06-.94-2.06-.94L8.5 2.5l-.94 2.06-2.06.94zm10 10l.94 2.06.94-2.06 2.06-.94-2.06-.94-.94-2.06-.94 2.06-2.06.94z\"/><path d=\"M17.41 7.96l-1.37-1.37c-.4-.4-.92-.59-1.43-.59-.52 0-1.04.2-1.43.59L10.3 9.45l-7.72 7.72c-.78.78-.78 2.05 0 2.83L4 21.41c.39.39.9.59 1.41.59.51 0 1.02-.2 1.41-.59l7.78-7.78 2.81-2.81c.8-.78.8-2.07 0-2.86zM5.41 20L4 18.59l7.72-7.72 1.47 1.35L5.41 20z\"/>\n",
              "  </svg>\n",
              "      </button>\n",
              "      \n",
              "  <style>\n",
              "    .colab-df-container {\n",
              "      display:flex;\n",
              "      flex-wrap:wrap;\n",
              "      gap: 12px;\n",
              "    }\n",
              "\n",
              "    .colab-df-convert {\n",
              "      background-color: #E8F0FE;\n",
              "      border: none;\n",
              "      border-radius: 50%;\n",
              "      cursor: pointer;\n",
              "      display: none;\n",
              "      fill: #1967D2;\n",
              "      height: 32px;\n",
              "      padding: 0 0 0 0;\n",
              "      width: 32px;\n",
              "    }\n",
              "\n",
              "    .colab-df-convert:hover {\n",
              "      background-color: #E2EBFA;\n",
              "      box-shadow: 0px 1px 2px rgba(60, 64, 67, 0.3), 0px 1px 3px 1px rgba(60, 64, 67, 0.15);\n",
              "      fill: #174EA6;\n",
              "    }\n",
              "\n",
              "    [theme=dark] .colab-df-convert {\n",
              "      background-color: #3B4455;\n",
              "      fill: #D2E3FC;\n",
              "    }\n",
              "\n",
              "    [theme=dark] .colab-df-convert:hover {\n",
              "      background-color: #434B5C;\n",
              "      box-shadow: 0px 1px 3px 1px rgba(0, 0, 0, 0.15);\n",
              "      filter: drop-shadow(0px 1px 2px rgba(0, 0, 0, 0.3));\n",
              "      fill: #FFFFFF;\n",
              "    }\n",
              "  </style>\n",
              "\n",
              "      <script>\n",
              "        const buttonEl =\n",
              "          document.querySelector('#df-62699551-6f77-4074-bd01-e0b2455b3d1f button.colab-df-convert');\n",
              "        buttonEl.style.display =\n",
              "          google.colab.kernel.accessAllowed ? 'block' : 'none';\n",
              "\n",
              "        async function convertToInteractive(key) {\n",
              "          const element = document.querySelector('#df-62699551-6f77-4074-bd01-e0b2455b3d1f');\n",
              "          const dataTable =\n",
              "            await google.colab.kernel.invokeFunction('convertToInteractive',\n",
              "                                                     [key], {});\n",
              "          if (!dataTable) return;\n",
              "\n",
              "          const docLinkHtml = 'Like what you see? Visit the ' +\n",
              "            '<a target=\"_blank\" href=https://colab.research.google.com/notebooks/data_table.ipynb>data table notebook</a>'\n",
              "            + ' to learn more about interactive tables.';\n",
              "          element.innerHTML = '';\n",
              "          dataTable['output_type'] = 'display_data';\n",
              "          await google.colab.output.renderOutput(dataTable, element);\n",
              "          const docLink = document.createElement('div');\n",
              "          docLink.innerHTML = docLinkHtml;\n",
              "          element.appendChild(docLink);\n",
              "        }\n",
              "      </script>\n",
              "    </div>\n",
              "  </div>\n",
              "  "
            ]
          },
          "metadata": {},
          "execution_count": 171
        }
      ],
      "source": [
        "# The code below is an illustration on how to sample data on train and validation samples.\n",
        "# You could use another library or a built-in function to perform sampling.\n",
        "\n",
        "from sklearn.model_selection import train_test_split\n",
        "train, validation = train_test_split(data_mergeX, test_size=0.5,random_state=5678) # you can change the percentage\n",
        "train.sample(5)"
      ]
    },
    {
      "cell_type": "code",
      "source": [
        "# v6\n",
        "\n",
        "#X_train = train[['Age', 'Salary', 'Contact', 'Referrals', 'TotalGift', 'GaveLastYear', 'AmtLastYear', 'Woman', 'NbActivities', 'Elementary', 'High School',\t'University / College', 'HistoricDonor']] \n",
        "#Y_train = train['AmtThisYear']\n",
        "#X_valid = validation[['Age', 'Salary', 'Contact', 'Referrals', 'TotalGift', 'GaveLastYear', 'AmtLastYear', 'Woman', 'NbActivities', 'Elementary', 'High School',\t'University / College', 'HistoricDonor']] \n",
        "#Y_valid = validation['AmtThisYear']"
      ],
      "metadata": {
        "id": "h8S5KjdfgWdC"
      },
      "id": "h8S5KjdfgWdC",
      "execution_count": null,
      "outputs": []
    },
    {
      "cell_type": "code",
      "source": [
        "# v7\n",
        "\n",
        "X_train = train[['Age', 'Salary', 'Contact', 'Referrals', 'TotalGift', 'GaveLastYear', 'AmtLastYear', 'Woman', 'NbActivities', 'City', 'Downtown', 'Rural', 'Suburban']] \n",
        "Y_train = train['AmtThisYear']\n",
        "X_valid = validation[['Age', 'Salary', 'Contact', 'Referrals', 'TotalGift', 'GaveLastYear', 'AmtLastYear', 'Woman', 'NbActivities', 'City', 'Downtown', 'Rural', 'Suburban']] \n",
        "Y_valid = validation['AmtThisYear']"
      ],
      "metadata": {
        "id": "Tv3AfJ25npYH"
      },
      "execution_count": null,
      "outputs": [],
      "id": "Tv3AfJ25npYH"
    },
    {
      "cell_type": "code",
      "source": [
        "# v8\n",
        "\n",
        "#X_train = train[['Age', 'Salary', 'Contact', 'Referrals', 'TotalGift', 'GaveLastYear', 'AmtLastYear', 'Woman', 'NbActivities', 'City', 'Downtown', 'Rural', 'Suburban', 'Elementary', 'High School',\t'University / College']] \n",
        "#Y_train = train['AmtThisYear']\n",
        "#X_valid = validation[['Age', 'Salary', 'Contact', 'Referrals', 'TotalGift', 'GaveLastYear', 'AmtLastYear', 'Woman', 'NbActivities', 'City', 'Downtown', 'Rural', 'Suburban', 'Elementary', 'High School',\t'University / College']] \n",
        "#Y_valid = validation['AmtThisYear']"
      ],
      "metadata": {
        "id": "N_0zbtaeozsO"
      },
      "id": "N_0zbtaeozsO",
      "execution_count": null,
      "outputs": []
    },
    {
      "cell_type": "code",
      "source": [
        "# v9\n",
        "\n",
        "#X_train = train[['Age', 'Salary', 'Recency', 'Contact', 'Referrals', 'TotalGift', 'GaveLastYear', 'AmtLastYear', 'Woman', 'NbActivities', 'City', 'Downtown', 'Rural', 'Suburban']] \n",
        "#Y_train = train['AmtThisYear']\n",
        "#X_valid = validation[['Age', 'Salary', 'Recency', 'Contact', 'Referrals', 'TotalGift', 'GaveLastYear', 'AmtLastYear', 'Woman', 'NbActivities', 'City', 'Downtown', 'Rural', 'Suburban']] \n",
        "#Y_valid = validation['AmtThisYear']"
      ],
      "metadata": {
        "id": "aphtZpEu20hx"
      },
      "execution_count": null,
      "outputs": [],
      "id": "aphtZpEu20hx"
    },
    {
      "cell_type": "markdown",
      "id": "dfc2e8f5-9790-46bb-88f9-8517fea53e26",
      "metadata": {
        "id": "dfc2e8f5-9790-46bb-88f9-8517fea53e26"
      },
      "source": [
        "\n",
        "## Prebuilt Models\n",
        "\n",
        "***\n",
        "### Linear Regression Model\n",
        "\n",
        "\n",
        "> The [sk-learn library]( https://scikit-learn.org/stable/index.html) offers more advanced models. "
      ]
    },
    {
      "cell_type": "code",
      "execution_count": null,
      "id": "9f33ea4c",
      "metadata": {
        "collapsed": true,
        "colab": {
          "base_uri": "https://localhost:8080/"
        },
        "id": "9f33ea4c",
        "outputId": "61039da1-e788-4ee6-b704-bca902d52747"
      },
      "outputs": [
        {
          "output_type": "stream",
          "name": "stdout",
          "text": [
            "[ 51.58735105  16.44312608 122.3109886  ...  28.89700093  70.48925099\n",
            "  60.48070206]\n"
          ]
        }
      ],
      "source": [
        "from sklearn import linear_model\n",
        "\n",
        "#comment: it's numpy array\n",
        "#X_train = train[['Age', 'Salary','Contact','MinGift', 'GaveLastYear','AmtLastYear','Woman', 'NbActivities' ]] \n",
        "#Y_train = train['AmtThisYear']\n",
        "#X_valid = validation[['Age', 'Salary','Contact','MinGift', 'GaveLastYear','AmtLastYear','Woman', 'NbActivities']] \n",
        "#Y_valid = validation['AmtThisYear']\n",
        "\n",
        "regr = linear_model.LinearRegression()\n",
        "\n",
        "regr.fit(X_train,Y_train)\n",
        "\n",
        "regr_predict=regr.predict(X_valid)\n",
        "\n",
        "print(regr_predict)"
      ]
    },
    {
      "cell_type": "code",
      "execution_count": null,
      "id": "a6ff2946",
      "metadata": {
        "collapsed": true,
        "colab": {
          "base_uri": "https://localhost:8080/"
        },
        "id": "a6ff2946",
        "outputId": "90cf785d-102e-4110-f824-cca0bef5bc9c"
      },
      "outputs": [
        {
          "output_type": "stream",
          "name": "stdout",
          "text": [
            "63.963528511663135\n",
            "54354.21647448695\n",
            "233.1399075115347\n"
          ]
        }
      ],
      "source": [
        "#you can change the criteria\n",
        "\n",
        "import numpy as np\n",
        "from sklearn import metrics\n",
        "#MAE\n",
        "print(metrics.mean_absolute_error(Y_valid,regr_predict))\n",
        "#MSE\n",
        "print(metrics.mean_squared_error(Y_valid,regr_predict))\n",
        "#RMSE\n",
        "print(np.sqrt(metrics.mean_squared_error(Y_valid,regr_predict)))"
      ]
    },
    {
      "cell_type": "markdown",
      "id": "a6f78891",
      "metadata": {
        "id": "a6f78891"
      },
      "source": [
        "## Regression Tree Model（Py）"
      ]
    },
    {
      "cell_type": "code",
      "execution_count": null,
      "id": "0560fcdd",
      "metadata": {
        "collapsed": true,
        "colab": {
          "base_uri": "https://localhost:8080/"
        },
        "id": "0560fcdd",
        "outputId": "3bb42fe3-0669-42d8-f452-e5b1e2b6b60b"
      },
      "outputs": [
        {
          "output_type": "stream",
          "name": "stdout",
          "text": [
            "[ 51.71708524  27.27249619 139.59760274 ...  51.66566604  46.50993087\n",
            "  67.92655699]\n"
          ]
        }
      ],
      "source": [
        "from sklearn.tree import DecisionTreeRegressor\n",
        "\n",
        "DT_model = DecisionTreeRegressor(max_depth=5, random_state=0).fit(X_train,Y_train)\n",
        "DT_predict = DT_model.predict(X_valid) #Predictions on Testing data\n",
        "print(DT_predict)"
      ]
    },
    {
      "cell_type": "code",
      "execution_count": null,
      "id": "a634a11d",
      "metadata": {
        "collapsed": true,
        "colab": {
          "base_uri": "https://localhost:8080/"
        },
        "id": "a634a11d",
        "outputId": "614d1aab-fa33-47c7-94a0-4a9c81609365"
      },
      "outputs": [
        {
          "output_type": "stream",
          "name": "stdout",
          "text": [
            "63.280853108485026\n",
            "54160.71724638968\n",
            "232.7245523067768\n"
          ]
        }
      ],
      "source": [
        "#you can change the criteria\n",
        "#MAE\n",
        "print(metrics.mean_absolute_error(Y_valid,DT_predict))\n",
        "#MSE\n",
        "print(metrics.mean_squared_error(Y_valid,DT_predict))\n",
        "#RMSE\n",
        "print(np.sqrt(metrics.mean_squared_error(Y_valid,DT_predict)))"
      ]
    },
    {
      "cell_type": "markdown",
      "metadata": {
        "id": "eSeJus13bh9H"
      },
      "source": [
        "## XGB Boost Model"
      ],
      "id": "eSeJus13bh9H"
    },
    {
      "cell_type": "code",
      "execution_count": null,
      "metadata": {
        "id": "rsZlyRy9bh9I"
      },
      "outputs": [],
      "source": [
        "from xgboost import XGBRegressor\n",
        "\n",
        "##xgb_model = XGBRegressor(objective='reg:squarederror', min_child_weight= 105, n_estimators=125, gamma = '2.155050244116633', learning_rate = '0.04', max_delta_step = '150', max_depth = '3').fit(X_train, Y_train)\n",
        "\n",
        "xgb_model = XGBRegressor(objective='reg:squarederror', min_child_weight= 105, n_estimators=125, gamma = '2.155050244116633', learning_rate = '0.04', max_delta_step = '150', max_depth = '3').fit(X_train, Y_train)\n",
        "\n",
        "XGB_predict = xgb_model.predict(X_valid)\n",
        "# 53820\n"
      ],
      "id": "rsZlyRy9bh9I"
    },
    {
      "cell_type": "code",
      "execution_count": null,
      "metadata": {
        "outputId": "3a98798d-d98d-431f-8bac-27bfebe2efb7",
        "colab": {
          "base_uri": "https://localhost:8080/"
        },
        "id": "29FBtHR8bh9J"
      },
      "outputs": [
        {
          "output_type": "stream",
          "name": "stdout",
          "text": [
            "62.86649777038073\n",
            "53820.56243096468\n",
            "231.99259132775055\n"
          ]
        }
      ],
      "source": [
        "#you can change the criteria\n",
        "#MAE\n",
        "print(metrics.mean_absolute_error(Y_valid,XGB_predict))\n",
        "#MSE\n",
        "print(metrics.mean_squared_error(Y_valid,XGB_predict))\n",
        "#RMSE\n",
        "print(np.sqrt(metrics.mean_squared_error(Y_valid,XGB_predict)))"
      ],
      "id": "29FBtHR8bh9J"
    },
    {
      "cell_type": "markdown",
      "id": "28190b6e",
      "metadata": {
        "id": "28190b6e"
      },
      "source": [
        "### **Other models may also be helpful for this game**\n",
        "\n",
        "Reference: https://scikit-learn.org/stable/supervised_learning.html\n"
      ]
    },
    {
      "cell_type": "markdown",
      "source": [
        "### Tuning"
      ],
      "metadata": {
        "id": "M9Goy5Ecxs5p"
      },
      "id": "M9Goy5Ecxs5p"
    },
    {
      "cell_type": "code",
      "source": [
        "!pip install bayesian-optimization"
      ],
      "metadata": {
        "id": "UNDkAyRkZvYi",
        "colab": {
          "base_uri": "https://localhost:8080/"
        },
        "outputId": "d2e89159-d7c0-47aa-a567-442aaf59df2d"
      },
      "execution_count": null,
      "outputs": [
        {
          "output_type": "stream",
          "name": "stdout",
          "text": [
            "Looking in indexes: https://pypi.org/simple, https://us-python.pkg.dev/colab-wheels/public/simple/\n",
            "Collecting bayesian-optimization\n",
            "  Downloading bayesian_optimization-1.4.1-py3-none-any.whl (18 kB)\n",
            "Requirement already satisfied: scikit-learn>=0.18.0 in /usr/local/lib/python3.8/dist-packages (from bayesian-optimization) (1.0.2)\n",
            "Requirement already satisfied: scipy>=1.0.0 in /usr/local/lib/python3.8/dist-packages (from bayesian-optimization) (1.7.3)\n",
            "Requirement already satisfied: numpy>=1.9.0 in /usr/local/lib/python3.8/dist-packages (from bayesian-optimization) (1.21.6)\n",
            "Collecting colorama\n",
            "  Downloading colorama-0.4.6-py2.py3-none-any.whl (25 kB)\n",
            "Requirement already satisfied: joblib>=0.11 in /usr/local/lib/python3.8/dist-packages (from scikit-learn>=0.18.0->bayesian-optimization) (1.2.0)\n",
            "Requirement already satisfied: threadpoolctl>=2.0.0 in /usr/local/lib/python3.8/dist-packages (from scikit-learn>=0.18.0->bayesian-optimization) (3.1.0)\n",
            "Installing collected packages: colorama, bayesian-optimization\n",
            "Successfully installed bayesian-optimization-1.4.1 colorama-0.4.6\n"
          ]
        }
      ],
      "id": "UNDkAyRkZvYi"
    },
    {
      "cell_type": "code",
      "source": [
        "def hyperparam_loss(param_x, param_y):\n",
        "    \n",
        "    # 1. Define machine learning model using param_x, param_y as hyper parameters\n",
        "    # 2. Train the model\n",
        "    # 3. Calculate loss on cross-validation set\n",
        "    \n",
        "    return loss"
      ],
      "metadata": {
        "id": "HnaKc8EjbbE1"
      },
      "execution_count": null,
      "outputs": [],
      "id": "HnaKc8EjbbE1"
    },
    {
      "cell_type": "code",
      "source": [
        "import numpy as np\n",
        "from bayes_opt import BayesianOptimization\n",
        "from sklearn.model_selection import cross_val_score"
      ],
      "metadata": {
        "id": "hdV08Cd_Zsuv"
      },
      "execution_count": null,
      "outputs": [],
      "id": "hdV08Cd_Zsuv"
    },
    {
      "cell_type": "code",
      "source": [
        "pbounds = {\n",
        "    'learning_rate': (0.01, 0.2),\n",
        "    'max_depth': (3,5),\n",
        "    'max_delta_step': (0, 500),  \n",
        "    'gamma': (0, 5)}\n",
        "\n",
        "def xgboost_hyper_param(learning_rate,\n",
        "                        max_depth,\n",
        "                        max_delta_step,\n",
        "                        gamma):\n",
        "\n",
        "    max_depth = int(max_depth)\n",
        "\n",
        "    clf = XGBRegressor(\n",
        "        objective='reg:squarederror',\n",
        "        max_depth=max_depth,\n",
        "        learning_rate=learning_rate,\n",
        "        gamma=gamma)\n",
        "    return np.mean(cross_val_score(clf, X_train, Y_train, cv=3, scoring='neg_mean_squared_error'))\n",
        "\n",
        "optimizer = BayesianOptimization(\n",
        "    f=xgboost_hyper_param,\n",
        "    pbounds=pbounds,\n",
        "    random_state=1,\n",
        ")"
      ],
      "metadata": {
        "id": "sURZWT2nZcTw"
      },
      "execution_count": null,
      "outputs": [],
      "id": "sURZWT2nZcTw"
    },
    {
      "cell_type": "code",
      "source": [
        "optimizer.maximize(\n",
        "    init_points=10,\n",
        "    n_iter=10,\n",
        ")"
      ],
      "metadata": {
        "colab": {
          "base_uri": "https://localhost:8080/"
        },
        "id": "jSej285ab1oz",
        "outputId": "39e9cfd1-fe51-4b6c-bc6b-05827af8d7dd"
      },
      "execution_count": null,
      "outputs": [
        {
          "output_type": "stream",
          "name": "stdout",
          "text": [
            "|   iter    |  target   |   gamma   | learni... | max_de... | max_depth |\n",
            "-------------------------------------------------------------------------\n",
            "| \u001b[0m21       \u001b[0m | \u001b[0m-4.956e+0\u001b[0m | \u001b[0m4.944    \u001b[0m | \u001b[0m0.1522   \u001b[0m | \u001b[0m140.2    \u001b[0m | \u001b[0m4.579    \u001b[0m |\n",
            "| \u001b[0m22       \u001b[0m | \u001b[0m-4.837e+0\u001b[0m | \u001b[0m0.5161   \u001b[0m | \u001b[0m0.0951   \u001b[0m | \u001b[0m454.3    \u001b[0m | \u001b[0m3.587    \u001b[0m |\n",
            "| \u001b[0m23       \u001b[0m | \u001b[0m-4.827e+0\u001b[0m | \u001b[0m1.439    \u001b[0m | \u001b[0m0.03471  \u001b[0m | \u001b[0m9.683    \u001b[0m | \u001b[0m4.358    \u001b[0m |\n",
            "| \u001b[0m24       \u001b[0m | \u001b[0m-4.824e+0\u001b[0m | \u001b[0m1.058    \u001b[0m | \u001b[0m0.06045  \u001b[0m | \u001b[0m245.8    \u001b[0m | \u001b[0m3.107    \u001b[0m |\n",
            "| \u001b[0m25       \u001b[0m | \u001b[0m-4.829e+0\u001b[0m | \u001b[0m2.871    \u001b[0m | \u001b[0m0.03788  \u001b[0m | \u001b[0m294.7    \u001b[0m | \u001b[0m4.4      \u001b[0m |\n",
            "| \u001b[0m26       \u001b[0m | \u001b[0m-4.833e+0\u001b[0m | \u001b[0m0.5117   \u001b[0m | \u001b[0m0.08867  \u001b[0m | \u001b[0m347.2    \u001b[0m | \u001b[0m3.828    \u001b[0m |\n",
            "| \u001b[0m27       \u001b[0m | \u001b[0m-4.92e+04\u001b[0m | \u001b[0m0.2498   \u001b[0m | \u001b[0m0.1118   \u001b[0m | \u001b[0m331.9    \u001b[0m | \u001b[0m4.03     \u001b[0m |\n",
            "| \u001b[0m28       \u001b[0m | \u001b[0m-4.845e+0\u001b[0m | \u001b[0m4.723    \u001b[0m | \u001b[0m0.1214   \u001b[0m | \u001b[0m451.7    \u001b[0m | \u001b[0m3.275    \u001b[0m |\n",
            "| \u001b[0m29       \u001b[0m | \u001b[0m-4.879e+0\u001b[0m | \u001b[0m0.6964   \u001b[0m | \u001b[0m0.1634   \u001b[0m | \u001b[0m198.8    \u001b[0m | \u001b[0m3.331    \u001b[0m |\n",
            "| \u001b[0m30       \u001b[0m | \u001b[0m-4.854e+0\u001b[0m | \u001b[0m4.638    \u001b[0m | \u001b[0m0.07608  \u001b[0m | \u001b[0m375.4    \u001b[0m | \u001b[0m4.452    \u001b[0m |\n",
            "| \u001b[0m31       \u001b[0m | \u001b[0m-4.838e+0\u001b[0m | \u001b[0m1.329    \u001b[0m | \u001b[0m0.05472  \u001b[0m | \u001b[0m9.67     \u001b[0m | \u001b[0m4.327    \u001b[0m |\n",
            "| \u001b[0m32       \u001b[0m | \u001b[0m-4.869e+0\u001b[0m | \u001b[0m0.7929   \u001b[0m | \u001b[0m0.1355   \u001b[0m | \u001b[0m91.66    \u001b[0m | \u001b[0m3.719    \u001b[0m |\n",
            "| \u001b[0m33       \u001b[0m | \u001b[0m-4.893e+0\u001b[0m | \u001b[0m2.753    \u001b[0m | \u001b[0m0.1104   \u001b[0m | \u001b[0m90.09    \u001b[0m | \u001b[0m4.46     \u001b[0m |\n",
            "| \u001b[0m34       \u001b[0m | \u001b[0m-4.944e+0\u001b[0m | \u001b[0m1.688    \u001b[0m | \u001b[0m0.1433   \u001b[0m | \u001b[0m93.27    \u001b[0m | \u001b[0m4.466    \u001b[0m |\n",
            "| \u001b[0m35       \u001b[0m | \u001b[0m-4.874e+0\u001b[0m | \u001b[0m0.8635   \u001b[0m | \u001b[0m0.1057   \u001b[0m | \u001b[0m90.45    \u001b[0m | \u001b[0m4.455    \u001b[0m |\n",
            "| \u001b[0m36       \u001b[0m | \u001b[0m-4.821e+0\u001b[0m | \u001b[0m0.01712  \u001b[0m | \u001b[0m0.03928  \u001b[0m | \u001b[0m93.07    \u001b[0m | \u001b[0m3.305    \u001b[0m |\n",
            "| \u001b[0m37       \u001b[0m | \u001b[0m-4.865e+0\u001b[0m | \u001b[0m1.716    \u001b[0m | \u001b[0m0.07701  \u001b[0m | \u001b[0m10.71    \u001b[0m | \u001b[0m4.271    \u001b[0m |\n",
            "| \u001b[0m38       \u001b[0m | \u001b[0m-4.825e+0\u001b[0m | \u001b[0m0.3392   \u001b[0m | \u001b[0m0.05866  \u001b[0m | \u001b[0m94.09    \u001b[0m | \u001b[0m3.228    \u001b[0m |\n",
            "| \u001b[0m39       \u001b[0m | \u001b[0m-4.828e+0\u001b[0m | \u001b[0m1.624    \u001b[0m | \u001b[0m0.06525  \u001b[0m | \u001b[0m90.0     \u001b[0m | \u001b[0m3.071    \u001b[0m |\n",
            "| \u001b[0m40       \u001b[0m | \u001b[0m-4.84e+04\u001b[0m | \u001b[0m4.427    \u001b[0m | \u001b[0m0.0923   \u001b[0m | \u001b[0m358.7    \u001b[0m | \u001b[0m3.984    \u001b[0m |\n",
            "| \u001b[0m41       \u001b[0m | \u001b[0m-4.996e+0\u001b[0m | \u001b[0m4.844    \u001b[0m | \u001b[0m0.1662   \u001b[0m | \u001b[0m356.8    \u001b[0m | \u001b[0m4.652    \u001b[0m |\n",
            "| \u001b[0m42       \u001b[0m | \u001b[0m-4.824e+0\u001b[0m | \u001b[0m3.698    \u001b[0m | \u001b[0m0.05509  \u001b[0m | \u001b[0m360.0    \u001b[0m | \u001b[0m3.627    \u001b[0m |\n",
            "| \u001b[0m43       \u001b[0m | \u001b[0m-4.881e+0\u001b[0m | \u001b[0m3.639    \u001b[0m | \u001b[0m0.01     \u001b[0m | \u001b[0m359.7    \u001b[0m | \u001b[0m5.0      \u001b[0m |\n",
            "| \u001b[0m44       \u001b[0m | \u001b[0m-4.835e+0\u001b[0m | \u001b[0m4.651    \u001b[0m | \u001b[0m0.08178  \u001b[0m | \u001b[0m359.6    \u001b[0m | \u001b[0m3.062    \u001b[0m |\n",
            "| \u001b[0m45       \u001b[0m | \u001b[0m-4.857e+0\u001b[0m | \u001b[0m4.62     \u001b[0m | \u001b[0m0.1301   \u001b[0m | \u001b[0m361.2    \u001b[0m | \u001b[0m3.633    \u001b[0m |\n",
            "| \u001b[95m46       \u001b[0m | \u001b[95m-4.819e+0\u001b[0m | \u001b[95m4.47     \u001b[0m | \u001b[95m0.03611  \u001b[0m | \u001b[95m354.3    \u001b[0m | \u001b[95m3.069    \u001b[0m |\n",
            "| \u001b[0m47       \u001b[0m | \u001b[0m-4.825e+0\u001b[0m | \u001b[0m4.92     \u001b[0m | \u001b[0m0.03174  \u001b[0m | \u001b[0m354.3    \u001b[0m | \u001b[0m4.681    \u001b[0m |\n",
            "| \u001b[0m48       \u001b[0m | \u001b[0m-4.896e+0\u001b[0m | \u001b[0m3.521    \u001b[0m | \u001b[0m0.1127   \u001b[0m | \u001b[0m354.5    \u001b[0m | \u001b[0m4.239    \u001b[0m |\n",
            "| \u001b[0m49       \u001b[0m | \u001b[0m-4.835e+0\u001b[0m | \u001b[0m2.366    \u001b[0m | \u001b[0m0.09701  \u001b[0m | \u001b[0m346.6    \u001b[0m | \u001b[0m3.74     \u001b[0m |\n",
            "| \u001b[0m50       \u001b[0m | \u001b[0m-4.885e+0\u001b[0m | \u001b[0m0.7514   \u001b[0m | \u001b[0m0.1561   \u001b[0m | \u001b[0m345.5    \u001b[0m | \u001b[0m3.361    \u001b[0m |\n",
            "| \u001b[0m51       \u001b[0m | \u001b[0m-4.863e+0\u001b[0m | \u001b[0m4.906    \u001b[0m | \u001b[0m0.1375   \u001b[0m | \u001b[0m352.8    \u001b[0m | \u001b[0m3.146    \u001b[0m |\n",
            "| \u001b[0m52       \u001b[0m | \u001b[0m-4.837e+0\u001b[0m | \u001b[0m3.959    \u001b[0m | \u001b[0m0.09042  \u001b[0m | \u001b[0m347.6    \u001b[0m | \u001b[0m3.747    \u001b[0m |\n",
            "| \u001b[0m53       \u001b[0m | \u001b[0m-4.84e+04\u001b[0m | \u001b[0m2.347    \u001b[0m | \u001b[0m0.05114  \u001b[0m | \u001b[0m347.8    \u001b[0m | \u001b[0m4.929    \u001b[0m |\n",
            "| \u001b[0m54       \u001b[0m | \u001b[0m-4.923e+0\u001b[0m | \u001b[0m3.435    \u001b[0m | \u001b[0m0.1354   \u001b[0m | \u001b[0m346.0    \u001b[0m | \u001b[0m4.98     \u001b[0m |\n",
            "| \u001b[0m55       \u001b[0m | \u001b[0m-4.83e+04\u001b[0m | \u001b[0m1.542    \u001b[0m | \u001b[0m0.07778  \u001b[0m | \u001b[0m348.0    \u001b[0m | \u001b[0m3.459    \u001b[0m |\n",
            "| \u001b[0m56       \u001b[0m | \u001b[0m-4.823e+0\u001b[0m | \u001b[0m2.371    \u001b[0m | \u001b[0m0.05662  \u001b[0m | \u001b[0m246.2    \u001b[0m | \u001b[0m3.975    \u001b[0m |\n",
            "| \u001b[0m57       \u001b[0m | \u001b[0m-4.823e+0\u001b[0m | \u001b[0m1.22     \u001b[0m | \u001b[0m0.0518   \u001b[0m | \u001b[0m247.4    \u001b[0m | \u001b[0m3.693    \u001b[0m |\n",
            "| \u001b[0m58       \u001b[0m | \u001b[0m-4.874e+0\u001b[0m | \u001b[0m0.3351   \u001b[0m | \u001b[0m0.09735  \u001b[0m | \u001b[0m246.4    \u001b[0m | \u001b[0m4.605    \u001b[0m |\n",
            "| \u001b[0m59       \u001b[0m | \u001b[0m-4.826e+0\u001b[0m | \u001b[0m2.668    \u001b[0m | \u001b[0m0.06404  \u001b[0m | \u001b[0m247.5    \u001b[0m | \u001b[0m3.376    \u001b[0m |\n",
            "| \u001b[0m60       \u001b[0m | \u001b[0m-4.917e+0\u001b[0m | \u001b[0m2.111    \u001b[0m | \u001b[0m0.1138   \u001b[0m | \u001b[0m248.4    \u001b[0m | \u001b[0m4.864    \u001b[0m |\n",
            "| \u001b[0m61       \u001b[0m | \u001b[0m-4.88e+04\u001b[0m | \u001b[0m3.605    \u001b[0m | \u001b[0m0.01     \u001b[0m | \u001b[0m246.1    \u001b[0m | \u001b[0m3.0      \u001b[0m |\n",
            "| \u001b[0m62       \u001b[0m | \u001b[0m-4.85e+04\u001b[0m | \u001b[0m1.537    \u001b[0m | \u001b[0m0.1313   \u001b[0m | \u001b[0m79.05    \u001b[0m | \u001b[0m3.174    \u001b[0m |\n",
            "| \u001b[0m63       \u001b[0m | \u001b[0m-4.82e+04\u001b[0m | \u001b[0m1.657    \u001b[0m | \u001b[0m0.03265  \u001b[0m | \u001b[0m81.69    \u001b[0m | \u001b[0m3.711    \u001b[0m |\n",
            "| \u001b[0m64       \u001b[0m | \u001b[0m-5.129e+0\u001b[0m | \u001b[0m2.612    \u001b[0m | \u001b[0m0.2      \u001b[0m | \u001b[0m82.03    \u001b[0m | \u001b[0m5.0      \u001b[0m |\n",
            "| \u001b[0m65       \u001b[0m | \u001b[0m-4.82e+04\u001b[0m | \u001b[0m0.5206   \u001b[0m | \u001b[0m0.03259  \u001b[0m | \u001b[0m81.71    \u001b[0m | \u001b[0m3.741    \u001b[0m |\n",
            "| \u001b[0m66       \u001b[0m | \u001b[0m-4.88e+04\u001b[0m | \u001b[0m1.175    \u001b[0m | \u001b[0m0.01     \u001b[0m | \u001b[0m82.63    \u001b[0m | \u001b[0m3.0      \u001b[0m |\n",
            "| \u001b[0m67       \u001b[0m | \u001b[0m-4.874e+0\u001b[0m | \u001b[0m1.296    \u001b[0m | \u001b[0m0.1487   \u001b[0m | \u001b[0m80.48    \u001b[0m | \u001b[0m3.239    \u001b[0m |\n",
            "| \u001b[0m68       \u001b[0m | \u001b[0m-4.965e+0\u001b[0m | \u001b[0m0.2728   \u001b[0m | \u001b[0m0.1588   \u001b[0m | \u001b[0m83.03    \u001b[0m | \u001b[0m4.819    \u001b[0m |\n",
            "| \u001b[0m69       \u001b[0m | \u001b[0m-4.835e+0\u001b[0m | \u001b[0m2.554    \u001b[0m | \u001b[0m0.1049   \u001b[0m | \u001b[0m347.6    \u001b[0m | \u001b[0m3.006    \u001b[0m |\n",
            "| \u001b[0m70       \u001b[0m | \u001b[0m-4.822e+0\u001b[0m | \u001b[0m1.671    \u001b[0m | \u001b[0m0.05313  \u001b[0m | \u001b[0m247.1    \u001b[0m | \u001b[0m3.063    \u001b[0m |\n",
            "| \u001b[0m71       \u001b[0m | \u001b[0m-4.997e+0\u001b[0m | \u001b[0m2.952    \u001b[0m | \u001b[0m0.1987   \u001b[0m | \u001b[0m348.8    \u001b[0m | \u001b[0m4.223    \u001b[0m |\n",
            "| \u001b[0m72       \u001b[0m | \u001b[0m-4.819e+0\u001b[0m | \u001b[0m3.434    \u001b[0m | \u001b[0m0.04407  \u001b[0m | \u001b[0m346.5    \u001b[0m | \u001b[0m3.264    \u001b[0m |\n",
            "| \u001b[0m73       \u001b[0m | \u001b[0m-4.962e+0\u001b[0m | \u001b[0m1.44     \u001b[0m | \u001b[0m0.1492   \u001b[0m | \u001b[0m346.8    \u001b[0m | \u001b[0m4.701    \u001b[0m |\n",
            "| \u001b[0m74       \u001b[0m | \u001b[0m-4.821e+0\u001b[0m | \u001b[0m1.65     \u001b[0m | \u001b[0m0.02785  \u001b[0m | \u001b[0m245.4    \u001b[0m | \u001b[0m3.958    \u001b[0m |\n",
            "| \u001b[0m75       \u001b[0m | \u001b[0m-4.903e+0\u001b[0m | \u001b[0m0.8946   \u001b[0m | \u001b[0m0.1958   \u001b[0m | \u001b[0m244.6    \u001b[0m | \u001b[0m3.27     \u001b[0m |\n",
            "| \u001b[0m76       \u001b[0m | \u001b[0m-4.914e+0\u001b[0m | \u001b[0m1.444    \u001b[0m | \u001b[0m0.1123   \u001b[0m | \u001b[0m246.4    \u001b[0m | \u001b[0m4.286    \u001b[0m |\n",
            "| \u001b[0m77       \u001b[0m | \u001b[0m-4.82e+04\u001b[0m | \u001b[0m4.942    \u001b[0m | \u001b[0m0.03042  \u001b[0m | \u001b[0m354.7    \u001b[0m | \u001b[0m3.865    \u001b[0m |\n",
            "| \u001b[0m78       \u001b[0m | \u001b[0m-4.821e+0\u001b[0m | \u001b[0m2.554    \u001b[0m | \u001b[0m0.04199  \u001b[0m | \u001b[0m245.1    \u001b[0m | \u001b[0m3.85     \u001b[0m |\n",
            "| \u001b[0m79       \u001b[0m | \u001b[0m-4.846e+0\u001b[0m | \u001b[0m0.5679   \u001b[0m | \u001b[0m0.1126   \u001b[0m | \u001b[0m247.0    \u001b[0m | \u001b[0m3.048    \u001b[0m |\n",
            "| \u001b[0m80       \u001b[0m | \u001b[0m-4.856e+0\u001b[0m | \u001b[0m2.161    \u001b[0m | \u001b[0m0.1187   \u001b[0m | \u001b[0m245.4    \u001b[0m | \u001b[0m3.246    \u001b[0m |\n",
            "| \u001b[0m81       \u001b[0m | \u001b[0m-4.838e+0\u001b[0m | \u001b[0m1.939    \u001b[0m | \u001b[0m0.0524   \u001b[0m | \u001b[0m244.7    \u001b[0m | \u001b[0m4.855    \u001b[0m |\n",
            "| \u001b[0m82       \u001b[0m | \u001b[0m-4.885e+0\u001b[0m | \u001b[0m4.507    \u001b[0m | \u001b[0m0.2      \u001b[0m | \u001b[0m347.0    \u001b[0m | \u001b[0m3.0      \u001b[0m |\n",
            "| \u001b[0m83       \u001b[0m | \u001b[0m-4.876e+0\u001b[0m | \u001b[0m3.386    \u001b[0m | \u001b[0m0.09161  \u001b[0m | \u001b[0m245.6    \u001b[0m | \u001b[0m4.691    \u001b[0m |\n",
            "| \u001b[0m84       \u001b[0m | \u001b[0m-4.857e+0\u001b[0m | \u001b[0m0.4838   \u001b[0m | \u001b[0m0.1399   \u001b[0m | \u001b[0m348.2    \u001b[0m | \u001b[0m3.145    \u001b[0m |\n",
            "| \u001b[0m85       \u001b[0m | \u001b[0m-4.825e+0\u001b[0m | \u001b[0m1.888    \u001b[0m | \u001b[0m0.07432  \u001b[0m | \u001b[0m248.2    \u001b[0m | \u001b[0m3.213    \u001b[0m |\n",
            "| \u001b[0m86       \u001b[0m | \u001b[0m-4.82e+04\u001b[0m | \u001b[0m1.941    \u001b[0m | \u001b[0m0.02904  \u001b[0m | \u001b[0m84.27    \u001b[0m | \u001b[0m3.713    \u001b[0m |\n",
            "| \u001b[0m87       \u001b[0m | \u001b[0m-4.896e+0\u001b[0m | \u001b[0m0.5375   \u001b[0m | \u001b[0m0.1736   \u001b[0m | \u001b[0m78.01    \u001b[0m | \u001b[0m3.736    \u001b[0m |\n",
            "| \u001b[0m88       \u001b[0m | \u001b[0m-4.88e+04\u001b[0m | \u001b[0m3.464    \u001b[0m | \u001b[0m0.01     \u001b[0m | \u001b[0m359.0    \u001b[0m | \u001b[0m3.0      \u001b[0m |\n",
            "| \u001b[0m89       \u001b[0m | \u001b[0m-4.825e+0\u001b[0m | \u001b[0m2.57     \u001b[0m | \u001b[0m0.05987  \u001b[0m | \u001b[0m77.82    \u001b[0m | \u001b[0m3.401    \u001b[0m |\n",
            "| \u001b[0m90       \u001b[0m | \u001b[0m-4.994e+0\u001b[0m | \u001b[0m2.634    \u001b[0m | \u001b[0m0.1874   \u001b[0m | \u001b[0m77.89    \u001b[0m | \u001b[0m4.568    \u001b[0m |\n",
            "| \u001b[0m91       \u001b[0m | \u001b[0m-4.859e+0\u001b[0m | \u001b[0m2.092    \u001b[0m | \u001b[0m0.124    \u001b[0m | \u001b[0m76.51    \u001b[0m | \u001b[0m3.196    \u001b[0m |\n",
            "| \u001b[0m92       \u001b[0m | \u001b[0m-4.88e+04\u001b[0m | \u001b[0m0.7623   \u001b[0m | \u001b[0m0.01     \u001b[0m | \u001b[0m248.3    \u001b[0m | \u001b[0m3.119    \u001b[0m |\n",
            "| \u001b[0m93       \u001b[0m | \u001b[0m-4.908e+0\u001b[0m | \u001b[0m0.1236   \u001b[0m | \u001b[0m0.1283   \u001b[0m | \u001b[0m94.01    \u001b[0m | \u001b[0m4.32     \u001b[0m |\n",
            "| \u001b[0m94       \u001b[0m | \u001b[0m-4.88e+04\u001b[0m | \u001b[0m2.652    \u001b[0m | \u001b[0m0.01     \u001b[0m | \u001b[0m345.9    \u001b[0m | \u001b[0m3.0      \u001b[0m |\n",
            "| \u001b[0m95       \u001b[0m | \u001b[0m-4.891e+0\u001b[0m | \u001b[0m0.8109   \u001b[0m | \u001b[0m0.1739   \u001b[0m | \u001b[0m92.71    \u001b[0m | \u001b[0m3.039    \u001b[0m |\n",
            "| \u001b[0m96       \u001b[0m | \u001b[0m-4.822e+0\u001b[0m | \u001b[0m1.634    \u001b[0m | \u001b[0m0.0494   \u001b[0m | \u001b[0m346.9    \u001b[0m | \u001b[0m3.083    \u001b[0m |\n",
            "| \u001b[0m97       \u001b[0m | \u001b[0m-4.857e+0\u001b[0m | \u001b[0m1.886    \u001b[0m | \u001b[0m0.07471  \u001b[0m | \u001b[0m84.76    \u001b[0m | \u001b[0m4.607    \u001b[0m |\n",
            "| \u001b[0m98       \u001b[0m | \u001b[0m-4.875e+0\u001b[0m | \u001b[0m1.738    \u001b[0m | \u001b[0m0.1424   \u001b[0m | \u001b[0m77.83    \u001b[0m | \u001b[0m3.014    \u001b[0m |\n",
            "| \u001b[0m99       \u001b[0m | \u001b[0m-4.885e+0\u001b[0m | \u001b[0m3.553    \u001b[0m | \u001b[0m0.2      \u001b[0m | \u001b[0m360.7    \u001b[0m | \u001b[0m3.0      \u001b[0m |\n",
            "| \u001b[95m100      \u001b[0m | \u001b[95m-4.819e+0\u001b[0m | \u001b[95m2.155    \u001b[0m | \u001b[95m0.03566  \u001b[0m | \u001b[95m90.92    \u001b[0m | \u001b[95m3.062    \u001b[0m |\n",
            "| \u001b[0m101      \u001b[0m | \u001b[0m-4.88e+04\u001b[0m | \u001b[0m2.29     \u001b[0m | \u001b[0m0.01     \u001b[0m | \u001b[0m83.46    \u001b[0m | \u001b[0m3.408    \u001b[0m |\n",
            "| \u001b[0m102      \u001b[0m | \u001b[0m-4.88e+04\u001b[0m | \u001b[0m5.0      \u001b[0m | \u001b[0m0.01     \u001b[0m | \u001b[0m355.0    \u001b[0m | \u001b[0m3.0      \u001b[0m |\n",
            "| \u001b[0m103      \u001b[0m | \u001b[0m-4.832e+0\u001b[0m | \u001b[0m3.051    \u001b[0m | \u001b[0m0.07906  \u001b[0m | \u001b[0m248.4    \u001b[0m | \u001b[0m3.154    \u001b[0m |\n",
            "| \u001b[0m104      \u001b[0m | \u001b[0m-4.89e+04\u001b[0m | \u001b[0m4.888    \u001b[0m | \u001b[0m0.1846   \u001b[0m | \u001b[0m360.0    \u001b[0m | \u001b[0m3.637    \u001b[0m |\n",
            "| \u001b[0m105      \u001b[0m | \u001b[0m-4.854e+0\u001b[0m | \u001b[0m1.04     \u001b[0m | \u001b[0m0.1376   \u001b[0m | \u001b[0m84.72    \u001b[0m | \u001b[0m3.526    \u001b[0m |\n",
            "| \u001b[0m106      \u001b[0m | \u001b[0m-4.82e+04\u001b[0m | \u001b[0m4.728    \u001b[0m | \u001b[0m0.04696  \u001b[0m | \u001b[0m353.6    \u001b[0m | \u001b[0m3.821    \u001b[0m |\n",
            "| \u001b[0m107      \u001b[0m | \u001b[0m-4.833e+0\u001b[0m | \u001b[0m4.002    \u001b[0m | \u001b[0m0.07911  \u001b[0m | \u001b[0m353.4    \u001b[0m | \u001b[0m3.228    \u001b[0m |\n",
            "| \u001b[0m108      \u001b[0m | \u001b[0m-4.926e+0\u001b[0m | \u001b[0m0.5573   \u001b[0m | \u001b[0m0.1415   \u001b[0m | \u001b[0m80.84    \u001b[0m | \u001b[0m4.25     \u001b[0m |\n",
            "| \u001b[0m109      \u001b[0m | \u001b[0m-4.886e+0\u001b[0m | \u001b[0m2.455    \u001b[0m | \u001b[0m0.1837   \u001b[0m | \u001b[0m90.23    \u001b[0m | \u001b[0m3.054    \u001b[0m |\n",
            "| \u001b[0m110      \u001b[0m | \u001b[0m-4.836e+0\u001b[0m | \u001b[0m1.696    \u001b[0m | \u001b[0m0.08679  \u001b[0m | \u001b[0m79.13    \u001b[0m | \u001b[0m3.143    \u001b[0m |\n",
            "| \u001b[0m111      \u001b[0m | \u001b[0m-4.841e+0\u001b[0m | \u001b[0m1.362    \u001b[0m | \u001b[0m0.1108   \u001b[0m | \u001b[0m90.9     \u001b[0m | \u001b[0m3.152    \u001b[0m |\n",
            "| \u001b[0m112      \u001b[0m | \u001b[0m-4.833e+0\u001b[0m | \u001b[0m3.239    \u001b[0m | \u001b[0m0.09163  \u001b[0m | \u001b[0m78.54    \u001b[0m | \u001b[0m3.013    \u001b[0m |\n",
            "| \u001b[0m113      \u001b[0m | \u001b[0m-4.897e+0\u001b[0m | \u001b[0m2.217    \u001b[0m | \u001b[0m0.1954   \u001b[0m | \u001b[0m91.44    \u001b[0m | \u001b[0m3.959    \u001b[0m |\n",
            "| \u001b[0m114      \u001b[0m | \u001b[0m-4.819e+0\u001b[0m | \u001b[0m2.831    \u001b[0m | \u001b[0m0.03102  \u001b[0m | \u001b[0m79.89    \u001b[0m | \u001b[0m3.077    \u001b[0m |\n",
            "| \u001b[0m115      \u001b[0m | \u001b[0m-4.84e+04\u001b[0m | \u001b[0m3.651    \u001b[0m | \u001b[0m0.1114   \u001b[0m | \u001b[0m79.85    \u001b[0m | \u001b[0m3.595    \u001b[0m |\n",
            "| \u001b[0m116      \u001b[0m | \u001b[0m-4.846e+0\u001b[0m | \u001b[0m2.287    \u001b[0m | \u001b[0m0.05307  \u001b[0m | \u001b[0m244.1    \u001b[0m | \u001b[0m4.041    \u001b[0m |\n",
            "| \u001b[0m117      \u001b[0m | \u001b[0m-4.833e+0\u001b[0m | \u001b[0m1.202    \u001b[0m | \u001b[0m0.08401  \u001b[0m | \u001b[0m81.57    \u001b[0m | \u001b[0m3.157    \u001b[0m |\n",
            "| \u001b[0m118      \u001b[0m | \u001b[0m-4.82e+04\u001b[0m | \u001b[0m3.174    \u001b[0m | \u001b[0m0.02873  \u001b[0m | \u001b[0m77.39    \u001b[0m | \u001b[0m3.024    \u001b[0m |\n",
            "| \u001b[0m119      \u001b[0m | \u001b[0m-4.821e+0\u001b[0m | \u001b[0m3.132    \u001b[0m | \u001b[0m0.05211  \u001b[0m | \u001b[0m347.3    \u001b[0m | \u001b[0m3.859    \u001b[0m |\n",
            "| \u001b[0m120      \u001b[0m | \u001b[0m-4.871e+0\u001b[0m | \u001b[0m1.848    \u001b[0m | \u001b[0m0.1531   \u001b[0m | \u001b[0m294.7    \u001b[0m | \u001b[0m3.889    \u001b[0m |\n",
            "| \u001b[0m121      \u001b[0m | \u001b[0m-4.898e+0\u001b[0m | \u001b[0m3.944    \u001b[0m | \u001b[0m0.1124   \u001b[0m | \u001b[0m294.5    \u001b[0m | \u001b[0m4.247    \u001b[0m |\n",
            "| \u001b[0m122      \u001b[0m | \u001b[0m-4.942e+0\u001b[0m | \u001b[0m4.496    \u001b[0m | \u001b[0m0.1478   \u001b[0m | \u001b[0m361.3    \u001b[0m | \u001b[0m4.908    \u001b[0m |\n",
            "| \u001b[0m123      \u001b[0m | \u001b[0m-4.891e+0\u001b[0m | \u001b[0m2.406    \u001b[0m | \u001b[0m0.1876   \u001b[0m | \u001b[0m79.87    \u001b[0m | \u001b[0m3.963    \u001b[0m |\n",
            "| \u001b[0m124      \u001b[0m | \u001b[0m-4.851e+0\u001b[0m | \u001b[0m4.493    \u001b[0m | \u001b[0m0.06366  \u001b[0m | \u001b[0m353.2    \u001b[0m | \u001b[0m4.953    \u001b[0m |\n",
            "| \u001b[0m125      \u001b[0m | \u001b[0m-4.949e+0\u001b[0m | \u001b[0m2.792    \u001b[0m | \u001b[0m0.1448   \u001b[0m | \u001b[0m295.5    \u001b[0m | \u001b[0m4.908    \u001b[0m |\n",
            "| \u001b[0m126      \u001b[0m | \u001b[0m-4.885e+0\u001b[0m | \u001b[0m2.515    \u001b[0m | \u001b[0m0.1021   \u001b[0m | \u001b[0m293.7    \u001b[0m | \u001b[0m4.148    \u001b[0m |\n",
            "| \u001b[0m127      \u001b[0m | \u001b[0m-4.883e+0\u001b[0m | \u001b[0m2.174    \u001b[0m | \u001b[0m0.1851   \u001b[0m | \u001b[0m85.19    \u001b[0m | \u001b[0m3.128    \u001b[0m |\n",
            "| \u001b[0m128      \u001b[0m | \u001b[0m-4.82e+04\u001b[0m | \u001b[0m2.71     \u001b[0m | \u001b[0m0.02753  \u001b[0m | \u001b[0m81.19    \u001b[0m | \u001b[0m3.004    \u001b[0m |\n",
            "| \u001b[0m129      \u001b[0m | \u001b[0m-4.825e+0\u001b[0m | \u001b[0m3.536    \u001b[0m | \u001b[0m0.07432  \u001b[0m | \u001b[0m80.77    \u001b[0m | \u001b[0m3.299    \u001b[0m |\n",
            "| \u001b[0m130      \u001b[0m | \u001b[0m-4.822e+0\u001b[0m | \u001b[0m0.9511   \u001b[0m | \u001b[0m0.0261   \u001b[0m | \u001b[0m89.61    \u001b[0m | \u001b[0m3.496    \u001b[0m |\n",
            "=========================================================================\n"
          ]
        }
      ],
      "id": "jSej285ab1oz"
    },
    {
      "cell_type": "code",
      "source": [
        "print(optimizer.max[\"params\"])\n",
        "\n"
      ],
      "metadata": {
        "colab": {
          "base_uri": "https://localhost:8080/"
        },
        "id": "dWKqerBNaRQI",
        "outputId": "fc8da171-398f-4f58-9d4a-0bc9b497197d"
      },
      "execution_count": null,
      "outputs": [
        {
          "output_type": "stream",
          "name": "stdout",
          "text": [
            "{'gamma': 2.155050244116633, 'learning_rate': 0.03566342641904599, 'max_delta_step': 90.92416094047529, 'max_depth': 3.062140798125786}\n"
          ]
        }
      ],
      "id": "dWKqerBNaRQI"
    },
    {
      "cell_type": "markdown",
      "id": "95983c35",
      "metadata": {
        "id": "95983c35"
      },
      "source": [
        "## Scoring New Data\n",
        "\n",
        "### Prepare data for scoring"
      ]
    },
    {
      "cell_type": "code",
      "execution_count": null,
      "id": "d1639b73",
      "metadata": {
        "id": "d1639b73"
      },
      "outputs": [],
      "source": [
        "data3 = sas_session.sasdata2dataframe(\n",
        "table='score',\n",
        "libref='cortex'\n",
        ")\n",
        "data4 = sas_session.sasdata2dataframe(\n",
        "table='score_rd2_contact',\n",
        "libref='cortex'\n",
        ")\n",
        "data5 = sas_session.sasdata2dataframe(\n",
        "table='score_rd2_nocontact',\n",
        "libref='cortex'\n",
        ")"
      ]
    },
    {
      "cell_type": "markdown",
      "id": "47f7d483-c503-4da1-accf-8c080a7b81b0",
      "metadata": {
        "id": "47f7d483-c503-4da1-accf-8c080a7b81b0"
      },
      "source": [
        " ### Score new data based on your champion model\n",
        " \n",
        " Pick your champion model from previous steps and use it to predict next year donations. \n",
        " \n",
        " In this case, the linear regression model performed better than the regression tree based on the MSE criteria."
      ]
    },
    {
      "cell_type": "markdown",
      "id": "5bdb9c23-03d9-4dfe-82ca-667b44e99603",
      "metadata": {
        "id": "5bdb9c23-03d9-4dfe-82ca-667b44e99603"
      },
      "source": [
        "### Predict 'amount given' for members who were contacted"
      ]
    },
    {
      "cell_type": "code",
      "execution_count": null,
      "id": "09ec1430",
      "metadata": {
        "collapsed": true,
        "colab": {
          "base_uri": "https://localhost:8080/",
          "height": 206
        },
        "id": "09ec1430",
        "outputId": "1d1b6e48-220d-4ade-c65c-9c44c1b626b3"
      },
      "outputs": [
        {
          "output_type": "execute_result",
          "data": {
            "text/plain": [
              "          ID  AmtContact\n",
              "0  2000001.0   56.780594\n",
              "1  2000002.0   50.647430\n",
              "2  2000003.0   82.759285\n",
              "3  2000004.0   33.338512\n",
              "4  2000005.0  102.746193"
            ],
            "text/html": [
              "\n",
              "  <div id=\"df-c4af9438-f6a9-4a82-885f-b7d948d9e6aa\">\n",
              "    <div class=\"colab-df-container\">\n",
              "      <div>\n",
              "<style scoped>\n",
              "    .dataframe tbody tr th:only-of-type {\n",
              "        vertical-align: middle;\n",
              "    }\n",
              "\n",
              "    .dataframe tbody tr th {\n",
              "        vertical-align: top;\n",
              "    }\n",
              "\n",
              "    .dataframe thead th {\n",
              "        text-align: right;\n",
              "    }\n",
              "</style>\n",
              "<table border=\"1\" class=\"dataframe\">\n",
              "  <thead>\n",
              "    <tr style=\"text-align: right;\">\n",
              "      <th></th>\n",
              "      <th>ID</th>\n",
              "      <th>AmtContact</th>\n",
              "    </tr>\n",
              "  </thead>\n",
              "  <tbody>\n",
              "    <tr>\n",
              "      <th>0</th>\n",
              "      <td>2000001.0</td>\n",
              "      <td>56.780594</td>\n",
              "    </tr>\n",
              "    <tr>\n",
              "      <th>1</th>\n",
              "      <td>2000002.0</td>\n",
              "      <td>50.647430</td>\n",
              "    </tr>\n",
              "    <tr>\n",
              "      <th>2</th>\n",
              "      <td>2000003.0</td>\n",
              "      <td>82.759285</td>\n",
              "    </tr>\n",
              "    <tr>\n",
              "      <th>3</th>\n",
              "      <td>2000004.0</td>\n",
              "      <td>33.338512</td>\n",
              "    </tr>\n",
              "    <tr>\n",
              "      <th>4</th>\n",
              "      <td>2000005.0</td>\n",
              "      <td>102.746193</td>\n",
              "    </tr>\n",
              "  </tbody>\n",
              "</table>\n",
              "</div>\n",
              "      <button class=\"colab-df-convert\" onclick=\"convertToInteractive('df-c4af9438-f6a9-4a82-885f-b7d948d9e6aa')\"\n",
              "              title=\"Convert this dataframe to an interactive table.\"\n",
              "              style=\"display:none;\">\n",
              "        \n",
              "  <svg xmlns=\"http://www.w3.org/2000/svg\" height=\"24px\"viewBox=\"0 0 24 24\"\n",
              "       width=\"24px\">\n",
              "    <path d=\"M0 0h24v24H0V0z\" fill=\"none\"/>\n",
              "    <path d=\"M18.56 5.44l.94 2.06.94-2.06 2.06-.94-2.06-.94-.94-2.06-.94 2.06-2.06.94zm-11 1L8.5 8.5l.94-2.06 2.06-.94-2.06-.94L8.5 2.5l-.94 2.06-2.06.94zm10 10l.94 2.06.94-2.06 2.06-.94-2.06-.94-.94-2.06-.94 2.06-2.06.94z\"/><path d=\"M17.41 7.96l-1.37-1.37c-.4-.4-.92-.59-1.43-.59-.52 0-1.04.2-1.43.59L10.3 9.45l-7.72 7.72c-.78.78-.78 2.05 0 2.83L4 21.41c.39.39.9.59 1.41.59.51 0 1.02-.2 1.41-.59l7.78-7.78 2.81-2.81c.8-.78.8-2.07 0-2.86zM5.41 20L4 18.59l7.72-7.72 1.47 1.35L5.41 20z\"/>\n",
              "  </svg>\n",
              "      </button>\n",
              "      \n",
              "  <style>\n",
              "    .colab-df-container {\n",
              "      display:flex;\n",
              "      flex-wrap:wrap;\n",
              "      gap: 12px;\n",
              "    }\n",
              "\n",
              "    .colab-df-convert {\n",
              "      background-color: #E8F0FE;\n",
              "      border: none;\n",
              "      border-radius: 50%;\n",
              "      cursor: pointer;\n",
              "      display: none;\n",
              "      fill: #1967D2;\n",
              "      height: 32px;\n",
              "      padding: 0 0 0 0;\n",
              "      width: 32px;\n",
              "    }\n",
              "\n",
              "    .colab-df-convert:hover {\n",
              "      background-color: #E2EBFA;\n",
              "      box-shadow: 0px 1px 2px rgba(60, 64, 67, 0.3), 0px 1px 3px 1px rgba(60, 64, 67, 0.15);\n",
              "      fill: #174EA6;\n",
              "    }\n",
              "\n",
              "    [theme=dark] .colab-df-convert {\n",
              "      background-color: #3B4455;\n",
              "      fill: #D2E3FC;\n",
              "    }\n",
              "\n",
              "    [theme=dark] .colab-df-convert:hover {\n",
              "      background-color: #434B5C;\n",
              "      box-shadow: 0px 1px 3px 1px rgba(0, 0, 0, 0.15);\n",
              "      filter: drop-shadow(0px 1px 2px rgba(0, 0, 0, 0.3));\n",
              "      fill: #FFFFFF;\n",
              "    }\n",
              "  </style>\n",
              "\n",
              "      <script>\n",
              "        const buttonEl =\n",
              "          document.querySelector('#df-c4af9438-f6a9-4a82-885f-b7d948d9e6aa button.colab-df-convert');\n",
              "        buttonEl.style.display =\n",
              "          google.colab.kernel.accessAllowed ? 'block' : 'none';\n",
              "\n",
              "        async function convertToInteractive(key) {\n",
              "          const element = document.querySelector('#df-c4af9438-f6a9-4a82-885f-b7d948d9e6aa');\n",
              "          const dataTable =\n",
              "            await google.colab.kernel.invokeFunction('convertToInteractive',\n",
              "                                                     [key], {});\n",
              "          if (!dataTable) return;\n",
              "\n",
              "          const docLinkHtml = 'Like what you see? Visit the ' +\n",
              "            '<a target=\"_blank\" href=https://colab.research.google.com/notebooks/data_table.ipynb>data table notebook</a>'\n",
              "            + ' to learn more about interactive tables.';\n",
              "          element.innerHTML = '';\n",
              "          dataTable['output_type'] = 'display_data';\n",
              "          await google.colab.output.renderOutput(dataTable, element);\n",
              "          const docLink = document.createElement('div');\n",
              "          docLink.innerHTML = docLinkHtml;\n",
              "          element.appendChild(docLink);\n",
              "        }\n",
              "      </script>\n",
              "    </div>\n",
              "  </div>\n",
              "  "
            ]
          },
          "metadata": {},
          "execution_count": 167
        }
      ],
      "source": [
        "scoring_data_contact = pd.merge(data3, data4, on=[\"ID\"],how=\"right\")\n",
        "\n",
        "# Perform the same strategy for handling missing values for the score dataset.\n",
        "# In this case, we will only replace missing values of the MinGift variable.\n",
        "scoring_data_contact.rename(columns={\"City\": \"Location\"}, inplace = True)\n",
        "\n",
        "scoring_data_contact[['MinGift']] = scoring_data_contact[['MinGift']].fillna(value=0) \n",
        "scoring_data_contact[['HistoricDonor']] = scoring_data_contact[['Frequency']].notna().astype(int)\n",
        "scoring_data_contact[['Frequency']] = scoring_data_contact[['Frequency']].fillna(value=0)  \n",
        "scoring_data_contact[['TotalGift']] = scoring_data_contact[['TotalGift']].fillna(value=0) \n",
        "\n",
        "scoring_data_contact = dummies(scoring_data_contact, \"Education\")\n",
        "scoring_data_contact = dummies(scoring_data_contact, \"Location\")\n",
        "\n",
        "X = scoring_data_contact[['Age', 'Salary', 'Contact', 'Referrals', 'TotalGift', 'GaveLastYear', 'AmtLastYear', 'Woman', 'NbActivities', 'City', 'Downtown', 'Rural', 'Suburban']] \n",
        "\n",
        "regr_predict_contact=xgb_model.predict(X)\n",
        "\n",
        "scoring_data_contact['Prediction'] = regr_predict_contact\n",
        "\n",
        "scoring_data_contact= scoring_data_contact[['ID','Prediction']]\n",
        "scoring_data_contact = scoring_data_contact.rename({'Prediction': 'AmtContact'}, axis=1) \n",
        "scoring_data_contact.head()"
      ]
    },
    {
      "cell_type": "markdown",
      "id": "f3fa6e3f-da9c-4121-b896-f5ba52f8d4f3",
      "metadata": {
        "id": "f3fa6e3f-da9c-4121-b896-f5ba52f8d4f3"
      },
      "source": [
        "### Predict 'amount given' for members who were not contacted"
      ]
    },
    {
      "cell_type": "code",
      "execution_count": null,
      "id": "9c0f1c5b",
      "metadata": {
        "collapsed": true,
        "colab": {
          "base_uri": "https://localhost:8080/",
          "height": 206
        },
        "id": "9c0f1c5b",
        "outputId": "f4802ac3-567f-4c5b-e903-9d082b2783c4"
      },
      "outputs": [
        {
          "output_type": "execute_result",
          "data": {
            "text/plain": [
              "          ID  AmtNoContact\n",
              "0  2000001.0     57.710060\n",
              "1  2000002.0     52.633240\n",
              "2  2000003.0     85.504852\n",
              "3  2000004.0     36.084110\n",
              "4  2000005.0    108.254433"
            ],
            "text/html": [
              "\n",
              "  <div id=\"df-e7a3fb37-483c-4ed9-9227-e7c4fca9c676\">\n",
              "    <div class=\"colab-df-container\">\n",
              "      <div>\n",
              "<style scoped>\n",
              "    .dataframe tbody tr th:only-of-type {\n",
              "        vertical-align: middle;\n",
              "    }\n",
              "\n",
              "    .dataframe tbody tr th {\n",
              "        vertical-align: top;\n",
              "    }\n",
              "\n",
              "    .dataframe thead th {\n",
              "        text-align: right;\n",
              "    }\n",
              "</style>\n",
              "<table border=\"1\" class=\"dataframe\">\n",
              "  <thead>\n",
              "    <tr style=\"text-align: right;\">\n",
              "      <th></th>\n",
              "      <th>ID</th>\n",
              "      <th>AmtNoContact</th>\n",
              "    </tr>\n",
              "  </thead>\n",
              "  <tbody>\n",
              "    <tr>\n",
              "      <th>0</th>\n",
              "      <td>2000001.0</td>\n",
              "      <td>57.710060</td>\n",
              "    </tr>\n",
              "    <tr>\n",
              "      <th>1</th>\n",
              "      <td>2000002.0</td>\n",
              "      <td>52.633240</td>\n",
              "    </tr>\n",
              "    <tr>\n",
              "      <th>2</th>\n",
              "      <td>2000003.0</td>\n",
              "      <td>85.504852</td>\n",
              "    </tr>\n",
              "    <tr>\n",
              "      <th>3</th>\n",
              "      <td>2000004.0</td>\n",
              "      <td>36.084110</td>\n",
              "    </tr>\n",
              "    <tr>\n",
              "      <th>4</th>\n",
              "      <td>2000005.0</td>\n",
              "      <td>108.254433</td>\n",
              "    </tr>\n",
              "  </tbody>\n",
              "</table>\n",
              "</div>\n",
              "      <button class=\"colab-df-convert\" onclick=\"convertToInteractive('df-e7a3fb37-483c-4ed9-9227-e7c4fca9c676')\"\n",
              "              title=\"Convert this dataframe to an interactive table.\"\n",
              "              style=\"display:none;\">\n",
              "        \n",
              "  <svg xmlns=\"http://www.w3.org/2000/svg\" height=\"24px\"viewBox=\"0 0 24 24\"\n",
              "       width=\"24px\">\n",
              "    <path d=\"M0 0h24v24H0V0z\" fill=\"none\"/>\n",
              "    <path d=\"M18.56 5.44l.94 2.06.94-2.06 2.06-.94-2.06-.94-.94-2.06-.94 2.06-2.06.94zm-11 1L8.5 8.5l.94-2.06 2.06-.94-2.06-.94L8.5 2.5l-.94 2.06-2.06.94zm10 10l.94 2.06.94-2.06 2.06-.94-2.06-.94-.94-2.06-.94 2.06-2.06.94z\"/><path d=\"M17.41 7.96l-1.37-1.37c-.4-.4-.92-.59-1.43-.59-.52 0-1.04.2-1.43.59L10.3 9.45l-7.72 7.72c-.78.78-.78 2.05 0 2.83L4 21.41c.39.39.9.59 1.41.59.51 0 1.02-.2 1.41-.59l7.78-7.78 2.81-2.81c.8-.78.8-2.07 0-2.86zM5.41 20L4 18.59l7.72-7.72 1.47 1.35L5.41 20z\"/>\n",
              "  </svg>\n",
              "      </button>\n",
              "      \n",
              "  <style>\n",
              "    .colab-df-container {\n",
              "      display:flex;\n",
              "      flex-wrap:wrap;\n",
              "      gap: 12px;\n",
              "    }\n",
              "\n",
              "    .colab-df-convert {\n",
              "      background-color: #E8F0FE;\n",
              "      border: none;\n",
              "      border-radius: 50%;\n",
              "      cursor: pointer;\n",
              "      display: none;\n",
              "      fill: #1967D2;\n",
              "      height: 32px;\n",
              "      padding: 0 0 0 0;\n",
              "      width: 32px;\n",
              "    }\n",
              "\n",
              "    .colab-df-convert:hover {\n",
              "      background-color: #E2EBFA;\n",
              "      box-shadow: 0px 1px 2px rgba(60, 64, 67, 0.3), 0px 1px 3px 1px rgba(60, 64, 67, 0.15);\n",
              "      fill: #174EA6;\n",
              "    }\n",
              "\n",
              "    [theme=dark] .colab-df-convert {\n",
              "      background-color: #3B4455;\n",
              "      fill: #D2E3FC;\n",
              "    }\n",
              "\n",
              "    [theme=dark] .colab-df-convert:hover {\n",
              "      background-color: #434B5C;\n",
              "      box-shadow: 0px 1px 3px 1px rgba(0, 0, 0, 0.15);\n",
              "      filter: drop-shadow(0px 1px 2px rgba(0, 0, 0, 0.3));\n",
              "      fill: #FFFFFF;\n",
              "    }\n",
              "  </style>\n",
              "\n",
              "      <script>\n",
              "        const buttonEl =\n",
              "          document.querySelector('#df-e7a3fb37-483c-4ed9-9227-e7c4fca9c676 button.colab-df-convert');\n",
              "        buttonEl.style.display =\n",
              "          google.colab.kernel.accessAllowed ? 'block' : 'none';\n",
              "\n",
              "        async function convertToInteractive(key) {\n",
              "          const element = document.querySelector('#df-e7a3fb37-483c-4ed9-9227-e7c4fca9c676');\n",
              "          const dataTable =\n",
              "            await google.colab.kernel.invokeFunction('convertToInteractive',\n",
              "                                                     [key], {});\n",
              "          if (!dataTable) return;\n",
              "\n",
              "          const docLinkHtml = 'Like what you see? Visit the ' +\n",
              "            '<a target=\"_blank\" href=https://colab.research.google.com/notebooks/data_table.ipynb>data table notebook</a>'\n",
              "            + ' to learn more about interactive tables.';\n",
              "          element.innerHTML = '';\n",
              "          dataTable['output_type'] = 'display_data';\n",
              "          await google.colab.output.renderOutput(dataTable, element);\n",
              "          const docLink = document.createElement('div');\n",
              "          docLink.innerHTML = docLinkHtml;\n",
              "          element.appendChild(docLink);\n",
              "        }\n",
              "      </script>\n",
              "    </div>\n",
              "  </div>\n",
              "  "
            ]
          },
          "metadata": {},
          "execution_count": 168
        }
      ],
      "source": [
        "scoring_data_nocontact = pd.merge(data3, data5, on=[\"ID\"],how=\"right\")\n",
        "\n",
        "# Perform the same strategy for handling missing values for the score dataset.\n",
        "# In this case, we will only replace missing values of the MinGift variable.\n",
        "scoring_data_nocontact.rename(columns={\"City\": \"Location\"}, inplace = True)\n",
        "\n",
        "scoring_data_nocontact[['MinGift']] = scoring_data_nocontact[['MinGift']].fillna(value=0) \n",
        "scoring_data_nocontact[['HistoricDonor']] = scoring_data_nocontact[['Frequency']].notna().astype(int)\n",
        "scoring_data_nocontact[['Frequency']] = scoring_data_nocontact[['Frequency']].fillna(value=0)  \n",
        "scoring_data_nocontact[['TotalGift']] = scoring_data_nocontact[['TotalGift']].fillna(value=0) \n",
        "\n",
        "scoring_data_nocontact = dummies(scoring_data_nocontact, \"Education\")\n",
        "scoring_data_nocontact = dummies(scoring_data_nocontact, \"Location\")\n",
        "\n",
        "X = scoring_data_nocontact[['Age', 'Salary', 'Contact', 'Referrals', 'TotalGift', 'GaveLastYear', 'AmtLastYear', 'Woman', 'NbActivities', 'City', 'Downtown', 'Rural', 'Suburban']] \n",
        "\n",
        "regr_predict_nocontact=xgb_model.predict(X)\n",
        "\n",
        "scoring_data_nocontact['Prediction'] = regr_predict_nocontact\n",
        "\n",
        "scoring_data_nocontact= scoring_data_nocontact[['ID','Prediction']]\n",
        "scoring_data_nocontact = scoring_data_nocontact.rename({'Prediction': 'AmtNoContact'}, axis=1) \n",
        "scoring_data_nocontact.head()"
      ]
    },
    {
      "cell_type": "code",
      "execution_count": null,
      "id": "5036d69c",
      "metadata": {
        "collapsed": true,
        "colab": {
          "base_uri": "https://localhost:8080/",
          "height": 143
        },
        "id": "5036d69c",
        "outputId": "54875bd9-7544-4541-a133-a232577f4a87"
      },
      "outputs": [
        {
          "output_type": "execute_result",
          "data": {
            "text/plain": [
              "          ID  AmtContact  AmtNoContact\n",
              "0  2000001.0   56.780594     57.710060\n",
              "1  2000002.0   50.647430     52.633240\n",
              "2  2000003.0   82.759285     85.504852"
            ],
            "text/html": [
              "\n",
              "  <div id=\"df-dafc1a26-1475-4caa-9318-ef0f65af95fc\">\n",
              "    <div class=\"colab-df-container\">\n",
              "      <div>\n",
              "<style scoped>\n",
              "    .dataframe tbody tr th:only-of-type {\n",
              "        vertical-align: middle;\n",
              "    }\n",
              "\n",
              "    .dataframe tbody tr th {\n",
              "        vertical-align: top;\n",
              "    }\n",
              "\n",
              "    .dataframe thead th {\n",
              "        text-align: right;\n",
              "    }\n",
              "</style>\n",
              "<table border=\"1\" class=\"dataframe\">\n",
              "  <thead>\n",
              "    <tr style=\"text-align: right;\">\n",
              "      <th></th>\n",
              "      <th>ID</th>\n",
              "      <th>AmtContact</th>\n",
              "      <th>AmtNoContact</th>\n",
              "    </tr>\n",
              "  </thead>\n",
              "  <tbody>\n",
              "    <tr>\n",
              "      <th>0</th>\n",
              "      <td>2000001.0</td>\n",
              "      <td>56.780594</td>\n",
              "      <td>57.710060</td>\n",
              "    </tr>\n",
              "    <tr>\n",
              "      <th>1</th>\n",
              "      <td>2000002.0</td>\n",
              "      <td>50.647430</td>\n",
              "      <td>52.633240</td>\n",
              "    </tr>\n",
              "    <tr>\n",
              "      <th>2</th>\n",
              "      <td>2000003.0</td>\n",
              "      <td>82.759285</td>\n",
              "      <td>85.504852</td>\n",
              "    </tr>\n",
              "  </tbody>\n",
              "</table>\n",
              "</div>\n",
              "      <button class=\"colab-df-convert\" onclick=\"convertToInteractive('df-dafc1a26-1475-4caa-9318-ef0f65af95fc')\"\n",
              "              title=\"Convert this dataframe to an interactive table.\"\n",
              "              style=\"display:none;\">\n",
              "        \n",
              "  <svg xmlns=\"http://www.w3.org/2000/svg\" height=\"24px\"viewBox=\"0 0 24 24\"\n",
              "       width=\"24px\">\n",
              "    <path d=\"M0 0h24v24H0V0z\" fill=\"none\"/>\n",
              "    <path d=\"M18.56 5.44l.94 2.06.94-2.06 2.06-.94-2.06-.94-.94-2.06-.94 2.06-2.06.94zm-11 1L8.5 8.5l.94-2.06 2.06-.94-2.06-.94L8.5 2.5l-.94 2.06-2.06.94zm10 10l.94 2.06.94-2.06 2.06-.94-2.06-.94-.94-2.06-.94 2.06-2.06.94z\"/><path d=\"M17.41 7.96l-1.37-1.37c-.4-.4-.92-.59-1.43-.59-.52 0-1.04.2-1.43.59L10.3 9.45l-7.72 7.72c-.78.78-.78 2.05 0 2.83L4 21.41c.39.39.9.59 1.41.59.51 0 1.02-.2 1.41-.59l7.78-7.78 2.81-2.81c.8-.78.8-2.07 0-2.86zM5.41 20L4 18.59l7.72-7.72 1.47 1.35L5.41 20z\"/>\n",
              "  </svg>\n",
              "      </button>\n",
              "      \n",
              "  <style>\n",
              "    .colab-df-container {\n",
              "      display:flex;\n",
              "      flex-wrap:wrap;\n",
              "      gap: 12px;\n",
              "    }\n",
              "\n",
              "    .colab-df-convert {\n",
              "      background-color: #E8F0FE;\n",
              "      border: none;\n",
              "      border-radius: 50%;\n",
              "      cursor: pointer;\n",
              "      display: none;\n",
              "      fill: #1967D2;\n",
              "      height: 32px;\n",
              "      padding: 0 0 0 0;\n",
              "      width: 32px;\n",
              "    }\n",
              "\n",
              "    .colab-df-convert:hover {\n",
              "      background-color: #E2EBFA;\n",
              "      box-shadow: 0px 1px 2px rgba(60, 64, 67, 0.3), 0px 1px 3px 1px rgba(60, 64, 67, 0.15);\n",
              "      fill: #174EA6;\n",
              "    }\n",
              "\n",
              "    [theme=dark] .colab-df-convert {\n",
              "      background-color: #3B4455;\n",
              "      fill: #D2E3FC;\n",
              "    }\n",
              "\n",
              "    [theme=dark] .colab-df-convert:hover {\n",
              "      background-color: #434B5C;\n",
              "      box-shadow: 0px 1px 3px 1px rgba(0, 0, 0, 0.15);\n",
              "      filter: drop-shadow(0px 1px 2px rgba(0, 0, 0, 0.3));\n",
              "      fill: #FFFFFF;\n",
              "    }\n",
              "  </style>\n",
              "\n",
              "      <script>\n",
              "        const buttonEl =\n",
              "          document.querySelector('#df-dafc1a26-1475-4caa-9318-ef0f65af95fc button.colab-df-convert');\n",
              "        buttonEl.style.display =\n",
              "          google.colab.kernel.accessAllowed ? 'block' : 'none';\n",
              "\n",
              "        async function convertToInteractive(key) {\n",
              "          const element = document.querySelector('#df-dafc1a26-1475-4caa-9318-ef0f65af95fc');\n",
              "          const dataTable =\n",
              "            await google.colab.kernel.invokeFunction('convertToInteractive',\n",
              "                                                     [key], {});\n",
              "          if (!dataTable) return;\n",
              "\n",
              "          const docLinkHtml = 'Like what you see? Visit the ' +\n",
              "            '<a target=\"_blank\" href=https://colab.research.google.com/notebooks/data_table.ipynb>data table notebook</a>'\n",
              "            + ' to learn more about interactive tables.';\n",
              "          element.innerHTML = '';\n",
              "          dataTable['output_type'] = 'display_data';\n",
              "          await google.colab.output.renderOutput(dataTable, element);\n",
              "          const docLink = document.createElement('div');\n",
              "          docLink.innerHTML = docLinkHtml;\n",
              "          element.appendChild(docLink);\n",
              "        }\n",
              "      </script>\n",
              "    </div>\n",
              "  </div>\n",
              "  "
            ]
          },
          "metadata": {},
          "execution_count": 169
        }
      ],
      "source": [
        "result_Amt = pd.merge(scoring_data_contact, scoring_data_nocontact, on=[\"ID\"],how=\"right\")\n",
        "result_Amt.sort_values(by=['ID'], inplace=True)\n",
        "result_Amt.head(3)"
      ]
    },
    {
      "cell_type": "markdown",
      "id": "f09bf90d",
      "metadata": {
        "id": "f09bf90d"
      },
      "source": [
        "## Exporting Results to a CSV File"
      ]
    },
    {
      "cell_type": "code",
      "execution_count": null,
      "id": "606bf0a9",
      "metadata": {
        "id": "606bf0a9"
      },
      "outputs": [],
      "source": [
        "result_Amt.to_csv('Round2_Output_amt.csv', index=False)"
      ]
    },
    {
      "cell_type": "code",
      "execution_count": null,
      "id": "ccce0857",
      "metadata": {
        "id": "ccce0857"
      },
      "outputs": [],
      "source": [
        "# Reminder: You are now done with step 1 of Round 2 on predicting the conditional amount.\n",
        "# Next, to complete Round2, you need to perform step 2 to predict the probability of giving, calculate the uplift and prepare your decision."
      ]
    },
    {
      "cell_type": "code",
      "source": [
        "!head Round2_Output_amt.csv"
      ],
      "metadata": {
        "colab": {
          "base_uri": "https://localhost:8080/"
        },
        "id": "cJXIon3nFSHJ",
        "outputId": "ad03e64f-254a-4ed0-c374-e9a2490c0cef"
      },
      "id": "cJXIon3nFSHJ",
      "execution_count": null,
      "outputs": [
        {
          "output_type": "stream",
          "name": "stdout",
          "text": [
            "ID,AmtContact,AmtNoContact\n",
            "2000001.0,66.63118007939372,66.63118007939372\n",
            "2000002.0,72.3890134529148,72.3890134529148\n",
            "2000003.0,97.00667302192565,97.00667302192565\n",
            "2000004.0,40.5796395518753,40.5796395518753\n",
            "2000005.0,97.00667302192565,97.00667302192565\n",
            "2000006.0,32.56816359262229,32.56816359262229\n",
            "2000007.0,27.272496187086933,27.272496187086933\n",
            "2000008.0,51.717085235920855,51.717085235920855\n",
            "2000009.0,43.66751990898749,43.66751990898749\n"
          ]
        }
      ]
    }
  ],
  "metadata": {
    "kernelspec": {
      "display_name": "Python 3",
      "language": "python",
      "name": "python3"
    },
    "language_info": {
      "codemirror_mode": {
        "name": "ipython",
        "version": 3
      },
      "file_extension": ".py",
      "mimetype": "text/x-python",
      "name": "python",
      "nbconvert_exporter": "python",
      "pygments_lexer": "ipython3",
      "version": "3.8.8"
    },
    "colab": {
      "provenance": []
    }
  },
  "nbformat": 4,
  "nbformat_minor": 5
}