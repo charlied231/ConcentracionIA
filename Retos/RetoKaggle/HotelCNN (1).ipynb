{
  "cells": [
    {
      "cell_type": "markdown",
      "metadata": {
        "id": "5gjSr_zRAIJ5"
      },
      "source": [
        "# Hotel CNN\n"
      ]
    },
    {
      "cell_type": "code",
      "execution_count": null,
      "metadata": {
        "id": "0vQ150YnGxzU"
      },
      "outputs": [],
      "source": [
        "import os\n",
        "import matplotlib.pyplot as plt\n",
        "import numpy as np\n",
        "import tensorflow as tf\n",
        "\n",
        "from keras import optimizers\n",
        "from keras.layers import Dense, Flatten\n",
        "from keras.models import Sequential\n",
        "from keras.preprocessing.image import ImageDataGenerator\n",
        "from random import sample\n",
        "from keras.applications.resnet_v2 import ResNet50V2\n",
        "from tensorflow.keras.models import load_model"
      ]
    },
    {
      "cell_type": "code",
      "execution_count": null,
      "metadata": {
        "id": "piAlt4PQMaxs"
      },
      "outputs": [],
      "source": [
        "IMG_SIZE = 256"
      ]
    },
    {
      "cell_type": "code",
      "execution_count": null,
      "metadata": {
        "id": "XjSPc03-MiUP"
      },
      "outputs": [],
      "source": [
        "base_dir = 'D:/CNN Hotel Classification'\n",
        "train_dir = os.path.join(base_dir,'train_images')\n",
        "save_directory = os.path.join(base_dir,'processed_images15')\n",
        "test_directory = os.path.join(base_dir,'test_images15')"
      ]
    },
    {
      "cell_type": "code",
      "execution_count": null,
      "metadata": {
        "id": "i0zdAWUkW682"
      },
      "outputs": [],
      "source": [
        "directory_list = os.listdir(train_dir)\n",
        "classes = np.empty((len(directory_list),1))\n",
        "total = 0\n",
        "\n",
        "for i, dir in enumerate(directory_list):\n",
        "  temp_dir = os.path.join(train_dir, dir)\n",
        "  classes[i] = len(os.listdir(temp_dir))\n",
        "  if classes[i] >= 100:\n",
        "    print(dir, classes[i])\n",
        "    total += 1\n",
        "\n",
        "plt.boxplot(classes)\n",
        "print(total)"
      ]
    },
    {
      "cell_type": "markdown",
      "metadata": {
        "id": "odBEATjawnoL"
      },
      "source": [
        "# Oversampling / Undersampling and Test dataset separation"
      ]
    },
    {
      "cell_type": "code",
      "execution_count": null,
      "metadata": {
        "id": "hgvIaT1nHE_y"
      },
      "outputs": [],
      "source": [
        "train_datagen = ImageDataGenerator(rescale=1/255,\n",
        "                                   rotation_range=40,\n",
        "                                   width_shift_range=0.2,\n",
        "                                   height_shift_range=0.2,\n",
        "                                   shear_range=0.2,\n",
        "                                   zoom_range=0.2,\n",
        "                                   horizontal_flip=True,\n",
        "                                   fill_mode='nearest')\n"
      ]
    },
    {
      "cell_type": "code",
      "execution_count": null,
      "metadata": {
        "id": "Dp3NeeVYwnoL"
      },
      "outputs": [],
      "source": [
        "def save_image(img_path, i, save_dir): \n",
        "    name = os.path.join(save_dir, str(i) + '.jpg')\n",
        "    img = tf.keras.preprocessing.image.load_img(img_path).resize((IMG_SIZE, IMG_SIZE))\n",
        "    img.save(name)"
      ]
    },
    {
      "cell_type": "code",
      "execution_count": null,
      "metadata": {
        "id": "BMQ7ywmFIaVx"
      },
      "outputs": [],
      "source": [
        "directory_list = os.listdir(train_dir)\n",
        "\n",
        "min_img = 15\n",
        "target_number = min_img * 8\n",
        "max_target = 400\n",
        "test_img = 2\n",
        "\n",
        "# Create save and test directories\n",
        "if not os.path.exists(save_directory):\n",
        "  os.mkdir(save_directory)\n",
        "if not os.path.exists(test_directory):\n",
        "  os.mkdir(test_directory)\n",
        "\n",
        "# Iterate Kaggle Dataset\n",
        "for dir in directory_list:\n",
        "  temp_train_dir = os.path.join(train_dir, dir)\n",
        "  # Skip classes with less images than our minimum number required\n",
        "  if len(os.listdir(temp_train_dir)) < min_img:\n",
        "    continue\n",
        "  \n",
        "  # Create save and test class folders\n",
        "  temp_save_dir = os.path.join(save_directory, dir)\n",
        "  if not os.path.exists(temp_save_dir):\n",
        "    os.mkdir(temp_save_dir)\n",
        "  temp_test_dir = os.path.join(test_directory, dir)\n",
        "  if not os.path.exists(temp_test_dir):\n",
        "    os.mkdir(temp_test_dir)\n",
        "\n",
        "  # List all image paths from class\n",
        "  img_names = [os.path.join(temp_train_dir, name) for name in os.listdir(temp_train_dir)]\n",
        "\n",
        "  # Oversampling\n",
        "  if len(img_names) < target_number + test_img:\n",
        "    # Determine number of images generated from each image\n",
        "    remainder = sample(img_names, k= target_number % (len(img_names) - test_img)) \n",
        "    target_per_img = target_number // (len(img_names) - test_img) - 1\n",
        "    i, j, test_i = 0, 0, 0\n",
        "\n",
        "    for img_path in img_names:\n",
        "      if test_i < test_img and img_path not in remainder:\n",
        "        save_image(img_path, test_i, temp_test_dir)\n",
        "        test_i += 1\n",
        "        continue\n",
        "\n",
        "      save_image(img_path, i+test_img, temp_save_dir)\n",
        "      i += 1\n",
        "      if target_per_img > 0 or img_path in remainder:\n",
        "        img = tf.keras.preprocessing.image.load_img(img_path).resize((IMG_SIZE, IMG_SIZE))\n",
        "        img_array = tf.keras.preprocessing.image.img_to_array(img)\n",
        "        img_array = img_array.reshape((1,) + img_array.shape)\n",
        "\n",
        "        for batch in train_datagen.flow(img_array, batch_size=1):\n",
        "          temp = tf.keras.preprocessing.image.array_to_img(batch[0])\n",
        "          name = os.path.join(temp_save_dir, str(i+test_img) + '.jpg')\n",
        "          temp.save(name)\n",
        "          i += 1\n",
        "          j += 1\n",
        "\n",
        "          if (img_path in remainder and j == (target_per_img + 1)) or \\\n",
        "            (img_path not in remainder and j == target_per_img):\n",
        "              j = 0\n",
        "              break\n",
        "\n",
        "  # Undersampling\n",
        "  elif len(img_names) >= target_number + test_img:\n",
        "    target = 0\n",
        "    if max_target + test_img < len(img_names):\n",
        "      target = max_target + test_img\n",
        "    else:\n",
        "      target = len(img_names)\n",
        "    random_images = sample(img_names, k= target)\n",
        "    for i, img_path in enumerate(random_images):\n",
        "      if i < test_img:\n",
        "        save_image(img_path, i, temp_test_dir)\n",
        "      else:\n",
        "        save_image(img_path, i, temp_save_dir)\n"
      ]
    },
    {
      "cell_type": "code",
      "execution_count": null,
      "metadata": {
        "id": "y5Zb_-N2wnoM"
      },
      "outputs": [],
      "source": [
        "directory_list = os.listdir(save_directory)\n",
        "classes = np.empty((len(directory_list),1))\n",
        "\n",
        "for i, dir in enumerate(directory_list):\n",
        "  temp_dir = os.path.join(save_directory, dir)\n",
        "  classes[i] = len(os.listdir(temp_dir))\n",
        "\n",
        "plt.boxplot(classes)"
      ]
    },
    {
      "cell_type": "markdown",
      "metadata": {
        "id": "384hRxLYwnoN"
      },
      "source": [
        "# Batch Generators for Train and Validation Split / Test"
      ]
    },
    {
      "cell_type": "code",
      "execution_count": null,
      "metadata": {
        "id": "l4qxVJYgPCCv"
      },
      "outputs": [],
      "source": [
        "train_data = ImageDataGenerator(rescale=1/255,\n",
        "                                samplewise_center=True,\n",
        "                                validation_split=0.05)\n",
        "\n",
        "train_generator = train_data.flow_from_directory(save_directory,\n",
        "                                                 target_size = (IMG_SIZE, IMG_SIZE),\n",
        "                                                 batch_size=128,\n",
        "                                                 class_mode=\"categorical\",\n",
        "                                                 subset='training')\n",
        "\n",
        "valid_generator = train_data.flow_from_directory(save_directory, \n",
        "                                                 target_size = (IMG_SIZE, IMG_SIZE),\n",
        "                                                 batch_size=128,\n",
        "                                                 class_mode=\"categorical\",\n",
        "                                                 subset='validation')\n",
        "\n",
        "test_generator = train_data.flow_from_directory(test_directory,\n",
        "                                                target_size = (IMG_SIZE, IMG_SIZE),\n",
        "                                                batch_size=128,\n",
        "                                                class_mode=\"categorical\"\n",
        ")\n"
      ]
    },
    {
      "cell_type": "markdown",
      "metadata": {
        "id": "8uIMD1tRwnoN"
      },
      "source": [
        "# Transfer Learning"
      ]
    },
    {
      "cell_type": "code",
      "execution_count": null,
      "metadata": {
        "id": "ZkVlRutelOp_"
      },
      "outputs": [],
      "source": [
        "conv_base = ResNet50V2(weights='imagenet',\n",
        "                       include_top=False,\n",
        "                       input_shape=(IMG_SIZE, IMG_SIZE, 3))\n",
        "conv_base.summary()"
      ]
    },
    {
      "cell_type": "markdown",
      "metadata": {
        "id": "oYEdd1N_wnoN"
      },
      "source": [
        "# Build and Train Model"
      ]
    },
    {
      "cell_type": "code",
      "execution_count": null,
      "metadata": {
        "id": "7kJJMCa66pC0"
      },
      "outputs": [],
      "source": [
        "conv_base.trainable = False\n",
        "model = Sequential([\n",
        "    conv_base,\n",
        "    Flatten(),\n",
        "    # Dense(256, activation='relu'), # , kernel_initializer=tf.keras.initializers.HeUniform()\n",
        "    Dense(794, activation='softmax')                    \n",
        "])\n",
        "model.summary()"
      ]
    },
    {
      "cell_type": "code",
      "execution_count": null,
      "metadata": {
        "id": "AgQg_0NJ6tHA"
      },
      "outputs": [],
      "source": [
        "model.compile(loss='categorical_crossentropy', optimizer=optimizers.Adam(learning_rate=0.001), metrics=['acc', tf.keras.metrics.TopKCategoricalAccuracy(k=5)])"
      ]
    },
    {
      "cell_type": "code",
      "execution_count": null,
      "metadata": {
        "id": "4Fzo9crL608-"
      },
      "outputs": [],
      "source": [
        "history = model.fit(train_generator, steps_per_epoch=len(train_generator), epochs=2, validation_data=valid_generator, validation_steps=len(valid_generator))"
      ]
    },
    {
      "cell_type": "code",
      "execution_count": null,
      "metadata": {
        "id": "yCs-mQJROK13"
      },
      "outputs": [],
      "source": [
        "model.save('model11epchSimple.h5')"
      ]
    },
    {
      "cell_type": "code",
      "execution_count": null,
      "metadata": {
        "id": "tUG5Ec-TOQZe"
      },
      "outputs": [],
      "source": [
        "plt.subplot(1, 3, 1)\n",
        "plt.title(\"Loss\")\n",
        "plt.xlabel(\"Epochs\")\n",
        "plt.ylabel(\"Loss\")\n",
        "plt.plot(history.history[\"loss\"], label=\"Train\")\n",
        "plt.plot(history.history[\"val_loss\"], label=\"Validation\")\n",
        "plt.legend()\n",
        "\n",
        "plt.subplot(1, 3, 2)\n",
        "plt.title(\"Accuracy\")\n",
        "plt.xlabel(\"Epochs\")\n",
        "plt.ylabel(\"Categorical Accuracy\")\n",
        "plt.plot(history.history[\"acc\"], label=\"Train\")\n",
        "plt.plot(history.history[\"val_acc\"], label=\"Validation\")\n",
        "plt.legend()\n",
        "\n",
        "plt.subplot(1, 3, 3)\n",
        "plt.title(\"Accuracy Top 5\")\n",
        "plt.xlabel(\"Epochs\")\n",
        "plt.ylabel(\"Categorical Accuracy\")\n",
        "plt.plot(history.history[\"top_k_categorical_accuracy\"], label=\"Train\")\n",
        "plt.plot(history.history[\"val_top_k_categorical_accuracy\"], label=\"Validation\")\n",
        "plt.legend()"
      ]
    },
    {
      "cell_type": "code",
      "execution_count": null,
      "metadata": {
        "id": "8PB0Z_IQOVjo"
      },
      "outputs": [],
      "source": [
        "trained_model = load_model('model11epchSimple.h5')"
      ]
    },
    {
      "cell_type": "markdown",
      "metadata": {
        "id": "sNYqnXInOav6"
      },
      "source": [
        "# Fine Tuning"
      ]
    },
    {
      "cell_type": "code",
      "execution_count": null,
      "metadata": {
        "id": "usb-l3GmOaHf"
      },
      "outputs": [],
      "source": [
        "base_ResNet50V2 = trained_model.layers[0]\n",
        "base_ResNet50V2.trainable = False\n",
        "\n",
        "for layer in base_ResNet50V2.layers[154:]:\n",
        "    layer.trainable = True\n",
        "\n",
        "# Make sure you have unfrozen the correct layers\n",
        "for i, layer in enumerate(base_ResNet50V2.layers):\n",
        "    print(i, layer.name, layer.trainable)"
      ]
    },
    {
      "cell_type": "code",
      "execution_count": null,
      "metadata": {
        "id": "jfkumsYZOgSJ"
      },
      "outputs": [],
      "source": [
        "trained_model.compile(loss='categorical_crossentropy', optimizer=tf.optimizers.Adam(learning_rate=0.00001), metrics=['acc', tf.keras.metrics.TopKCategoricalAccuracy(k=5)])"
      ]
    },
    {
      "cell_type": "code",
      "execution_count": null,
      "metadata": {
        "id": "X7YtSG4iOiBL"
      },
      "outputs": [],
      "source": [
        "history2 = trained_model.fit(train_generator, steps_per_epoch=len(train_generator), epochs=3, validation_data=valid_generator, validation_steps=len(valid_generator))"
      ]
    },
    {
      "cell_type": "code",
      "execution_count": null,
      "metadata": {
        "id": "0sd8LDh3Opfv"
      },
      "outputs": [],
      "source": [
        "plt.subplot(1, 3, 1)\n",
        "plt.title(\"Loss\")\n",
        "plt.xlabel(\"Epochs\")\n",
        "plt.ylabel(\"Loss\")\n",
        "plt.plot(history2.history[\"loss\"], label=\"Train\")\n",
        "plt.plot(history2.history[\"val_loss\"], label=\"Validation\")\n",
        "plt.legend()\n",
        "\n",
        "plt.subplot(1, 3, 2)\n",
        "plt.title(\"Accuracy\")\n",
        "plt.xlabel(\"Epochs\")\n",
        "plt.ylabel(\"Categorical Accuracy\")\n",
        "plt.plot(history2.history[\"acc\"], label=\"Train\")\n",
        "plt.plot(history2.history[\"val_acc\"], label=\"Validation\")\n",
        "plt.legend()\n",
        "\n",
        "plt.subplot(1, 3, 3)\n",
        "plt.title(\"Accuracy Top 5\")\n",
        "plt.xlabel(\"Epochs\")\n",
        "plt.ylabel(\"Categorical Accuracy\")\n",
        "plt.plot(history2.history[\"top_k_categorical_accuracy\"], label=\"Train\")\n",
        "plt.plot(history2.history[\"val_top_k_categorical_accuracy\"], label=\"Validation\")\n",
        "plt.legend()"
      ]
    },
    {
      "cell_type": "code",
      "execution_count": null,
      "metadata": {
        "id": "umDWMhl-Orvs"
      },
      "outputs": [],
      "source": [
        "model.save('modelFT3Simple.h5')"
      ]
    },
    {
      "cell_type": "markdown",
      "metadata": {
        "id": "4uodcgjMwnoO"
      },
      "source": [
        "# Test Model"
      ]
    },
    {
      "cell_type": "code",
      "execution_count": null,
      "metadata": {
        "id": "O5zXiGCCwnoO"
      },
      "outputs": [],
      "source": [
        "model.evaluate(test_generator)"
      ]
    }
  ],
  "metadata": {
    "accelerator": "GPU",
    "colab": {
      "provenance": []
    },
    "gpuClass": "standard",
    "kernelspec": {
      "display_name": "Python 3.9.4 ('DeepLearning')",
      "language": "python",
      "name": "python3"
    },
    "language_info": {
      "codemirror_mode": {
        "name": "ipython",
        "version": 3
      },
      "file_extension": ".py",
      "mimetype": "text/x-python",
      "name": "python",
      "nbconvert_exporter": "python",
      "pygments_lexer": "ipython3",
      "version": "3.9.4"
    },
    "vscode": {
      "interpreter": {
        "hash": "e12bd3515ad6308560b9da1cdafdc9333df856e81b097d94b470e80042629d29"
      }
    }
  },
  "nbformat": 4,
  "nbformat_minor": 0
}